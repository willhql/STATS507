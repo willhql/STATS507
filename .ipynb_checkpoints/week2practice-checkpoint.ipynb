{
 "cells": [
  {
   "cell_type": "markdown",
   "metadata": {
    "deletable": false,
    "editable": false,
    "nbgrader": {
     "cell_type": "markdown",
     "checksum": "a4ee41d95a38a1ee047a3deb59a65d5b",
     "grade": false,
     "grade_id": "cell-1fcda714571d6a1a",
     "locked": true,
     "schema_version": 3,
     "solution": false,
     "task": false
    }
   },
   "source": [
    "### Week 2 Practice Problems"
   ]
  },
  {
   "cell_type": "markdown",
   "metadata": {
    "deletable": false,
    "editable": false,
    "nbgrader": {
     "cell_type": "markdown",
     "checksum": "d4fc188e46f46cbe70f8b954fef666d6",
     "grade": false,
     "grade_id": "cell-dd1bbbd9bc290f16",
     "locked": true,
     "schema_version": 3,
     "solution": false,
     "task": false
    }
   },
   "source": [
    "### Problem 1\n",
    "\n",
    "Write a function named `sum_naturals_while` that takes one argument `n` and use a `while` loop to compute the sum of the first $n$ natural numbers (starting with $1$)."
   ]
  },
  {
   "cell_type": "code",
   "execution_count": 1,
   "metadata": {
    "deletable": false,
    "nbgrader": {
     "cell_type": "code",
     "checksum": "6dcacb391bc364596a78254c8e84bf49",
     "grade": false,
     "grade_id": "cell-4bb698675956e267",
     "locked": false,
     "schema_version": 3,
     "solution": true,
     "task": false
    }
   },
   "outputs": [],
   "source": [
    "def sum_naturals_while(n):\n",
    "# YOUR CODE HERE\n",
    "    while n > 1:\n",
    "        s += n\n",
    "        n-1\n",
    "    print(s)\n",
    "sum_naturals_while(n)\n",
    "#raise NotImplementedError()"
   ]
  },
  {
   "cell_type": "code",
   "execution_count": null,
   "metadata": {
    "deletable": false,
    "editable": false,
    "nbgrader": {
     "cell_type": "code",
     "checksum": "c55830b17fc4391b31b283b63844a4db",
     "grade": true,
     "grade_id": "cell-fa8ec027a3360605",
     "locked": true,
     "points": 1,
     "schema_version": 3,
     "solution": false,
     "task": false
    }
   },
   "outputs": [],
   "source": [
    "assert sum_naturals_while(1) == 1\n",
    "assert sum_naturals_while(2) == 3\n",
    "assert sum_naturals_while(3) == 6"
   ]
  },
  {
   "cell_type": "markdown",
   "metadata": {
    "deletable": false,
    "editable": false,
    "nbgrader": {
     "cell_type": "markdown",
     "checksum": "6d34f1ba10661f8b01d3ff57f9c4b79a",
     "grade": false,
     "grade_id": "cell-80eb074656cfb36f",
     "locked": true,
     "schema_version": 3,
     "solution": false,
     "task": false
    }
   },
   "source": [
    "### Problem 2\n",
    "\n",
    "Write a function named `sum_naturals_recur` that takes one argument `n` and uses recursion to compute the sum of the first $n$ natural numbers (starting with $1$)."
   ]
  },
  {
   "cell_type": "code",
   "execution_count": null,
   "metadata": {
    "deletable": false,
    "nbgrader": {
     "cell_type": "code",
     "checksum": "a377ba97f914c49b5291d6b2ac5440c6",
     "grade": false,
     "grade_id": "cell-e179234ab8d135f8",
     "locked": false,
     "schema_version": 3,
     "solution": true,
     "task": false
    }
   },
   "outputs": [],
   "source": [
    "def sum_naturals_recur(n):\n",
    "# YOUR CODE HERE\n",
    "raise NotImplementedError()"
   ]
  },
  {
   "cell_type": "code",
   "execution_count": null,
   "metadata": {
    "deletable": false,
    "editable": false,
    "nbgrader": {
     "cell_type": "code",
     "checksum": "fdc605175be281257e304207074b1f04",
     "grade": true,
     "grade_id": "cell-4924780b8c13e9f2",
     "locked": true,
     "points": 1,
     "schema_version": 3,
     "solution": false,
     "task": false
    }
   },
   "outputs": [],
   "source": [
    "assert sum_naturals_recur(1) == 1\n",
    "assert sum_naturals_recur(2) == 3\n",
    "assert sum_naturals_recur(3) == 6"
   ]
  }
 ],
 "metadata": {
  "kernelspec": {
   "display_name": "Python 3",
   "language": "python",
   "name": "python3"
  },
  "language_info": {
   "codemirror_mode": {
    "name": "ipython",
    "version": 3
   },
   "file_extension": ".py",
   "mimetype": "text/x-python",
   "name": "python",
   "nbconvert_exporter": "python",
   "pygments_lexer": "ipython3",
   "version": "3.9.1"
  }
 },
 "nbformat": 4,
 "nbformat_minor": 4
}
