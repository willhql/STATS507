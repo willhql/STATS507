{
 "cells": [
  {
   "cell_type": "markdown",
   "metadata": {
    "deletable": false,
    "editable": false,
    "nbgrader": {
     "cell_type": "markdown",
     "checksum": "bed5f947d803663c1cc56388c91df6e1",
     "grade": false,
     "grade_id": "cell-341626df9780dcd2",
     "locked": true,
     "schema_version": 3,
     "solution": false,
     "task": false
    }
   },
   "source": [
    "# Homework 5 (28 points)"
   ]
  },
  {
   "cell_type": "markdown",
   "metadata": {},
   "source": [
    "name: XX\n",
    "\n",
    "email: XX@umich.edu\n",
    "\n",
    "This homework assignment took me XX hours in total to complete. (Please help us to gauge the difficulty of the assignment.)"
   ]
  },
  {
   "cell_type": "markdown",
   "metadata": {
    "deletable": false,
    "editable": false,
    "nbgrader": {
     "cell_type": "markdown",
     "checksum": "dcd41b0916cd2e2b3552fd65ff6fd51f",
     "grade": false,
     "grade_id": "cell-9fc8abaaecff0e9a",
     "locked": true,
     "schema_version": 3,
     "solution": false,
     "task": false
    }
   },
   "source": [
    "## Collaboration Disclosure\n",
    "\n",
    "In the cell below, please list *everyone* with whom you discussed any of the homework problems, excluding only the GSIs and the course instructor. \n",
    "\n",
    "If you did not discuss the homework with anyone else, write __\"I did not discuss this homework with anyone.\"__\n",
    "\n",
    "Even if you discuss questions with other, the code you submit must be only yours. All work is checked with the [MOSS plagiarism detector](https://theory.stanford.edu/~aiken/moss/)."
   ]
  },
  {
   "cell_type": "markdown",
   "metadata": {},
   "source": [
    "I discussed XX with XX. "
   ]
  },
  {
   "cell_type": "markdown",
   "metadata": {
    "deletable": false,
    "editable": false,
    "nbgrader": {
     "cell_type": "markdown",
     "checksum": "67d1cebd5332a880b36d813916b69dbe",
     "grade": false,
     "grade_id": "submission",
     "locked": true,
     "schema_version": 3,
     "solution": false,
     "task": false
    }
   },
   "source": [
    "## Submission Instructions\n",
    "Your homework solutions should be written entirely in this Jupyter notebook file. Once it contains your solutions, you should submit this notebook through Canvas. Before submitting, please make sure make sure __Cells->Run__ executes without errors; errors in your code cause problems for our auto-grader. Thus, even though we may ask you to check for errors in your functions, you should not include in your submission any examples of your functions actually raising those errors.\n",
    "\n",
    "## Nbgrader\n",
    "\n",
    "We will be using `nbgrader` to grade your jupyter notebook. Additional tests will be used at grading time, you are encouraged to read the problem carefully and verify your code covers all appropriate cases.\n",
    "\n",
    "**Be careful:** If a jupyter notebook cell takes longer than `60s` to run, the autograder will not grade it and you will receive zero credit for that question.\n",
    "\n",
    "## Error checking\n",
    "\n",
    "You do not need to do error checking (raising errors, etc.) in your code unless we explicitly ask you to so in a problem."
   ]
  },
  {
   "cell_type": "markdown",
   "metadata": {
    "deletable": false,
    "editable": false,
    "nbgrader": {
     "cell_type": "markdown",
     "checksum": "99a4b1f52b2a51fd259655608d2d5669",
     "grade": false,
     "grade_id": "coding-style",
     "locked": true,
     "schema_version": 3,
     "solution": false,
     "task": false
    }
   },
   "source": [
    "## Coding style\n",
    "Please follow the [PEP8 guidelines](https://www.python.org/dev/peps/pep-0008/). The `pycodestyle_magic` package will remind you if you are not. To install it, run\n",
    "```\n",
    "pip install flake8 pycodestyle_magic\n",
    "```\n",
    "Once it is installed the following two Jupyter directives will enable syntax checking:"
   ]
  },
  {
   "cell_type": "code",
   "execution_count": null,
   "metadata": {
    "deletable": false,
    "editable": false,
    "nbgrader": {
     "cell_type": "code",
     "checksum": "11f994a1204f00eb8ea040c864033a8d",
     "grade": false,
     "grade_id": "cell-7311e8da28736726",
     "locked": true,
     "schema_version": 3,
     "solution": false,
     "task": false
    }
   },
   "outputs": [],
   "source": [
    "%load_ext pycodestyle_magic\n",
    "%flake8_on --ignore E266 --max_line_length 99"
   ]
  },
  {
   "cell_type": "code",
   "execution_count": null,
   "metadata": {},
   "outputs": [],
   "source": [
    "import numpy as np\n",
    "import itertools\n",
    "import functools\n",
    "import random\n",
    "import math\n",
    "import scipy.special"
   ]
  },
  {
   "cell_type": "markdown",
   "metadata": {
    "deletable": false,
    "editable": false,
    "nbgrader": {
     "cell_type": "markdown",
     "checksum": "e558d031bf923d741efe17c77f0c73d6",
     "grade": false,
     "grade_id": "cell-f872858c60d5851a",
     "locked": true,
     "schema_version": 3,
     "solution": false,
     "task": false
    }
   },
   "source": [
    "### Problem 1: Basic Review Questions (9 points)\n",
    "\n",
    "1. <b>(2 points)</b> Write a function called `collatz` takes a positive integer `num` as its argument, and returns a list. Your function should perform appropriate error checking for it. The list is generated as follows: The first element of the list is `num`. Continue doing the following things: if the last element of the list, `number`, is even, then the next element of the list is `number` / 2; if the last element of the list, `number`, is odd, then the next element of the list is 3 * number + 1. Stop when the last element of the list is 1. (Note: We guarantee the length of the list is finite.)"
   ]
  },
  {
   "cell_type": "code",
   "execution_count": null,
   "metadata": {
    "deletable": false,
    "nbgrader": {
     "cell_type": "code",
     "checksum": "3f58c9e4c71184935f37345b8ec9e3dd",
     "grade": false,
     "grade_id": "cell-108419d75c8da43a",
     "locked": false,
     "schema_version": 3,
     "solution": true,
     "task": false
    }
   },
   "outputs": [],
   "source": [
    "def collatz(num):\n",
    "    # YOUR CODE HERE\n",
    "    raise NotImplementedError()"
   ]
  },
  {
   "cell_type": "code",
   "execution_count": null,
   "metadata": {
    "deletable": false,
    "editable": false,
    "nbgrader": {
     "cell_type": "code",
     "checksum": "fde928f87a5967d242c0de9f78f58cba",
     "grade": true,
     "grade_id": "collatz",
     "locked": true,
     "points": 0.5,
     "schema_version": 3,
     "solution": false,
     "task": false
    }
   },
   "outputs": [],
   "source": [
    "assert collatz(3) == [3, 10, 5, 16, 8, 4, 2, 1]"
   ]
  },
  {
   "cell_type": "code",
   "execution_count": null,
   "metadata": {
    "deletable": false,
    "editable": false,
    "nbgrader": {
     "cell_type": "code",
     "checksum": "9bf163726d94ef63f9081c0a42a7a6d0",
     "grade": true,
     "grade_id": "collatz-value-error",
     "locked": true,
     "points": 0.5,
     "schema_version": 3,
     "solution": false,
     "task": false
    }
   },
   "outputs": [],
   "source": [
    "assert type(collatz(5)) == list"
   ]
  },
  {
   "cell_type": "code",
   "execution_count": null,
   "metadata": {
    "deletable": false,
    "editable": false,
    "nbgrader": {
     "cell_type": "code",
     "checksum": "663a3d1a7b9e2392833623c1f5182963",
     "grade": true,
     "grade_id": "collatz-type-error",
     "locked": true,
     "points": 0.5,
     "schema_version": 3,
     "solution": false,
     "task": false
    }
   },
   "outputs": [],
   "source": [
    "try:\n",
    "    collatz(-1)\n",
    "\n",
    "except ValueError:\n",
    "    pass\n",
    "\n",
    "else:\n",
    "    raise AssertionError(\"Function allows for negative int as input but it shouldn't.\")"
   ]
  },
  {
   "cell_type": "code",
   "execution_count": null,
   "metadata": {
    "deletable": false,
    "editable": false,
    "nbgrader": {
     "cell_type": "code",
     "checksum": "835f552decdbcf4b54d3fd8ba586119d",
     "grade": true,
     "grade_id": "cell-d6cb9403c8069e69",
     "locked": true,
     "points": 0.5,
     "schema_version": 3,
     "solution": false,
     "task": false
    }
   },
   "outputs": [],
   "source": [
    "assert collatz(2) == [2, 1]"
   ]
  },
  {
   "cell_type": "markdown",
   "metadata": {
    "deletable": false,
    "editable": false,
    "nbgrader": {
     "cell_type": "markdown",
     "checksum": "0ea4494819c6c6b492c39c2e9dd63717",
     "grade": false,
     "grade_id": "cell-717b29cbe1b171eb",
     "locked": true,
     "schema_version": 3,
     "solution": false,
     "task": false
    }
   },
   "source": [
    "2. <b>(1.5 points)</b> __Casino Game:__ This game in the casino consists of tossing a die with N faces twice. There is a number written on each face of the die (these numbers are not necessarily distinct). In order to win, you must get the number $A$ on the first toss and the number $B$ on the second toss of the die. The excited viewers want to know the probability that you will win the game. Define a function `casino_game` that takes a list of integers  `n`, an integer `a` and an integer `b` as its arguments and returns the probability that you win the game. Your function should perform appropriate error checking. Assume that you get each face of the die with the same probability on each toss and that tosses are mutually independent."
   ]
  },
  {
   "cell_type": "code",
   "execution_count": null,
   "metadata": {
    "deletable": false,
    "nbgrader": {
     "cell_type": "code",
     "checksum": "7271c2e21808473635329ee2707666da",
     "grade": false,
     "grade_id": "cell-611c0aafe5caa0cc",
     "locked": false,
     "schema_version": 3,
     "solution": true,
     "task": false
    }
   },
   "outputs": [],
   "source": [
    "def casino_game(n, a, b):\n",
    "    # YOUR CODE HERE\n",
    "    raise NotImplementedError()"
   ]
  },
  {
   "cell_type": "code",
   "execution_count": null,
   "metadata": {
    "deletable": false,
    "editable": false,
    "nbgrader": {
     "cell_type": "code",
     "checksum": "722b1cc755f7df9fde227d8a30857cef",
     "grade": true,
     "grade_id": "casino-game-easy",
     "locked": true,
     "points": 0.5,
     "schema_version": 3,
     "solution": false,
     "task": false
    }
   },
   "outputs": [],
   "source": [
    "assert casino_game([1, 2, 3, 4], 1, 1) == 0.0625"
   ]
  },
  {
   "cell_type": "code",
   "execution_count": null,
   "metadata": {
    "deletable": false,
    "editable": false,
    "nbgrader": {
     "cell_type": "code",
     "checksum": "ca6c36ef91603a581ce6803f558a7274",
     "grade": true,
     "grade_id": "cell-42f199155837eb9e",
     "locked": true,
     "points": 0.5,
     "schema_version": 3,
     "solution": false,
     "task": false
    }
   },
   "outputs": [],
   "source": [
    "assert casino_game([0, 0, 0, 0, 0, 0, 0, 0, 0, 0, 0, 0], 0, 0) == 1.0"
   ]
  },
  {
   "cell_type": "code",
   "execution_count": null,
   "metadata": {
    "deletable": false,
    "editable": false,
    "nbgrader": {
     "cell_type": "code",
     "checksum": "fdd5120993bf410d01f0824639a805fb",
     "grade": true,
     "grade_id": "casino-game-type-errors",
     "locked": true,
     "points": 0.5,
     "schema_version": 3,
     "solution": false,
     "task": false
    }
   },
   "outputs": [],
   "source": [
    "try:\n",
    "    casino_game(0, 1, 1)\n",
    "\n",
    "except TypeError:\n",
    "    pass\n",
    "\n",
    "else:\n",
    "    raise AssertionError(\"Function allows for int input where a list is expected.\")"
   ]
  },
  {
   "cell_type": "markdown",
   "metadata": {
    "deletable": false,
    "editable": false,
    "nbgrader": {
     "cell_type": "markdown",
     "checksum": "da752b6e9fe0601c1103895b11aeae54",
     "grade": false,
     "grade_id": "cell-188f60a9744bc73d",
     "locked": true,
     "schema_version": 3,
     "solution": false,
     "task": false
    }
   },
   "source": [
    "3. <b>(2 points)</b> Write a function `dict_comp` that takes a positive integer `n` as its argument and returns a dictionary that contains the numbers (between 1 and `n`) as its keys and the first `n` composite numbers as its values. Your function should perform appropriate error checking for it. Recall that a composite number is any integer $p > 1$ which is not prime; therefore, 4 is the first composite number."
   ]
  },
  {
   "cell_type": "code",
   "execution_count": null,
   "metadata": {
    "deletable": false,
    "nbgrader": {
     "cell_type": "code",
     "checksum": "33b03db0b1bb92d53d556f5855d47555",
     "grade": false,
     "grade_id": "cell-5129b62a1c02655b",
     "locked": false,
     "schema_version": 3,
     "solution": true,
     "task": false
    }
   },
   "outputs": [],
   "source": [
    "# YOUR CODE HERE\n",
    "raise NotImplementedError()"
   ]
  },
  {
   "cell_type": "code",
   "execution_count": null,
   "metadata": {
    "deletable": false,
    "editable": false,
    "nbgrader": {
     "cell_type": "code",
     "checksum": "60756d03b3cbc04255f67efde8929986",
     "grade": true,
     "grade_id": "dict-comp-easy",
     "locked": true,
     "points": 0.5,
     "schema_version": 3,
     "solution": false,
     "task": false
    }
   },
   "outputs": [],
   "source": [
    "assert dict_comp(5) == {1: 4, 2: 6, 3: 8, 4: 9, 5: 10}"
   ]
  },
  {
   "cell_type": "code",
   "execution_count": null,
   "metadata": {
    "deletable": false,
    "editable": false,
    "nbgrader": {
     "cell_type": "code",
     "checksum": "be3bc248bfee876586e918e2a4143cd5",
     "grade": true,
     "grade_id": "dict-comp-hard",
     "locked": true,
     "points": 0.5,
     "schema_version": 3,
     "solution": false,
     "task": false
    }
   },
   "outputs": [],
   "source": [
    "assert type(dict_comp(3)) == dict"
   ]
  },
  {
   "cell_type": "code",
   "execution_count": null,
   "metadata": {
    "deletable": false,
    "editable": false,
    "nbgrader": {
     "cell_type": "code",
     "checksum": "b0e7fd1180f3e07d273f03c1e3ad9e46",
     "grade": true,
     "grade_id": "dict-type-errors",
     "locked": true,
     "points": 0.5,
     "schema_version": 3,
     "solution": false,
     "task": false
    }
   },
   "outputs": [],
   "source": [
    "try:\n",
    "    dict_comp([0])\n",
    "\n",
    "except TypeError:\n",
    "    pass\n",
    "\n",
    "else:\n",
    "    raise AssertionError(\"Function allows for string input where an int is expected.\")"
   ]
  },
  {
   "cell_type": "code",
   "execution_count": null,
   "metadata": {
    "deletable": false,
    "editable": false,
    "nbgrader": {
     "cell_type": "code",
     "checksum": "1a9ef8d9b1245d271e7bc54703926992",
     "grade": true,
     "grade_id": "dict-value-errors",
     "locked": true,
     "points": 0.5,
     "schema_version": 3,
     "solution": false,
     "task": false
    }
   },
   "outputs": [],
   "source": [
    "try:\n",
    "    dict_comp(0)\n",
    "\n",
    "except ValueError:\n",
    "    pass\n",
    "\n",
    "else:\n",
    "    raise AssertionError(\"Value allows for input that is not a positive integer.\")"
   ]
  },
  {
   "cell_type": "markdown",
   "metadata": {
    "deletable": false,
    "editable": false,
    "nbgrader": {
     "cell_type": "markdown",
     "checksum": "7e9f578b84497b4b5f20d62f15fab2bb",
     "grade": false,
     "grade_id": "cell-d6a2bafd42293d76",
     "locked": true,
     "schema_version": 3,
     "solution": false,
     "task": false
    }
   },
   "source": [
    "4. <b>(1 point)</b> Write a one-line expression that computes the sum of the first 10 even square numbers (starting from $2^2$). For ease of grading, please assign the output of this expression to a variable called `even_squares`. Please make sure that the cell that defines even_squares is the one directly above the test case for this question."
   ]
  },
  {
   "cell_type": "code",
   "execution_count": null,
   "metadata": {
    "deletable": false,
    "nbgrader": {
     "cell_type": "code",
     "checksum": "f2d2aa5a7da1c8b865f1dad82e554e41",
     "grade": false,
     "grade_id": "even-squares",
     "locked": false,
     "schema_version": 3,
     "solution": true,
     "task": false
    }
   },
   "outputs": [],
   "source": [
    "# YOUR CODE HERE\n",
    "raise NotImplementedError()"
   ]
  },
  {
   "cell_type": "code",
   "execution_count": null,
   "metadata": {
    "deletable": false,
    "editable": false,
    "nbgrader": {
     "cell_type": "code",
     "checksum": "4836fe8ee416cdf55591ecbce53e821c",
     "grade": true,
     "grade_id": "cell-6f5cd818d00af6fd",
     "locked": true,
     "points": 1,
     "schema_version": 3,
     "solution": false,
     "task": false
    }
   },
   "outputs": [],
   "source": [
    "# Make sure that the cell that defines even_squares is directly above this one.\n",
    "assert type(even_squares) == int or type(even_squares) == float"
   ]
  },
  {
   "cell_type": "markdown",
   "metadata": {
    "deletable": false,
    "editable": false,
    "nbgrader": {
     "cell_type": "markdown",
     "checksum": "821951907ce7a5a0140d0b57d729a461",
     "grade": false,
     "grade_id": "cell-91ee2c0e84497a83",
     "locked": true,
     "schema_version": 3,
     "solution": false,
     "task": false
    }
   },
   "source": [
    "5. <b>(1 point)</b> Write a generator expression that enumerates the tetrahedral numbers. The n-th tetrahedral number ($n = 1,\\ 2,\\ \\cdots$) is given by $Tn = \\binom{n+2}{3}$， where $\\binom{x}{y}$ is the binomial coefficient\n",
    "$$\\binom{x}{y} = \\frac{x!}{y!(x-y)!}$$\n",
    "For ease of grading, please assign this generator expression to a variable called `tetra`. Hint: you may find it useful to define a generator that enumerates the positive integers."
   ]
  },
  {
   "cell_type": "code",
   "execution_count": null,
   "metadata": {
    "deletable": false,
    "nbgrader": {
     "cell_type": "code",
     "checksum": "b5069e1d1d8288b086e5fe1e216ffb00",
     "grade": false,
     "grade_id": "cell-2ade7aa604144668",
     "locked": false,
     "schema_version": 3,
     "solution": true,
     "task": false
    }
   },
   "outputs": [],
   "source": [
    "# YOUR CODE HERE\n",
    "raise NotImplementedError()"
   ]
  },
  {
   "cell_type": "code",
   "execution_count": null,
   "metadata": {
    "deletable": false,
    "editable": false,
    "nbgrader": {
     "cell_type": "code",
     "checksum": "10b4e8d7a47a0439c715f9925f265f9f",
     "grade": true,
     "grade_id": "tetra",
     "locked": true,
     "points": 1,
     "schema_version": 3,
     "solution": false,
     "task": false
    }
   },
   "outputs": [],
   "source": [
    "import types\n",
    "assert isinstance(tetra, types.GeneratorType)"
   ]
  },
  {
   "cell_type": "markdown",
   "metadata": {
    "deletable": false,
    "editable": false,
    "nbgrader": {
     "cell_type": "markdown",
     "checksum": "357da176dfc5794267ffa360acb02c79",
     "grade": false,
     "grade_id": "cell-655ad102c67b798c",
     "locked": true,
     "schema_version": 3,
     "solution": false,
     "task": false
    }
   },
   "source": [
    "6. <b>(1.5 points)</b> You are given a string `s`, which contains alphanumeric characters only (this means you can assume that the string will have no spaces nor punctuation). Your task is to sort the string `s` in the following manner:  \n",
    " - All sorted lowercase letters are ahead of uppercase letters.\n",
    " - All sorted uppercase letters are ahead of digits.\n",
    " - All sorted odd digits are ahead of sorted even digits.\n",
    "\n",
    "Write a function called `sort_str`, which takes the string `s` as its argument, and return the result. Your function should perform appropriate error checking for the input."
   ]
  },
  {
   "cell_type": "code",
   "execution_count": null,
   "metadata": {
    "deletable": false,
    "nbgrader": {
     "cell_type": "code",
     "checksum": "d174297b49a1bdc4e74d371f6b7d0c6f",
     "grade": false,
     "grade_id": "cell-752e6972babe6b23",
     "locked": false,
     "schema_version": 3,
     "solution": true,
     "task": false
    }
   },
   "outputs": [],
   "source": [
    "def sort_str(s):\n",
    "    # YOUR CODE HERE\n",
    "    raise NotImplementedError()"
   ]
  },
  {
   "cell_type": "code",
   "execution_count": null,
   "metadata": {
    "deletable": false,
    "editable": false,
    "nbgrader": {
     "cell_type": "code",
     "checksum": "8be6b7071237198f59b454e0108c1f49",
     "grade": true,
     "grade_id": "sort-str",
     "locked": true,
     "points": 1,
     "schema_version": 3,
     "solution": false,
     "task": false
    }
   },
   "outputs": [],
   "source": [
    "assert sort_str('Sorting1234') == 'ginortS1324'"
   ]
  },
  {
   "cell_type": "code",
   "execution_count": null,
   "metadata": {
    "deletable": false,
    "editable": false,
    "nbgrader": {
     "cell_type": "code",
     "checksum": "36f4feacb74fe8e622ae3c268e18515c",
     "grade": true,
     "grade_id": "sort-str-type-error",
     "locked": true,
     "points": 0.5,
     "schema_version": 3,
     "solution": false,
     "task": false
    }
   },
   "outputs": [],
   "source": [
    "try:\n",
    "    sort_str(123,)\n",
    "\n",
    "except TypeError:\n",
    "    pass\n",
    "\n",
    "else:\n",
    "    raise AssertionError(\"Function allows for int input where string inputs is expected.\")"
   ]
  },
  {
   "cell_type": "markdown",
   "metadata": {
    "deletable": false,
    "editable": false,
    "nbgrader": {
     "cell_type": "markdown",
     "checksum": "9207a5cb4e39073b7a822b0cbbf755e5",
     "grade": false,
     "grade_id": "cell-e8160d0dafca0001",
     "locked": true,
     "schema_version": 3,
     "solution": false,
     "task": false
    }
   },
   "source": [
    "### Problem 2: Fantasy Game (5 points)\n",
    "1. <b>(2 points)</b> __Fantasy Game Inventory:__ You are creating a fantasy video game. The data structure to model the player’s inventory will be a dictionary where the keys are string values describing the item in the inventory and the value is an integer value detailing how many of that item the player has. For example, the dictionary value `{'rope': 1, 'torch': 6, 'gold coin': 42, 'dagger': 1, 'arrow': 12}` means the player has 1 rope, 6 torches, 42 gold coins, and so on. Write a function named `displayInventory` that takes a dictionary `inventory` as its argument and prints out the inventory line by line. Using the example dictionary, it should print it out EXACTLY like the following:\n",
    "\n",
    "Inventory: <br>\n",
    "12 arrow <br>\n",
    "42 gold coin <br>\n",
    "1 rope <br>\n",
    "6 torch <br>\n",
    "1 dagger <br>\n",
    "Total number of items: 62 <br>\n",
    "\n",
    "__Note:__ Your function should raise TypeError if the input is not a dictionary.\n",
    "\n",
    "__Note:__ You will not be graded on the order of the inventory items. The only print order that matters is that \"Inventory:\" is printed before all of the items and the total is printed after all of the items. Everything in between can occur in any order so long as it is accurate."
   ]
  },
  {
   "cell_type": "code",
   "execution_count": null,
   "metadata": {
    "deletable": false,
    "nbgrader": {
     "cell_type": "code",
     "checksum": "5e68e652be1d738dafeacd9779409bbf",
     "grade": false,
     "grade_id": "cell-d6b22abac7bcf9ea",
     "locked": false,
     "schema_version": 3,
     "solution": true,
     "task": false
    }
   },
   "outputs": [],
   "source": [
    "def display_inventory(inventory):\n",
    "    # YOUR CODE HERE\n",
    "    raise NotImplementedError()"
   ]
  },
  {
   "cell_type": "code",
   "execution_count": null,
   "metadata": {
    "deletable": false,
    "editable": false,
    "nbgrader": {
     "cell_type": "code",
     "checksum": "db460727b2514e25831fb65e98c5d2c4",
     "grade": true,
     "grade_id": "display-inventory",
     "locked": true,
     "points": 1,
     "schema_version": 3,
     "solution": false,
     "task": false
    }
   },
   "outputs": [],
   "source": [
    "inventory = {'rope': 1, 'torch': 6, 'gold coin': 42, 'dagger': 1, 'arrow': 12, 'map fragments': 3}\n",
    "assert display_inventory(inventory) is None"
   ]
  },
  {
   "cell_type": "code",
   "execution_count": null,
   "metadata": {
    "deletable": false,
    "editable": false,
    "nbgrader": {
     "cell_type": "code",
     "checksum": "3b5b929d76ba258f427763a7f5dc0fb9",
     "grade": true,
     "grade_id": "display-error",
     "locked": true,
     "points": 1,
     "schema_version": 3,
     "solution": false,
     "task": false
    }
   },
   "outputs": [],
   "source": [
    "try:\n",
    "    display_inventory([\"1: rope\", \"2: torch\"])\n",
    "\n",
    "except TypeError:\n",
    "    pass\n",
    "\n",
    "else:\n",
    "    raise AssertionError(\"Input of list doesn't raise proper error.\")"
   ]
  },
  {
   "cell_type": "markdown",
   "metadata": {
    "deletable": false,
    "editable": false,
    "nbgrader": {
     "cell_type": "markdown",
     "checksum": "a70c8135887213cc170697ec5d467c3a",
     "grade": false,
     "grade_id": "cell-9b3bb848dcd086f4",
     "locked": true,
     "schema_version": 3,
     "solution": false,
     "task": false
    }
   },
   "source": [
    "2. <b>(3 points)</b> __List to Dictionary Function for Fantasy Game Inventory:__ Imagine that a vanquished dragon’s loot is represented as a list of strings like this: `dragonLoot = ['gold coin', 'dagger', 'gold coin', 'gold coin', 'ruby']`. Write a function named `addToInventory(inventory, added_items)`, where the `inventory` argument is a dictionary representing the player’s inventory (like in the previous question) and the `added_items` argument is a list like dragonLoot. Your function should check to make sure that the types of the input are appropriate (e.g., that inventory is a dictionary and addedItems should be a list of strings). The `addToInventory` function should return a dictionary that represents the updated inventory. __Note:__ the addedItems list can contain multiples of the same item."
   ]
  },
  {
   "cell_type": "code",
   "execution_count": null,
   "metadata": {
    "deletable": false,
    "nbgrader": {
     "cell_type": "code",
     "checksum": "67a57b2b025cb1368d77b4e95a0b1b26",
     "grade": false,
     "grade_id": "cell-d0f5b2d73004c4e5",
     "locked": false,
     "schema_version": 3,
     "solution": true,
     "task": false
    }
   },
   "outputs": [],
   "source": [
    "def add_to_inventory(inventory, added_items):\n",
    "    # YOUR CODE HERE\n",
    "    raise NotImplementedError()"
   ]
  },
  {
   "cell_type": "code",
   "execution_count": null,
   "metadata": {
    "deletable": false,
    "editable": false,
    "nbgrader": {
     "cell_type": "code",
     "checksum": "34e15ab1d4ef17dd25a685f8312db594",
     "grade": true,
     "grade_id": "add-to-inv-easy",
     "locked": true,
     "points": 1,
     "schema_version": 3,
     "solution": false,
     "task": false
    }
   },
   "outputs": [],
   "source": [
    "inv = {'gold coin': 42, 'rope': 1}\n",
    "dragon_loot = ['gold coin', 'dagger', 'ruby']\n",
    "assert add_to_inventory(inv, dragon_loot) == {'dagger': 1, 'gold coin': 43, 'rope': 1, 'ruby': 1}"
   ]
  },
  {
   "cell_type": "code",
   "execution_count": null,
   "metadata": {
    "deletable": false,
    "editable": false,
    "nbgrader": {
     "cell_type": "code",
     "checksum": "16d303b565a295eabee23316d470074c",
     "grade": true,
     "grade_id": "add-to-inv-hard",
     "locked": true,
     "points": 1,
     "schema_version": 3,
     "solution": false,
     "task": false
    }
   },
   "outputs": [],
   "source": [
    "inv = {'gold coin': 42, 'rope': 1}\n",
    "dragon_loot = ['gold coin', 'dagger', 'gold coin', 'gold coin', 'ruby']\n",
    "correct_dict = {'dagger': 1, 'gold coin': 45, 'rope': 1, 'ruby': 1}\n",
    "assert add_to_inventory(inv, dragon_loot) == correct_dict"
   ]
  },
  {
   "cell_type": "code",
   "execution_count": null,
   "metadata": {
    "deletable": false,
    "editable": false,
    "nbgrader": {
     "cell_type": "code",
     "checksum": "25b7dd4b181e8cf9280cd9a73ac857f2",
     "grade": true,
     "grade_id": "add-to-inv-errors",
     "locked": true,
     "points": 0.5,
     "schema_version": 3,
     "solution": false,
     "task": false
    }
   },
   "outputs": [],
   "source": [
    "try:\n",
    "    add_to_inventory([1, 1], ['a', 'b'])\n",
    "\n",
    "except TypeError:\n",
    "    pass\n",
    "\n",
    "else:\n",
    "    raise AssertionError(\"First input is not a dict.\")"
   ]
  },
  {
   "cell_type": "code",
   "execution_count": null,
   "metadata": {
    "deletable": false,
    "editable": false,
    "nbgrader": {
     "cell_type": "code",
     "checksum": "462e638008a4ee7a952089030ff27367",
     "grade": true,
     "grade_id": "add-to-inv-errors2",
     "locked": true,
     "points": 0.5,
     "schema_version": 3,
     "solution": false,
     "task": false
    }
   },
   "outputs": [],
   "source": [
    "try:\n",
    "    add_to_inventory({'a': 1, 'b': 1}, [2, 3])\n",
    "\n",
    "except ValueError:\n",
    "    pass\n",
    "except TypeError:\n",
    "    pass\n",
    "\n",
    "else:\n",
    "    raise AssertionError(\"Second input is a list of ints where a list of strings is expected.\")"
   ]
  },
  {
   "cell_type": "markdown",
   "metadata": {
    "deletable": false,
    "editable": false,
    "nbgrader": {
     "cell_type": "markdown",
     "checksum": "3f1b0640193394d098645ff0e41548cf",
     "grade": false,
     "grade_id": "cell-60896584717c2ec3",
     "locked": true,
     "schema_version": 3,
     "solution": false,
     "task": false
    }
   },
   "source": [
    "### Problem 3: More Fun with Strings (5 points)\n",
    "1. <b>(2 points)</b> __Merge the Tools:__ Consider the following: A string, $s$, of length $n$  where $s=c_0c_1 \\ldots c_{n-1}$. An integer, $k$ , where $k$ is a factor of $n$. We can split $s$ into $n/k$ subsegments where each subsegment, $t_i$ , consists of a contiguous block of $k$ characters in $s$. Then, use each $t_i$ to create string $u_i$ such that:  \n",
    " - The characters in $u_i$ are a subsequence of the characters in $t_i$.  \n",
    " - Any repeat occurrence of a character is removed from the string such that each character in $u_i$ occurs exactly once. In other words, if the character at some index $j$  in $t_i$  occurs at a previous index $< j$ in $t_i$, then do not include the character in string $u_i$.\n",
    "  \n",
    " Write a function called `str_seg`, which takes the string `s` and the value `k` as its two argument, and return a list containing $\\frac{n}{k}$ elements, where $i$-th element denotes the string $u_i$. __Note:__ You don't need to worry about error checking for this question, but you are welcome to perform some appropriate error checking. This means you can assume s and k will be of correct types in all the test cases and k will be a positive integer."
   ]
  },
  {
   "cell_type": "code",
   "execution_count": null,
   "metadata": {
    "deletable": false,
    "nbgrader": {
     "cell_type": "code",
     "checksum": "f4dbf0731896864cde1de2ac57c2983a",
     "grade": false,
     "grade_id": "cell-ad502ca49fb8f47e",
     "locked": false,
     "schema_version": 3,
     "solution": true,
     "task": false
    }
   },
   "outputs": [],
   "source": [
    "def str_seg(s, k):\n",
    "    # YOUR CODE HERE\n",
    "    raise NotImplementedError()"
   ]
  },
  {
   "cell_type": "code",
   "execution_count": null,
   "metadata": {
    "deletable": false,
    "editable": false,
    "nbgrader": {
     "cell_type": "code",
     "checksum": "f778338d01271719c0711691a38f0ed8",
     "grade": true,
     "grade_id": "empty-string",
     "locked": true,
     "points": 0.5,
     "schema_version": 3,
     "solution": false,
     "task": false
    }
   },
   "outputs": [],
   "source": [
    "assert type(str_seg(\"This is the first test case\", 16)) == list"
   ]
  },
  {
   "cell_type": "code",
   "execution_count": null,
   "metadata": {
    "deletable": false,
    "editable": false,
    "nbgrader": {
     "cell_type": "code",
     "checksum": "7dd2cd613fc5cf679daef2e52fbeb669",
     "grade": true,
     "grade_id": "str-seg",
     "locked": true,
     "points": 1,
     "schema_version": 3,
     "solution": false,
     "task": false
    }
   },
   "outputs": [],
   "source": [
    "assert str_seg('AABCAAADA', 3) == ['AB', 'CA', 'AD']"
   ]
  },
  {
   "cell_type": "code",
   "execution_count": null,
   "metadata": {
    "deletable": false,
    "editable": false,
    "nbgrader": {
     "cell_type": "code",
     "checksum": "66ac09c559256bf02a9efc4fd89b6960",
     "grade": true,
     "grade_id": "str-seg-edge-cases",
     "locked": true,
     "points": 0.5,
     "schema_version": 3,
     "solution": false,
     "task": false
    }
   },
   "outputs": [],
   "source": [
    "assert str_seg(\"01234567890\", 1) == ['0', '1', '2', '3', '4', '5', '6', '7', '8', '9', '0']"
   ]
  },
  {
   "cell_type": "markdown",
   "metadata": {
    "deletable": false,
    "editable": false,
    "nbgrader": {
     "cell_type": "markdown",
     "checksum": "f5fcd29c7b9d28dd4eb16e62ea70d9d6",
     "grade": false,
     "grade_id": "cell-179d46ce8252d36e",
     "locked": true,
     "schema_version": 3,
     "solution": false,
     "task": false
    }
   },
   "source": [
    "2. <b>(3 points)</b> __Simple Arithmetics:__ You are given multiple sequences of button presses of a simple pocket calculator that consist of digits and arithmetic operators. For each such sequence find the number it would produce on a pocket calculator's display. __Note that the pocket calculator evaluates the operators in the order in which they are given (i.e., there is no operator precedence (PEMDAS doesn't apply here)).__ Assume that the display of the calculator is large enough to show the result, and that its memory is sufficient to store all intermediate results. Write a function called `simple_arith`, which takes a string as its only argument, and returns the result as a float. In this problem, A string represents one sequence of button presses for a pocket calculator. The sequence consists of non-negative integers and arithmetic operators and ends with an equal sign. __It can also contain spaces to improve readability.__ __The operators only contain \"+-*/\"__, and the operator / represents integer division, rounded down. You may assume that no test case contains division by zero. __Hint:__ you may use `eval()` function. __Note:__ You don't need to worry about error checking for this question, but you are welcome to perform some appropriate error checking. This means you can assume that the input will always be a string with a valid mathematical expression in it."
   ]
  },
  {
   "cell_type": "code",
   "execution_count": null,
   "metadata": {
    "deletable": false,
    "nbgrader": {
     "cell_type": "code",
     "checksum": "33d2c801165496cadbf98ee6d48a5032",
     "grade": false,
     "grade_id": "cell-c83de32d388931f8",
     "locked": false,
     "schema_version": 3,
     "solution": true,
     "task": false
    }
   },
   "outputs": [],
   "source": [
    "# YOUR CODE HERE\n",
    "raise NotImplementedError()"
   ]
  },
  {
   "cell_type": "code",
   "execution_count": null,
   "metadata": {
    "deletable": false,
    "editable": false,
    "nbgrader": {
     "cell_type": "code",
     "checksum": "2c1989c36f50be7c569e2778f1968ce2",
     "grade": true,
     "grade_id": "correct-return-type",
     "locked": true,
     "points": 0.5,
     "schema_version": 3,
     "solution": false,
     "task": false
    }
   },
   "outputs": [],
   "source": [
    "assert type(simple_arith(\"5*5=\")) == float"
   ]
  },
  {
   "cell_type": "code",
   "execution_count": null,
   "metadata": {
    "deletable": false,
    "editable": false,
    "nbgrader": {
     "cell_type": "code",
     "checksum": "bae38401b7040bda58e1e56535e1878a",
     "grade": true,
     "grade_id": "simple-arith-simple",
     "locked": true,
     "points": 0.5,
     "schema_version": 3,
     "solution": false,
     "task": false
    }
   },
   "outputs": [],
   "source": [
    "assert simple_arith('1+2+3 + 3 + 1*2 =') == 20.0"
   ]
  },
  {
   "cell_type": "code",
   "execution_count": null,
   "metadata": {
    "deletable": false,
    "editable": false,
    "nbgrader": {
     "cell_type": "code",
     "checksum": "151e5ba4f00da27e1bcf329f825da92d",
     "grade": true,
     "grade_id": "simple-arith-digits",
     "locked": true,
     "points": 0.5,
     "schema_version": 3,
     "solution": false,
     "task": false
    }
   },
   "outputs": [],
   "source": [
    "assert simple_arith('100-99-10+5=') == -4.0"
   ]
  },
  {
   "cell_type": "code",
   "execution_count": null,
   "metadata": {
    "deletable": false,
    "editable": false,
    "nbgrader": {
     "cell_type": "code",
     "checksum": "2936c05065916f06166c2ad89bd66546",
     "grade": true,
     "grade_id": "equals-only",
     "locked": true,
     "points": 0.5,
     "schema_version": 3,
     "solution": false,
     "task": false
    }
   },
   "outputs": [],
   "source": [
    "assert simple_arith('9-9/5-5=') == -5.0"
   ]
  },
  {
   "cell_type": "code",
   "execution_count": null,
   "metadata": {
    "deletable": false,
    "editable": false,
    "nbgrader": {
     "cell_type": "code",
     "checksum": "eee5c2cc0f50e39597f72a7f4e005072",
     "grade": true,
     "grade_id": "simple-arith-hard",
     "locked": true,
     "points": 1,
     "schema_version": 3,
     "solution": false,
     "task": false
    }
   },
   "outputs": [],
   "source": [
    "assert simple_arith(\"5*5/4 =\") == 6.0"
   ]
  },
  {
   "cell_type": "markdown",
   "metadata": {
    "deletable": false,
    "editable": false,
    "nbgrader": {
     "cell_type": "markdown",
     "checksum": "2d63d0a65d1a2b2419012761686ea049",
     "grade": false,
     "grade_id": "cell-b6a3240ba2366be7",
     "locked": true,
     "schema_version": 3,
     "solution": false,
     "task": false
    }
   },
   "source": [
    "### Problem 4: More Practice (9 points)"
   ]
  },
  {
   "cell_type": "markdown",
   "metadata": {
    "deletable": false,
    "editable": false,
    "nbgrader": {
     "cell_type": "markdown",
     "checksum": "cc1adb1d077f812f2825945c6b983f76",
     "grade": false,
     "grade_id": "cell-e51e560c9ed59525",
     "locked": true,
     "schema_version": 3,
     "solution": false,
     "task": false
    }
   },
   "source": [
    "1. <b>(2 points)</b> You are given a string $s$. Suppose a character '$c$' occurs consecutively $x$ times in the string. __In this problem, we assume each character is in '0123456789', representing a number between 0 and 9.__ Replace these consecutive occurrences of the character '$c$' with $(x,c)$ in the string and store into a list. Write a function called `comp_str`, which takes the string `s` as its argument, and return the list containing the replacements. For example, the result of `comp_str('1222311')` is `[(1, 1), (3, 2), (1, 3), (2, 1)]`. Reason: First, the character '1' occurs only once, so it is replaced by (1,1). Then the character '2' occurs three times, and it is replaced by (3,2) and so on. __Hint:__ _itertools.groupby_ might be helpful in this question. __Note:__ You don't need to worry about error checking for this question, but you are welcome to perform some appropriate error checking."
   ]
  },
  {
   "cell_type": "code",
   "execution_count": null,
   "metadata": {
    "deletable": false,
    "nbgrader": {
     "cell_type": "code",
     "checksum": "7e9d941912e49c5d1839792fdb882d6e",
     "grade": false,
     "grade_id": "cell-988506a92b718ef2",
     "locked": false,
     "schema_version": 3,
     "solution": true,
     "task": false
    }
   },
   "outputs": [],
   "source": [
    "def comp_str(s):\n",
    "    # YOUR CODE HERE\n",
    "    raise NotImplementedError()"
   ]
  },
  {
   "cell_type": "code",
   "execution_count": null,
   "metadata": {
    "deletable": false,
    "editable": false,
    "nbgrader": {
     "cell_type": "code",
     "checksum": "394ed02c11e9c2f9a3427b0d3cbcf513",
     "grade": true,
     "grade_id": "comp-str-return",
     "locked": true,
     "points": 0.5,
     "schema_version": 3,
     "solution": false,
     "task": false
    }
   },
   "outputs": [],
   "source": [
    "assert type(comp_str('989898989')) == list"
   ]
  },
  {
   "cell_type": "code",
   "execution_count": null,
   "metadata": {
    "deletable": false,
    "editable": false,
    "nbgrader": {
     "cell_type": "code",
     "checksum": "792213d235689b5089bf10674df3c189",
     "grade": true,
     "grade_id": "comp-str-easy",
     "locked": true,
     "points": 0.5,
     "schema_version": 3,
     "solution": false,
     "task": false
    }
   },
   "outputs": [],
   "source": [
    "assert comp_str('1222311') == [(1, 1), (3, 2), (1, 3), (2, 1)]"
   ]
  },
  {
   "cell_type": "code",
   "execution_count": null,
   "metadata": {
    "deletable": false,
    "editable": false,
    "nbgrader": {
     "cell_type": "code",
     "checksum": "4b28a6707fcedae2576d699f41ec9940",
     "grade": true,
     "grade_id": "comp-str-hard",
     "locked": true,
     "points": 0.5,
     "schema_version": 3,
     "solution": false,
     "task": false
    }
   },
   "outputs": [],
   "source": [
    "assert comp_str('2') == [(1, 2)]"
   ]
  },
  {
   "cell_type": "code",
   "execution_count": null,
   "metadata": {
    "deletable": false,
    "editable": false,
    "nbgrader": {
     "cell_type": "code",
     "checksum": "340c1c5d56d313fe6736d218d6b808ec",
     "grade": true,
     "grade_id": "comp-str-empty",
     "locked": true,
     "points": 0.5,
     "schema_version": 3,
     "solution": false,
     "task": false
    }
   },
   "outputs": [],
   "source": [
    "assert comp_str('030303') == [(1, 0), (1, 3), (1, 0), (1, 3), (1, 0), (1, 3)]"
   ]
  },
  {
   "cell_type": "markdown",
   "metadata": {
    "deletable": false,
    "editable": false,
    "nbgrader": {
     "cell_type": "markdown",
     "checksum": "294d594f3b9b6dd65e26c4e952fac370",
     "grade": false,
     "grade_id": "cell-11b289529949fada",
     "locked": true,
     "schema_version": 3,
     "solution": false,
     "task": false
    }
   },
   "source": [
    "2. <b>(2 points)</b> __The Mirror of Galadriel:__ With water from the stream Galadriel filled the basin to the brim, and breathed on it, and when the water was still again she spoke. 'Here is the Mirror of Galadriel,' she said. 'I have brought you here so that you may look in it, if you will. For this is what your folk would call magic, I believe; though I do not understand clearly what they mean; and they seem also to use the same word of the deceits of the Enemy. But this, if you will, is the magic of Galadriel. Did you not say that you wished to see Elf-magic?' - Galadriel to Frodo and Sam, describing her Mirror. \n",
    "\n",
    " We call a string S magical if every substring of S appears in Galadriel's Mirror (under lateral inversion). In other words, a magical string is a string where every substring has its reverse in the string. Write a function `magical`, that takes a string `s` as its argument, determine if it is magical or not, and return the result: \"Yes\" is it is magical, or \"No\" if it is not magical. For example, `magical('aba')` is 'Yes'. Reason: the list of substrings are : `a, b, ab, ba, aba`. The reverse of each of these strings is present as a substring of S too. __Note:__ You don't need to worry about error checking for this question, but you are welcome to perform some appropriate error checking."
   ]
  },
  {
   "cell_type": "code",
   "execution_count": null,
   "metadata": {
    "deletable": false,
    "nbgrader": {
     "cell_type": "code",
     "checksum": "670c568374bdcc7da52fc4a7b3c7d362",
     "grade": false,
     "grade_id": "cell-513c33ab888a566f",
     "locked": false,
     "schema_version": 3,
     "solution": true,
     "task": false
    }
   },
   "outputs": [],
   "source": [
    "def magical(s):\n",
    "    # YOUR CODE HERE\n",
    "    raise NotImplementedError()"
   ]
  },
  {
   "cell_type": "code",
   "execution_count": null,
   "metadata": {
    "deletable": false,
    "editable": false,
    "nbgrader": {
     "cell_type": "code",
     "checksum": "ac04011fc3364bb03179e0e5af6223f6",
     "grade": true,
     "grade_id": "magical-empty",
     "locked": true,
     "points": 0.5,
     "schema_version": 3,
     "solution": false,
     "task": false
    }
   },
   "outputs": [],
   "source": [
    "assert type(magical(\"random string\")) == str"
   ]
  },
  {
   "cell_type": "code",
   "execution_count": null,
   "metadata": {
    "deletable": false,
    "editable": false,
    "nbgrader": {
     "cell_type": "code",
     "checksum": "327fa67e0f8d3842d1670ef699d87890",
     "grade": true,
     "grade_id": "magical-standard",
     "locked": true,
     "points": 1,
     "schema_version": 3,
     "solution": false,
     "task": false
    }
   },
   "outputs": [],
   "source": [
    "assert magical('aba') == 'Yes'"
   ]
  },
  {
   "cell_type": "code",
   "execution_count": null,
   "metadata": {
    "deletable": false,
    "editable": false,
    "nbgrader": {
     "cell_type": "code",
     "checksum": "e908cdda4d3ce3ac59f73cddce618266",
     "grade": true,
     "grade_id": "magical-hard",
     "locked": true,
     "points": 0.5,
     "schema_version": 3,
     "solution": false,
     "task": false
    }
   },
   "outputs": [],
   "source": [
    "assert magical('magical') == 'No'"
   ]
  },
  {
   "cell_type": "markdown",
   "metadata": {
    "deletable": false,
    "editable": false,
    "nbgrader": {
     "cell_type": "markdown",
     "checksum": "fadf7bb6451885f4bfd25924b8691257",
     "grade": false,
     "grade_id": "cell-c363454fe35481bd",
     "locked": true,
     "schema_version": 3,
     "solution": false,
     "task": false
    }
   },
   "source": [
    "3. <b>(3 points)</b> Everybody hates Raymond. He’s the largest stamp collector on planet earth and because of that he always makes fun of all the others at the stamp collector parties. Fortunately everybody loves Lucy, and she has a plan. She secretly asks her friends whether they could lend her some stamps, so that she can embarrass Raymond by showing an even larger collection than his. Raymond is so sure about his superiority that he always tells how many stamps he’ll show.And since Lucy knows how many she owns, she knows how many more she needs. She also knows how many friends would lend her some stamps and how many each would lend. But she’s like to borrow from as few friends as possible and if she needs too many then she’d rather not do it at all. Can you tell her the minimum number of friends she needs to borrow from?\n",
    "\n",
    " Write a function called `stamps`, which contains the following arguments: how many stamps Lucy needs to borrow and a list containing the number of stamps each of her friends is offering. This function should return the minimum number of friends Lucy needs to borrow stamps from as an integer. If it’s impossible even if she borrows everything from everybody, return \"Impossible!\" instead. __Note:__ You don't need to worry about error checking for this question, but you are welcome to perform some appropriate error checking."
   ]
  },
  {
   "cell_type": "code",
   "execution_count": null,
   "metadata": {
    "deletable": false,
    "nbgrader": {
     "cell_type": "code",
     "checksum": "6b02eba93f6515496ce0a703eca6983c",
     "grade": false,
     "grade_id": "cell-84a1624b777aea7c",
     "locked": false,
     "schema_version": 3,
     "solution": true,
     "task": false
    }
   },
   "outputs": [],
   "source": [
    "# YOUR CODE HERE\n",
    "raise NotImplementedError()"
   ]
  },
  {
   "cell_type": "code",
   "execution_count": null,
   "metadata": {
    "deletable": false,
    "editable": false,
    "nbgrader": {
     "cell_type": "code",
     "checksum": "f901fb3744dcbda64e21b4bbe37efe7d",
     "grade": true,
     "grade_id": "stampls-long",
     "locked": true,
     "points": 1,
     "schema_version": 3,
     "solution": false,
     "task": false
    }
   },
   "outputs": [],
   "source": [
    "assert type(stamps(4, [1, 1, 1])) == str\n",
    "assert type(stamps(4, [5])) == int"
   ]
  },
  {
   "cell_type": "code",
   "execution_count": null,
   "metadata": {
    "deletable": false,
    "editable": false,
    "nbgrader": {
     "cell_type": "code",
     "checksum": "87517b21bcd454fb574ab2593c1440f0",
     "grade": true,
     "grade_id": "stample-basic",
     "locked": true,
     "points": 1,
     "schema_version": 3,
     "solution": false,
     "task": false
    }
   },
   "outputs": [],
   "source": [
    "assert stamps(100, [13, 17, 42, 9, 23, 57]) == 3"
   ]
  },
  {
   "cell_type": "code",
   "execution_count": null,
   "metadata": {
    "deletable": false,
    "editable": false,
    "nbgrader": {
     "cell_type": "code",
     "checksum": "153bd5adf170fb3fa1f93130a911493b",
     "grade": true,
     "grade_id": "stamps-ones",
     "locked": true,
     "points": 1,
     "schema_version": 3,
     "solution": false,
     "task": false
    }
   },
   "outputs": [],
   "source": [
    "assert stamps(4, [1, 1, 1, 1, 1]) == 4"
   ]
  },
  {
   "cell_type": "markdown",
   "metadata": {
    "deletable": false,
    "editable": false,
    "nbgrader": {
     "cell_type": "markdown",
     "checksum": "0c974570772546a75720c88350ac11ad",
     "grade": false,
     "grade_id": "cell-e10bd26a8687d9ce",
     "locked": true,
     "schema_version": 3,
     "solution": false,
     "task": false
    }
   },
   "source": [
    "4. <b>(2 points) The Bakersville Bake-off!</b> \n",
    "\n",
    "The houses in the town of Bakersville are arranged on a grid with R rows (numbered 1 through R) and C columns (numbered 1 through C). The house located on row r and on column c is denoted by (r, c). We say two houses are **neighbors** if they have a common side. \n",
    "\n",
    "During the annual Bakersville Bake-off, each household bakes a certain number of cakes to share with their neighbors.\n",
    "The town comptroller keeps track in an $R \\times C$ matrix $A$, where $A_{r, c}$ is the number of cakes which household $(r, c)$ has baked.\n",
    "\n",
    "The stability of the social order in Bakersville depends on each house baking enough cakes so they can give at least one cake to each neighbor and submit one cake to be judged. Thus, we say a house is **stable** if the number of cakes $A_{r, c}$ is strictly greater than its number of neigbors. We say Bakersville is **stable** if every house is stable. \n",
    "\n",
    "The comptroller has asked you to define a function `is_stable` that takes an $R \\times C$ numpy array (i.e., an ndarray) as its only argument and returns a Python Boolean that is True if and only if the argument is a stable array and False otherwise. "
   ]
  },
  {
   "cell_type": "code",
   "execution_count": null,
   "metadata": {
    "deletable": false,
    "nbgrader": {
     "cell_type": "code",
     "checksum": "45c7cd935080f0255c9c60484ad7ce4d",
     "grade": false,
     "grade_id": "cell-4e8532c0e87d3f45",
     "locked": false,
     "schema_version": 3,
     "solution": true,
     "task": false
    }
   },
   "outputs": [],
   "source": [
    "# YOUR CODE HERE\n",
    "raise NotImplementedError()"
   ]
  },
  {
   "cell_type": "code",
   "execution_count": null,
   "metadata": {
    "deletable": false,
    "editable": false,
    "nbgrader": {
     "cell_type": "code",
     "checksum": "5fd3f1c7c35d20990a4c774414d7d2dc",
     "grade": true,
     "grade_id": "basic-example",
     "locked": true,
     "points": 1,
     "schema_version": 3,
     "solution": false,
     "task": false
    }
   },
   "outputs": [],
   "source": [
    "array1 = np.array([4, 7, 8,\n",
    "                   5, 10, 9,\n",
    "                   3, 5, 7]).reshape(3, 3)\n",
    "array2 = np.array([3, 2, 4,\n",
    "                   1, 1, 2,\n",
    "                   3, 3, 3]).reshape(3, 3)\n",
    "\n",
    "\n",
    "assert is_stable(array1)\n",
    "assert not is_stable(array2)"
   ]
  },
  {
   "cell_type": "code",
   "execution_count": null,
   "metadata": {
    "deletable": false,
    "editable": false,
    "nbgrader": {
     "cell_type": "code",
     "checksum": "73a3645970b23d4bf5f4ab42ff9fc9e1",
     "grade": true,
     "grade_id": "3-by-3",
     "locked": true,
     "points": 0.5,
     "schema_version": 3,
     "solution": false,
     "task": false
    }
   },
   "outputs": [],
   "source": [
    "assert not is_stable(np.array([1., 0., 1.]))"
   ]
  },
  {
   "cell_type": "code",
   "execution_count": null,
   "metadata": {
    "deletable": false,
    "editable": false,
    "nbgrader": {
     "cell_type": "code",
     "checksum": "03c87c8bea556a6546a331491a8c7fae",
     "grade": true,
     "grade_id": "4-by-4",
     "locked": true,
     "points": 0.5,
     "schema_version": 3,
     "solution": false,
     "task": false
    }
   },
   "outputs": [],
   "source": [
    "assert is_stable(np.array([[4, 6, 6, 4], \n",
    "                           [4, 7, 7, 7], \n",
    "                           [4, 21, 8, 4], \n",
    "                           [4, 4, 7, 5]]))"
   ]
  }
 ],
 "metadata": {
  "kernelspec": {
   "display_name": "Python 3",
   "language": "python",
   "name": "python3"
  },
  "language_info": {
   "codemirror_mode": {
    "name": "ipython",
    "version": 3
   },
   "file_extension": ".py",
   "mimetype": "text/x-python",
   "name": "python",
   "nbconvert_exporter": "python",
   "pygments_lexer": "ipython3",
   "version": "3.8.8"
  }
 },
 "nbformat": 4,
 "nbformat_minor": 2
}
