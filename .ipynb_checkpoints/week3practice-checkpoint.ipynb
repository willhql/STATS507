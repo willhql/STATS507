{
 "cells": [
  {
   "cell_type": "markdown",
   "metadata": {
    "colab_type": "text",
    "deletable": false,
    "editable": false,
    "id": "ck4jLznJiooB",
    "nbgrader": {
     "cell_type": "markdown",
     "checksum": "38b4cbfd496d80940cfa87c97061e3be",
     "grade": false,
     "grade_id": "cell-b1db85bf05a65a79",
     "locked": true,
     "schema_version": 3,
     "solution": false,
     "task": false
    }
   },
   "source": [
    "### Lecture 3 Practice: Dictionaries"
   ]
  },
  {
   "cell_type": "markdown",
   "metadata": {
    "colab_type": "text",
    "deletable": false,
    "editable": false,
    "id": "D3Y-FyiZp7Y9",
    "nbgrader": {
     "cell_type": "markdown",
     "checksum": "734dcd5ea67815341263c81f726ba2a8",
     "grade": false,
     "grade_id": "cell-19e8bfdd7af9249f",
     "locked": true,
     "schema_version": 3,
     "solution": false,
     "task": false
    }
   },
   "source": [
    "### Question 1\n",
    "Define a function called `dict_square`, which takes a positive integer $n$ as its only argument, and returns a dictionary that maps each number from 1 to $n$ to its square."
   ]
  },
  {
   "cell_type": "code",
   "execution_count": null,
   "metadata": {
    "colab": {},
    "colab_type": "code",
    "deletable": false,
    "id": "DigasrXrid02",
    "nbgrader": {
     "cell_type": "code",
     "checksum": "9cafd1ef9d511628aca3fad6b92d50c9",
     "grade": false,
     "grade_id": "cell-f08d8946eba9b834",
     "locked": false,
     "schema_version": 3,
     "solution": true,
     "task": false
    }
   },
   "outputs": [],
   "source": [
    "def dict_square(n):\n",
    "# YOUR CODE HERE\n",
    "    dict s\n",
    "#raise NotImplementedError()"
   ]
  },
  {
   "cell_type": "code",
   "execution_count": null,
   "metadata": {
    "colab": {
     "base_uri": "https://localhost:8080/",
     "height": 50
    },
    "colab_type": "code",
    "deletable": false,
    "editable": false,
    "executionInfo": {
     "elapsed": 845,
     "status": "ok",
     "timestamp": 1579292806636,
     "user": {
      "displayName": "Su I Iao",
      "photoUrl": "",
      "userId": "14332281953821438041"
     },
     "user_tz": 300
    },
    "id": "5QI-J2G_kD-k",
    "nbgrader": {
     "cell_type": "code",
     "checksum": "f2593318996747e4206ff0b4a2959a92",
     "grade": true,
     "grade_id": "cell-03e3f94708532e9c",
     "locked": true,
     "points": 1,
     "schema_version": 3,
     "solution": false,
     "task": false
    },
    "outputId": "c11f0a4e-8a05-4524-d00c-4a754f846da5"
   },
   "outputs": [],
   "source": [
    "assert(dict_square(1) == {1: 1})\n",
    "assert(dict_square(4) == {1: 1, 2: 4, 3: 9, 4: 16})"
   ]
  },
  {
   "cell_type": "markdown",
   "metadata": {
    "colab_type": "text",
    "deletable": false,
    "editable": false,
    "id": "7e5PDMTdlnhr",
    "nbgrader": {
     "cell_type": "markdown",
     "checksum": "028c604f7c4a6b0fd489eb9063fb71bd",
     "grade": false,
     "grade_id": "cell-473f900194560999",
     "locked": true,
     "schema_version": 3,
     "solution": false,
     "task": false
    }
   },
   "source": [
    "### Question 2\n",
    "Define a function called `switch_key_value`, which takes a dictionary as its only argument. Switch the placement of key and value of the dictionary and return it as a new dictionary."
   ]
  },
  {
   "cell_type": "code",
   "execution_count": null,
   "metadata": {
    "colab": {},
    "colab_type": "code",
    "deletable": false,
    "id": "WxAZ_1kim6sh",
    "nbgrader": {
     "cell_type": "code",
     "checksum": "2eedbb0747607347736b7d1a4128c272",
     "grade": false,
     "grade_id": "cell-6c67d579c481de9b",
     "locked": false,
     "schema_version": 3,
     "solution": true,
     "task": false
    }
   },
   "outputs": [],
   "source": [
    "def switch_key_value(d):\n",
    "# YOUR CODE HERE\n",
    "raise NotImplementedError()"
   ]
  },
  {
   "cell_type": "code",
   "execution_count": null,
   "metadata": {
    "colab": {
     "base_uri": "https://localhost:8080/",
     "height": 50
    },
    "colab_type": "code",
    "deletable": false,
    "editable": false,
    "executionInfo": {
     "elapsed": 562,
     "status": "ok",
     "timestamp": 1579292843147,
     "user": {
      "displayName": "Su I Iao",
      "photoUrl": "",
      "userId": "14332281953821438041"
     },
     "user_tz": 300
    },
    "id": "z_dqA7Iknyi8",
    "nbgrader": {
     "cell_type": "code",
     "checksum": "295bb45d13286ea6380482681f8b6dbd",
     "grade": true,
     "grade_id": "cell-a0b5ecba31ff8afb",
     "locked": true,
     "points": 1,
     "schema_version": 3,
     "solution": false,
     "task": false
    },
    "outputId": "c6c75a12-4bf5-4a4a-fec6-d8ff32a615b8"
   },
   "outputs": [],
   "source": [
    "assert(switch_key_value({}) == {})\n",
    "assert(switch_key_value({'a': 1, 'b': 2}) == {1: 'a', 2: 'b'})"
   ]
  },
  {
   "cell_type": "markdown",
   "metadata": {
    "colab_type": "text",
    "deletable": false,
    "editable": false,
    "id": "VFPssm6_FZc3",
    "nbgrader": {
     "cell_type": "markdown",
     "checksum": "a87f38c8492b61767e885d079d2d302a",
     "grade": false,
     "grade_id": "cell-0a8adc1fa6b34e68",
     "locked": true,
     "schema_version": 3,
     "solution": false,
     "task": false
    }
   },
   "source": [
    "### Question 3\n",
    "Define a function called `sort_list_dict`, which takes a dictionary whose values are lists as its only argument. Sort all these lists alphabetically return them in a new dictionary (with the same keys)."
   ]
  },
  {
   "cell_type": "code",
   "execution_count": null,
   "metadata": {
    "colab": {},
    "colab_type": "code",
    "deletable": false,
    "id": "JHxAJ3FVFZtp",
    "nbgrader": {
     "cell_type": "code",
     "checksum": "b56a1aa75b1fd9167b0fe4e604544558",
     "grade": false,
     "grade_id": "cell-996c61e79b68ca6d",
     "locked": false,
     "schema_version": 3,
     "solution": true,
     "task": false
    }
   },
   "outputs": [],
   "source": [
    "def sort_list_dict(d):\n",
    "# YOUR CODE HERE\n",
    "raise NotImplementedError()"
   ]
  },
  {
   "cell_type": "code",
   "execution_count": null,
   "metadata": {
    "colab": {
     "base_uri": "https://localhost:8080/",
     "height": 67
    },
    "colab_type": "code",
    "deletable": false,
    "editable": false,
    "executionInfo": {
     "elapsed": 549,
     "status": "ok",
     "timestamp": 1579292870194,
     "user": {
      "displayName": "Su I Iao",
      "photoUrl": "",
      "userId": "14332281953821438041"
     },
     "user_tz": 300
    },
    "id": "jVSzw4ivFaCH",
    "nbgrader": {
     "cell_type": "code",
     "checksum": "7932ad3e28e709a6bd84389f8fc9584f",
     "grade": true,
     "grade_id": "cell-f752b519fbf2ac78",
     "locked": true,
     "points": 1,
     "schema_version": 3,
     "solution": false,
     "task": false
    },
    "outputId": "f76a2571-e22b-4bc3-e8b9-4368c538fde4"
   },
   "outputs": [],
   "source": [
    "assert(sort_list_dict({}) == {})\n",
    "\n",
    "assert(sort_list_dict({'a': []}) == {'a': []})\n",
    "\n",
    "input_dict = {'a': [4, 1, 2, 3], 'b': [3, 2, 1]}\n",
    "desired_output = {'a': [1, 2, 3, 4], 'b': [1, 2, 3]}\n",
    "assert(sort_list_dict(input_dict) == desired_output)\n",
    "\n",
    "input_dict = {'S': [2, 3, 1], 'T': [5, 1, 2], 'D': [3, 2, 4]}\n",
    "desired_output = {'S': [1, 2, 3], 'T': [1, 2, 5], 'D': [2, 3, 4]}\n",
    "assert(sort_list_dict(input_dict) == desired_output)"
   ]
  },
  {
   "cell_type": "markdown",
   "metadata": {
    "colab_type": "text",
    "deletable": false,
    "editable": false,
    "id": "drUgMRcxpwG2",
    "nbgrader": {
     "cell_type": "markdown",
     "checksum": "d23b5634a0bf7f1869039f82d4bfe2c9",
     "grade": false,
     "grade_id": "cell-b40ee01248cec82b",
     "locked": true,
     "schema_version": 3,
     "solution": false,
     "task": false
    }
   },
   "source": [
    "### Question 4\n",
    "\n",
    "Define a function called combine, which takes two dictionaries as its argument. Combine the two dictionaries by adding values for common keys and return results as a new dictionary. Your function should raise an appropriate error in the event that the input is not dictionary."
   ]
  },
  {
   "cell_type": "code",
   "execution_count": null,
   "metadata": {
    "colab": {},
    "colab_type": "code",
    "deletable": false,
    "id": "HknTTagzq1wF",
    "nbgrader": {
     "cell_type": "code",
     "checksum": "2cca47711fafb9e75491ce76a04d2b3f",
     "grade": false,
     "grade_id": "cell-8fab97e76663cc9e",
     "locked": false,
     "schema_version": 3,
     "solution": true,
     "task": false
    }
   },
   "outputs": [],
   "source": [
    "def combine(d1, d2):\n",
    "# YOUR CODE HERE\n",
    "raise NotImplementedError()"
   ]
  },
  {
   "cell_type": "code",
   "execution_count": null,
   "metadata": {
    "colab": {
     "base_uri": "https://localhost:8080/",
     "height": 84
    },
    "colab_type": "code",
    "deletable": false,
    "editable": false,
    "executionInfo": {
     "elapsed": 556,
     "status": "ok",
     "timestamp": 1579292884333,
     "user": {
      "displayName": "Su I Iao",
      "photoUrl": "",
      "userId": "14332281953821438041"
     },
     "user_tz": 300
    },
    "id": "aSkD9uIbq2Pc",
    "nbgrader": {
     "cell_type": "code",
     "checksum": "8ba84f8a286aabedf153d94d9aefa178",
     "grade": true,
     "grade_id": "cell-39e252004f8545a6",
     "locked": true,
     "points": 1,
     "schema_version": 3,
     "solution": false,
     "task": false
    },
    "outputId": "cc8ec33e-810f-4599-ac5e-8166affce950"
   },
   "outputs": [],
   "source": [
    "assert(combine({}, {}) == {})\n",
    "\n",
    "assert(combine({'a': 100}, {'b': 100}) == {'a': 100, 'b': 100})\n",
    "\n",
    "input_dicts = ({'a': 100, 'b': 100, 'c': 300}, {'b': 100})\n",
    "assert(combine(*input_dicts) == {'a': 100, 'b': 200, 'c': 300})\n",
    "\n",
    "input_dicts = ({'a': 100, 'b': 200}, {'a': 100, 'c': 200})\n",
    "assert(combine(*input_dicts) == {'a': 200, 'b': 200, 'c': 200})\n",
    "\n",
    "try:\n",
    "    combine([1], {})\n",
    "    assert(False)\n",
    "except TypeError:\n",
    "    assert(True)\n",
    "except Exception:\n",
    "    assert(False)"
   ]
  }
 ],
 "metadata": {
  "colab": {
   "collapsed_sections": [],
   "name": "Lecture 2 practice Solution.ipynb",
   "provenance": []
  },
  "kernelspec": {
   "display_name": "Python 3",
   "language": "python",
   "name": "python3"
  },
  "language_info": {
   "codemirror_mode": {
    "name": "ipython",
    "version": 3
   },
   "file_extension": ".py",
   "mimetype": "text/x-python",
   "name": "python",
   "nbconvert_exporter": "python",
   "pygments_lexer": "ipython3",
   "version": "3.9.1"
  }
 },
 "nbformat": 4,
 "nbformat_minor": 1
}
