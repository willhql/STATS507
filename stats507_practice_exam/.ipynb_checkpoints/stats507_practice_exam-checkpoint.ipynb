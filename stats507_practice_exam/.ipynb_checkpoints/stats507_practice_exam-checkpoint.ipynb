{
 "cells": [
  {
   "cell_type": "markdown",
   "metadata": {},
   "source": [
    "# STATS 507 Practice Exam\n",
    "\n",
    "**name:** _______________________________\n",
    "\n",
    "**uniqname:** ___________________________\n",
    "\n",
    "You have 120 minutes to complete this exam.\n",
    "\n",
    "This is an \"open book\" exam: you may refer to the course lecture slides, your past homework submissions, the textbook, stackoverflow, Google/Baidu, and other web pages about Python.\n",
    "\n",
    "You do not have to perform \"error checking\" unless you are explicitly asked to do so.\n",
    "\n",
    "You may not communicate with anyone (other the course instructors) during the exam. The code you submit must be yours alone.\n",
    "\n",
    "You must stay connected to the class Zoom session with your camera on during the exam."
   ]
  },
  {
   "cell_type": "markdown",
   "metadata": {
    "deletable": false,
    "editable": false,
    "nbgrader": {
     "cell_type": "markdown",
     "checksum": "bc14602808ccad0293d93ab69c473c66",
     "grade": false,
     "grade_id": "cell-9176909146e4ac09",
     "locked": true,
     "schema_version": 3,
     "solution": false,
     "task": false
    }
   },
   "source": [
    "## Academic Integrity\n",
    "\n",
    "Communicating with anyone other than the course instructors during the exam is strictly forbidden.\n",
    "You may not share this exam or your solutions with your others (even after the exam is over).\n",
    "You may not accept information about the exam from your classmates.\n",
    "\n",
    "__Type your full name in the cell below to certify that you will follow this policy.__"
   ]
  },
  {
   "cell_type": "markdown",
   "metadata": {},
   "source": [
    "-------->  Your Name Here <------------"
   ]
  },
  {
   "cell_type": "code",
   "execution_count": 1,
   "metadata": {
    "deletable": false,
    "editable": false,
    "nbgrader": {
     "cell_type": "code",
     "checksum": "aad604727ad87fc49b39717a7ada4adf",
     "grade": false,
     "grade_id": "cell-66647e5da5fe4699",
     "locked": true,
     "schema_version": 3,
     "solution": false,
     "task": false
    }
   },
   "outputs": [],
   "source": [
    "import re\n",
    "import math\n",
    "import itertools\n",
    "import functools\n",
    "import numpy as np\n",
    "import scipy as sp\n",
    "import pandas as pd\n",
    "import sqlite3\n",
    "import torch"
   ]
  },
  {
   "cell_type": "markdown",
   "metadata": {
    "deletable": false,
    "editable": false,
    "nbgrader": {
     "cell_type": "markdown",
     "checksum": "b32b8124c8a744cf86da43e6b07dd7f2",
     "grade": false,
     "grade_id": "cell-4cf3f3d07416c31b81",
     "locked": true,
     "schema_version": 3,
     "solution": false,
     "task": false
    }
   },
   "source": [
    "### Problem 1\n",
    "\n",
    "Write a function that computes the circumference of a circle given its radius."
   ]
  },
  {
   "cell_type": "code",
   "execution_count": 11,
   "metadata": {
    "deletable": false,
    "nbgrader": {
     "cell_type": "code",
     "checksum": "c2ca6551e8625232c37a6d6ae4d00f08",
     "grade": false,
     "grade_id": "cell-1612ce6b3450839a41",
     "locked": false,
     "schema_version": 3,
     "solution": true,
     "task": false
    }
   },
   "outputs": [],
   "source": [
    "def get_circum(radius):\n",
    "    # YOUR CODE HERE\n",
    "    return 2 * math.pi * radius"
   ]
  },
  {
   "cell_type": "code",
   "execution_count": 12,
   "metadata": {
    "deletable": false,
    "editable": false,
    "nbgrader": {
     "cell_type": "code",
     "checksum": "ff9e21358d4b5e45aa0927ec0032dce3",
     "grade": true,
     "grade_id": "cell-9d6fc9071098ef82fb",
     "locked": true,
     "points": 1,
     "schema_version": 3,
     "solution": false,
     "task": false
    }
   },
   "outputs": [],
   "source": [
    "assert abs(get_circum(5) - 31.41) < 1e-2"
   ]
  },
  {
   "cell_type": "markdown",
   "metadata": {
    "deletable": false,
    "editable": false,
    "nbgrader": {
     "cell_type": "markdown",
     "checksum": "1030c10d8801da87174655f39857083d",
     "grade": false,
     "grade_id": "cell-fbd38fc59b853e43",
     "locked": true,
     "schema_version": 3,
     "solution": false,
     "task": false
    }
   },
   "source": [
    "### Problem 2\n",
    "\n",
    "Suppose you have a list that contains the all but one of the first $N$ natural numbers (including zero). Which one is missing? (Below assume $N$ is len(arr) + 1.)"
   ]
  },
  {
   "cell_type": "code",
   "execution_count": 13,
   "metadata": {
    "deletable": false,
    "nbgrader": {
     "cell_type": "code",
     "checksum": "a9017d1b92483043f6de38dbc0f8f73a",
     "grade": false,
     "grade_id": "cell-9e1780b6d661f940",
     "locked": false,
     "schema_version": 3,
     "solution": true,
     "task": false
    }
   },
   "outputs": [],
   "source": [
    "def missing_number(arr):\n",
    "    # YOUR CODE HERE\n",
    "    arr.sort()\n",
    "    for i in range(len(arr)):\n",
    "        if i != arr[i]:\n",
    "            return i\n",
    "    return len(arr)"
   ]
  },
  {
   "cell_type": "code",
   "execution_count": 14,
   "metadata": {
    "deletable": false,
    "editable": false,
    "nbgrader": {
     "cell_type": "code",
     "checksum": "be47dc56f362752689b55cba89feff67",
     "grade": true,
     "grade_id": "cell-9cd34d32a59d0f1e",
     "locked": true,
     "points": 0,
     "schema_version": 3,
     "solution": false,
     "task": false
    }
   },
   "outputs": [],
   "source": [
    "assert missing_number([0, 1, 9, 4, 5, 2, 3, 8, 7]) == 6\n",
    "assert missing_number([0, 1, 4, 2, 5]) == 3\n",
    "assert missing_number([0, 4, 2, 3, 1]) == 5"
   ]
  },
  {
   "cell_type": "markdown",
   "metadata": {
    "deletable": false,
    "editable": false,
    "nbgrader": {
     "cell_type": "markdown",
     "checksum": "38b85206837f84f4628b1707b4c478db",
     "grade": false,
     "grade_id": "cell-97527702e29f2ceaa",
     "locked": true,
     "schema_version": 3,
     "solution": false,
     "task": false
    }
   },
   "source": [
    "### Problem 3\n",
    "Write a function called `nested_dictionary`, which takes a list of strings as its only argument, converts the list into a \"nested dictionary of keys\" (see test cases), and returns the dictionary. Your function should raise a `TypeError` in the event that the input is not a list and a `ValueError` if the input list is not a list of strings."
   ]
  },
  {
   "cell_type": "code",
   "execution_count": 15,
   "metadata": {
    "deletable": false,
    "nbgrader": {
     "cell_type": "code",
     "checksum": "cc1611b530bc5cecdf080050fdcaa8de",
     "grade": false,
     "grade_id": "cell-933c6402c54a103fe",
     "locked": false,
     "schema_version": 3,
     "solution": true,
     "task": false
    }
   },
   "outputs": [],
   "source": [
    "def nested_dictionary(lst):\n",
    "    # YOUR CODE HERE\n",
    "    if not isinstance(lst, list):\n",
    "        raise TypeError(\"input isn't a list\")\n",
    "    for x in lst:\n",
    "        if not isinstance(x, str):\n",
    "            raise ValueError(\"element isn't a string\")\n",
    "    ret = {}\n",
    "    head = ret\n",
    "    for x in lst:\n",
    "        head[x] = {}\n",
    "        head = head[x]\n",
    "    return ret"
   ]
  },
  {
   "cell_type": "code",
   "execution_count": 16,
   "metadata": {
    "deletable": false,
    "editable": false,
    "nbgrader": {
     "cell_type": "code",
     "checksum": "4308888d7afce7e3bb50bd500e439991",
     "grade": true,
     "grade_id": "cell-861d52826949b45c4",
     "locked": true,
     "points": 1,
     "schema_version": 3,
     "solution": false,
     "task": false
    }
   },
   "outputs": [],
   "source": [
    "assert nested_dictionary([]) == {}\n",
    "assert nested_dictionary([\"hotdog\"]) == {\"hotdog\": {}}\n",
    "assert nested_dictionary([\"a\", \"b\", \"c\"]) == {\"a\": {\"b\": {\"c\": {}}}}"
   ]
  },
  {
   "cell_type": "code",
   "execution_count": 17,
   "metadata": {
    "deletable": false,
    "editable": false,
    "nbgrader": {
     "cell_type": "code",
     "checksum": "b300ce8e54888d735c2bc63c8368ac35",
     "grade": true,
     "grade_id": "cell-6138b72b188bcd64d",
     "locked": true,
     "points": 1,
     "schema_version": 3,
     "solution": false,
     "task": false
    }
   },
   "outputs": [],
   "source": [
    "try:\n",
    "    nested_dictionary([\"a\", \"b\", 42, \"c\"])\n",
    "    assert False\n",
    "except ValueError as e:\n",
    "    pass\n",
    "    \n",
    "try:\n",
    "    nested_dictionary(\"sweet potato\")\n",
    "    assert False\n",
    "except TypeError as e:\n",
    "    pass"
   ]
  },
  {
   "cell_type": "markdown",
   "metadata": {
    "deletable": false,
    "editable": false,
    "nbgrader": {
     "cell_type": "markdown",
     "checksum": "4b382cdc0404c5692ed232d410de3d13",
     "grade": false,
     "grade_id": "cell-a125667b44b77a1b1",
     "locked": true,
     "schema_version": 3,
     "solution": false,
     "task": false
    }
   },
   "source": [
    "### Problem 4\n",
    "Write a class named `Vehicle` with a constructor that takes two arguments: `max_gallons` and `mpg`. The former is the vehicle's fuel tank capacity and the latter is the number of miles the vehicle can travel on each gallon of gas. Implement a method called `get_range` that returns the number of miles the vehicle can travel on a full tank of gas."
   ]
  },
  {
   "cell_type": "code",
   "execution_count": 20,
   "metadata": {
    "deletable": false,
    "nbgrader": {
     "cell_type": "code",
     "checksum": "7df35923b60dbbb792d222294d0b7019",
     "grade": false,
     "grade_id": "cell-be1c3930401ea7b72",
     "locked": false,
     "schema_version": 3,
     "solution": true,
     "task": false
    }
   },
   "outputs": [],
   "source": [
    "class Vehicle:\n",
    "    # YOUR CODE HERE\n",
    "    def __init__(self, max_gallons, mpg):\n",
    "        self.max_gallons = max_gallons\n",
    "        self.mpg = mpg\n",
    "    \n",
    "    def get_range(self):\n",
    "        return self.max_gallons * self.mpg"
   ]
  },
  {
   "cell_type": "code",
   "execution_count": 21,
   "metadata": {
    "deletable": false,
    "editable": false,
    "nbgrader": {
     "cell_type": "code",
     "checksum": "830a66a5aa1f8900c1b9e47b3bbba724",
     "grade": true,
     "grade_id": "cell-1c9e46a64fba11aca",
     "locked": true,
     "points": 1,
     "schema_version": 3,
     "solution": false,
     "task": false
    }
   },
   "outputs": [],
   "source": [
    "# A Prius gets 54 mpg and its gas tank holds 11.4 gallons of gas\n",
    "prius = Vehicle(11.4, 54)\n",
    "assert abs(prius.get_range() - 615.6) < 1e-8"
   ]
  },
  {
   "cell_type": "markdown",
   "metadata": {
    "deletable": false,
    "editable": false,
    "nbgrader": {
     "cell_type": "markdown",
     "checksum": "0bbbabdeb5499377ebfb799e6a9a54e4",
     "grade": false,
     "grade_id": "cell-588444353922f53a0",
     "locked": true,
     "schema_version": 3,
     "solution": false,
     "task": false
    }
   },
   "source": [
    "### Problem 5\n",
    "For this problem, a \"bigram\" is a pair of consecutive characters in a string, where both characters are letters. For example, the string `\"hi bobo\"` contains exactly three unique bigrams: `\"hi\"`, `\"bo\"`, and `\"ob\"`. The second bigram, `\"bo\"`, appears twice, while the others appear once.\n",
    "\n",
    "Write a function that takes a string as input and returns the most frequently occurring bigram in this string. You may assume that the input string contains only lowercase letters, spaces, and punctuation. You may also assume that the most common bigram is unique."
   ]
  },
  {
   "cell_type": "code",
   "execution_count": 22,
   "metadata": {
    "deletable": false,
    "nbgrader": {
     "cell_type": "code",
     "checksum": "ce3462e2b1826be34e7a281fdb01acd7",
     "grade": false,
     "grade_id": "cell-e8e1333d5bcf474eb",
     "locked": false,
     "schema_version": 3,
     "solution": true,
     "task": false
    }
   },
   "outputs": [],
   "source": [
    "def commonest_bigram(x):\n",
    "    # YOUR CODE HERE\n",
    "    found = {}\n",
    "    letters = 'abcdefghijklmnopqrstuvwxyz'\n",
    "    for i in range(len(x) - 1):\n",
    "        bi = x[i:(i+2)]\n",
    "        if bi[0] in letters and bi[1] in letters:\n",
    "            if bi in found:\n",
    "                found[bi] += 1\n",
    "            else:\n",
    "                found[bi] = 1\n",
    "    longest = max(found.values())\n",
    "    for k, v in found.items():\n",
    "        if v == longest:\n",
    "            return k"
   ]
  },
  {
   "cell_type": "code",
   "execution_count": 23,
   "metadata": {
    "deletable": false,
    "editable": false,
    "nbgrader": {
     "cell_type": "code",
     "checksum": "0a8f3e8f6d016c03f71588c303c8a7ce",
     "grade": true,
     "grade_id": "cell-74ac0243b6940c673",
     "locked": true,
     "points": 1,
     "schema_version": 3,
     "solution": false,
     "task": false
    }
   },
   "outputs": [],
   "source": [
    "assert commonest_bigram(\"hi bobo\") == \"bo\"\n",
    "assert commonest_bigram(\"hey hey, help is on the way!\") == \"he\"\n",
    "assert commonest_bigram(\"fun run. in the sun!\") == \"un\""
   ]
  },
  {
   "cell_type": "markdown",
   "metadata": {
    "deletable": false,
    "editable": false,
    "nbgrader": {
     "cell_type": "markdown",
     "checksum": "d3d9ddfa841f185ae733d833e5758bde",
     "grade": false,
     "grade_id": "cell-4cf3f3d07646c31b8v",
     "locked": true,
     "schema_version": 3,
     "solution": false,
     "task": false
    }
   },
   "source": [
    "### Problem 6\n",
    "\n",
    "Write a function that validates credit card numbers from a particular bank. A string is a valid credit card number for this bank if and only if the following conditions hold:\n",
    "- It must start with a 2, 4, or 6.\n",
    "- It must contain exactly 16 digits.\n",
    "- It must only consist of digits (0-9) and hyphens.\n",
    "- If it contains hyphens, its digits are separate by hyphens into groups of four.\n",
    "- It must NOT use any other separator like space or underscore."
   ]
  },
  {
   "cell_type": "code",
   "execution_count": 25,
   "metadata": {
    "deletable": false,
    "nbgrader": {
     "cell_type": "code",
     "checksum": "a44d4a0a927eab438f5bdae80733a667",
     "grade": false,
     "grade_id": "cell-162ce6b63450839a4v",
     "locked": false,
     "schema_version": 3,
     "solution": true,
     "task": false
    }
   },
   "outputs": [],
   "source": [
    "def valid_cc(cc_number):\n",
    "    # YOUR CODE HERE\n",
    "    return re.match(r\"[246]\\d\\d\\d(-\\d\\d\\d\\d){3}$|[246]\\d{15}$\", cc_number)"
   ]
  },
  {
   "cell_type": "code",
   "execution_count": 26,
   "metadata": {
    "deletable": false,
    "editable": false,
    "nbgrader": {
     "cell_type": "code",
     "checksum": "50bc7b592bb2b61a52ae91a8f8093f6b",
     "grade": true,
     "grade_id": "cell-9d6fc9076098ef82fv",
     "locked": true,
     "points": 1,
     "schema_version": 3,
     "solution": false,
     "task": false
    }
   },
   "outputs": [],
   "source": [
    "assert valid_cc(\"2445571712286433\")\n",
    "assert valid_cc(\"6291002357881884\")\n",
    "assert valid_cc(\"4113-7221-8881-4335\")\n",
    "\n",
    "assert not valid_cc(\"62911123578818840\")      # 17 digits in card number\n",
    "assert not valid_cc(\"4113-7221-8881 - 4335\")  # Separators other than '-' are used\n",
    "assert not valid_cc(\"6291112357x881884\")      # Contains non-digit characters\n",
    "assert not valid_cc(\"5291112357881884\")       # Doesn't start with 2, 4, or 6\n",
    "assert not valid_cc(\"4113-7221-8881\")         # 12 digits in card number"
   ]
  },
  {
   "cell_type": "markdown",
   "metadata": {
    "deletable": false,
    "editable": false,
    "nbgrader": {
     "cell_type": "markdown",
     "checksum": "49e060fa6e18907648050b23a9f9e04f",
     "grade": false,
     "grade_id": "cell-bc84e77564e4c178f",
     "locked": true,
     "schema_version": 3,
     "solution": false,
     "task": false
    }
   },
   "source": [
    "### Problem 7\n",
    "The density of a multivariate normal distribution is\n",
    "$f(x) = (2\\pi)^{-k/2}\\mathrm{det}(\\Sigma)^{-1/2}e^{-\\frac{1}{2}(x - \\mu)^\\top \\Sigma^{-1} (x - \\mu)}$, where $x$ is the data, $k$ is the dimension of the data, $\\mu$ is the mean, and $\\Sigma$ is the covariance.\n",
    "\n",
    "Write a function that computes this density using only numpy (and built-in Python commands);\n",
    "do not use `scipy.stats.multivariate_normal`."
   ]
  },
  {
   "cell_type": "code",
   "execution_count": 27,
   "metadata": {
    "deletable": false,
    "nbgrader": {
     "cell_type": "code",
     "checksum": "627067776a7632c9e7267b78b4627488",
     "grade": false,
     "grade_id": "cell-019553275e6b51693",
     "locked": false,
     "schema_version": 3,
     "solution": true,
     "task": false
    }
   },
   "outputs": [],
   "source": [
    "def mvn_pdf(x, mean, cov):\n",
    "    # YOUR CODE HERE\n",
    "    ret = (2* np.pi)**(-.5 * len(x)) * np.linalg.det(cov)**(-0.5)\n",
    "    sqdist = (x - mean).dot(np.linalg.inv(cov)).dot(x-mean)\n",
    "    ret *= np.exp(-.5 * sqdist)\n",
    "    return ret"
   ]
  },
  {
   "cell_type": "code",
   "execution_count": 28,
   "metadata": {
    "deletable": false,
    "editable": false,
    "nbgrader": {
     "cell_type": "code",
     "checksum": "713db89ae61bbf42c037fe4f62022c94",
     "grade": true,
     "grade_id": "cell-b4b08cd054defccb6",
     "locked": true,
     "points": 1,
     "schema_version": 3,
     "solution": false,
     "task": false
    }
   },
   "outputs": [],
   "source": [
    "from scipy.stats import multivariate_normal\n",
    "\n",
    "x = np.zeros(2)\n",
    "mean = np.zeros(2)\n",
    "cov = np.eye(2)\n",
    "claimed = mvn_pdf(x, mean, cov)\n",
    "rv = multivariate_normal(mean=mean, cov=cov)\n",
    "correct = rv.pdf(x)\n",
    "assert (claimed - correct) < 1e-8\n",
    "\n",
    "x = np.ones(2)\n",
    "mean = np.ones(2) * .7\n",
    "mean[1] += .3\n",
    "cov = np.eye(2) + 0.5\n",
    "cov[0, 0] += 3\n",
    "claimed = mvn_pdf(x, mean, cov)\n",
    "rv = multivariate_normal(mean=mean, cov=cov)\n",
    "correct = rv.pdf(x)\n",
    "assert (claimed - correct) < 1e-8"
   ]
  },
  {
   "cell_type": "markdown",
   "metadata": {
    "deletable": false,
    "editable": false,
    "nbgrader": {
     "cell_type": "markdown",
     "checksum": "3c3c9b93705a694079e331fd8865ab8c",
     "grade": false,
     "grade_id": "cell-878380482ee5636c",
     "locked": true,
     "schema_version": 3,
     "solution": false,
     "task": false
    }
   },
   "source": [
    "### Problem 8\n",
    "A number is said to be *enchanted* if the sum of its digits raised to their respective positions is the number itself.\n",
    "\n",
    "Write a function that determines whether a number is enchanted.\n",
    "\n",
    "Note: Position of the digit is 1-indexed."
   ]
  },
  {
   "cell_type": "code",
   "execution_count": 29,
   "metadata": {
    "deletable": false,
    "nbgrader": {
     "cell_type": "code",
     "checksum": "b4f8e33027243c90e80b7831715bc2c1",
     "grade": false,
     "grade_id": "cell-6d27653af9bdd730",
     "locked": false,
     "schema_version": 3,
     "solution": true,
     "task": false
    }
   },
   "outputs": [],
   "source": [
    "def is_enchanted(n):\n",
    "    # YOUR CODE HERE\n",
    "    r = 0\n",
    "    for i in range(len(str(n))):\n",
    "        r += int(str(n)[i]) ** (i + 1)\n",
    "    return r == n"
   ]
  },
  {
   "cell_type": "code",
   "execution_count": 30,
   "metadata": {
    "deletable": false,
    "editable": false,
    "nbgrader": {
     "cell_type": "code",
     "checksum": "611a1bd19aea034e5d1a73b3bb806455",
     "grade": true,
     "grade_id": "cell-709935789347bc50",
     "locked": true,
     "points": 1,
     "schema_version": 3,
     "solution": false,
     "task": false
    }
   },
   "outputs": [],
   "source": [
    "# 7^1 + 5^2 = 7 + 25 = 32\n",
    "assert not is_enchanted(75)\n",
    "\n",
    "# 1^1 + 3^2 + 5^3 = 1 + 9 + 125 = 135\n",
    "assert is_enchanted(135)\n",
    "\n",
    "# 8^1 = 8\n",
    "assert is_enchanted(8)"
   ]
  },
  {
   "cell_type": "markdown",
   "metadata": {
    "deletable": false,
    "editable": false,
    "nbgrader": {
     "cell_type": "markdown",
     "checksum": "dbd92800a9e90075251fe5240df621ba",
     "grade": false,
     "grade_id": "cell-4cf3f3d07416c31b87",
     "locked": true,
     "schema_version": 3,
     "solution": false,
     "task": false
    }
   },
   "source": [
    "### Problem 9\n",
    "\n",
    "You and your friend Charles are playing a game of chess. You've both been having trouble following the rules (especially Charles) and now your chess board may be in an invalid state. One way a board can be invalid is if two kings appear next to each other. (A square is \"next to\" as many as eight other squares: left/right/top/bottom as well as above-left/above-right/below-left/below-right.)\n",
    "\n",
    "Write a function that takes an $8\\times 8$ numpy array. This array represents a chess board. The array is all zeros except for two ones that indicate the locations of the kings. Return `False` if and only if the two kings are next to each other. "
   ]
  },
  {
   "cell_type": "code",
   "execution_count": 31,
   "metadata": {
    "deletable": false,
    "nbgrader": {
     "cell_type": "code",
     "checksum": "b5a13b7b49da08d70e8136857bf79ad3",
     "grade": false,
     "grade_id": "cell-1612ce6b3450839a47",
     "locked": false,
     "schema_version": 3,
     "solution": true,
     "task": false
    }
   },
   "outputs": [],
   "source": [
    "def valid_board(board):\n",
    "    # YOUR CODE HERE\n",
    "    for i in range(7):\n",
    "        for j in range(7):\n",
    "            if board[i:(i+2),j:(j+2)].sum() > 1.5:\n",
    "                return False\n",
    "    return True"
   ]
  },
  {
   "cell_type": "code",
   "execution_count": 32,
   "metadata": {
    "deletable": false,
    "editable": false,
    "nbgrader": {
     "cell_type": "code",
     "checksum": "4c3ee1d3405547476335e8c1284c0951",
     "grade": true,
     "grade_id": "cell-9d6fc9071098ef82f7",
     "locked": true,
     "points": 1,
     "schema_version": 3,
     "solution": false,
     "task": false
    }
   },
   "outputs": [],
   "source": [
    "board1 = np.zeros((8, 8))\n",
    "board1[1,1] = 1\n",
    "board1[6,5] = 1\n",
    "assert valid_board(board1)\n",
    "\n",
    "board2 = np.zeros((8, 8))\n",
    "board2[2,2] = 1\n",
    "board2[2,3] = 1\n",
    "assert not valid_board(board2)\n",
    "\n",
    "board3 = np.zeros((8, 8))\n",
    "board3[2,2] = 1\n",
    "board3[3,3] = 1\n",
    "assert not valid_board(board3)"
   ]
  },
  {
   "cell_type": "markdown",
   "metadata": {},
   "source": [
    "### Problem 10\n",
    "Write a function which generates a square \"dartboard\" of side length $n$, as shown in the test cases below. On the dartboard, a number displayed increases the closer its position is to the center. You may assume $n < 19$."
   ]
  },
  {
   "cell_type": "code",
   "execution_count": 33,
   "metadata": {
    "deletable": false,
    "nbgrader": {
     "cell_type": "code",
     "checksum": "801487c86b3e5b1803da909a1dfcc99f",
     "grade": false,
     "grade_id": "cell-a42c8406cdb29e59",
     "locked": false,
     "schema_version": 3,
     "solution": true,
     "task": false
    }
   },
   "outputs": [],
   "source": [
    "def create_dartboard(n):\n",
    "    # YOUR CODE HERE\n",
    "    row, top = 0, []\n",
    "    for i in range(n, 0, -2):\n",
    "        row += int('{:0^{}}'.format('1'*i, n))\n",
    "        top.append(row)\n",
    "    bottom = top[::-1][1:] if n%2 else top[::-1]\n",
    "    return top+bottom"
   ]
  },
  {
   "cell_type": "code",
   "execution_count": 34,
   "metadata": {
    "deletable": false,
    "editable": false,
    "nbgrader": {
     "cell_type": "code",
     "checksum": "b2867093bd1b852c18e266dac52e3564",
     "grade": true,
     "grade_id": "cell-99ef7fed8624ac44",
     "locked": true,
     "points": 1,
     "schema_version": 3,
     "solution": false,
     "task": false
    }
   },
   "outputs": [],
   "source": [
    "assert create_dartboard(3) == [\n",
    "    111,\n",
    "    121,\n",
    "    111\n",
    "]\n",
    "\n",
    "assert create_dartboard(4) == [\n",
    "    1111,\n",
    "    1221,\n",
    "    1221,\n",
    "    1111\n",
    "]\n",
    "\n",
    "assert create_dartboard(9) == [\n",
    "    111111111,\n",
    "    122222221,\n",
    "    123333321,\n",
    "    123444321,\n",
    "    123454321,\n",
    "    123444321,\n",
    "    123333321,\n",
    "    122222221,\n",
    "    111111111\n",
    "]"
   ]
  },
  {
   "cell_type": "markdown",
   "metadata": {
    "deletable": false,
    "editable": false,
    "nbgrader": {
     "cell_type": "markdown",
     "checksum": "15f79ea80d1542225bc58789d77386fc",
     "grade": false,
     "grade_id": "cell-4cf3f3d07416c31b8w",
     "locked": true,
     "schema_version": 3,
     "solution": false,
     "task": false
    }
   },
   "source": [
    "### Problem 11\n",
    "\n",
    "Using PyTorch and gradient descent, find $\\hat \\beta_0$ and $\\hat \\beta_1$ that minimizes the sum of squared errors: $\\sum_{i = 1}^N (\\hat y_i - y)^2$. Here, for $i=1,\\ldots,N$, $x_i$ is a univariate predictor, $y_i$ is a univariate response, and $\\hat y_i = \\hat \\beta_0 + \\hat \\beta_1 x_i$. The function you write takes six arguments: `x` (the predictors), `y` (the response), `init_betahat0` (a starting value for $\\hat \\beta_0$), `init_betahat1` (a starting value for $\\hat \\beta_1$), `num_iters` (the total number of gradient descent iterations), and `lr` (the learning rate)."
   ]
  },
  {
   "cell_type": "code",
   "execution_count": 36,
   "metadata": {
    "deletable": false,
    "nbgrader": {
     "cell_type": "code",
     "checksum": "a0dd4335724c73fb4b3d77c04a6b0fb1",
     "grade": false,
     "grade_id": "cell-1612ce6b3450839a49",
     "locked": false,
     "schema_version": 3,
     "solution": true,
     "task": false
    }
   },
   "outputs": [],
   "source": [
    "def ols_via_gd(x, y, init_betahat0, init_betahat1, num_iters, lr):\n",
    "    # YOUR CODE HERE\n",
    "    betahat0 = torch.tensor(init_betahat0, requires_grad=True)\n",
    "    betahat1 = torch.tensor(init_betahat1, requires_grad=True)\n",
    "    \n",
    "    for i in range(num_iters):\n",
    "        yhat = betahat0 + betahat1 * x\n",
    "        sse = ((yhat - y)**2).sum()\n",
    "        sse.backward()\n",
    "        with torch.no_grad():\n",
    "            betahat0 -= lr * betahat0.grad\n",
    "            betahat1 -= lr * betahat1.grad\n",
    "            betahat0.grad.zero_()\n",
    "            betahat1.grad.zero_()\n",
    "    \n",
    "    return betahat0, betahat1"
   ]
  },
  {
   "cell_type": "code",
   "execution_count": 37,
   "metadata": {
    "deletable": false,
    "editable": false,
    "nbgrader": {
     "cell_type": "code",
     "checksum": "b0baf2e21071b941a2b53792f5809ad1",
     "grade": true,
     "grade_id": "cell-9d6fc9071098ef82f9",
     "locked": true,
     "points": 2,
     "schema_version": 3,
     "solution": false,
     "task": false
    }
   },
   "outputs": [],
   "source": [
    "x = torch.arange(10)\n",
    "y = 3 * x + 2\n",
    "betahat0, betahat1 = ols_via_gd(x, y, 0.0, 0.0, 1000, 1e-3)\n",
    "assert abs(betahat0 - 2) < 0.1\n",
    "assert abs(betahat1 - 3) < 0.1"
   ]
  },
  {
   "cell_type": "markdown",
   "metadata": {
    "deletable": false,
    "editable": false,
    "nbgrader": {
     "cell_type": "markdown",
     "checksum": "8d758fac4a21968fd58e24db6cfb6a56",
     "grade": false,
     "grade_id": "cell-4cf3f3d07416c31b88",
     "locked": true,
     "schema_version": 3,
     "solution": false,
     "task": false
    }
   },
   "source": [
    "### Problem 12\n",
    "Write a function that takes takes two arguments: the filename of an SQLite database and a stock ticker symbol.\n",
    "The SQLite database has a table called \"stocks\" that lists daily closing prices for stocks. It has three columns: date, symbol, and price. Your function should return the average price for the stock with the specified symbol."
   ]
  },
  {
   "cell_type": "code",
   "execution_count": 38,
   "metadata": {
    "deletable": false,
    "nbgrader": {
     "cell_type": "code",
     "checksum": "584052926c5865953b473f135b06191c",
     "grade": false,
     "grade_id": "cell-d0b18e4e77f71d8cf",
     "locked": false,
     "schema_version": 3,
     "solution": true,
     "task": false
    }
   },
   "outputs": [],
   "source": [
    "def average_price(db_file, ticker_symbol):\n",
    "    with sqlite3.connect(db_file) as conn:\n",
    "        # YOUR CODE HERE\n",
    "        c = conn.cursor()\n",
    "        q = 'select avg(price) from stocks where symbol=?'\n",
    "        for row in c.execute(q, (ticker_symbol,)):\n",
    "            return row[0]"
   ]
  },
  {
   "cell_type": "code",
   "execution_count": 39,
   "metadata": {
    "deletable": false,
    "editable": false,
    "nbgrader": {
     "cell_type": "code",
     "checksum": "ef164abc8a00e5c153af069901aa36be",
     "grade": true,
     "grade_id": "cell-f9483b44511eee96a",
     "locked": true,
     "points": 1,
     "schema_version": 3,
     "solution": false,
     "task": false
    }
   },
   "outputs": [],
   "source": [
    "claimed = average_price(\"stocks.db\", \"APPL\")\n",
    "assert abs(claimed - 116.4) < 1e-8\n"
   ]
  }
 ],
 "metadata": {
  "kernelspec": {
   "display_name": "Python 3",
   "language": "python",
   "name": "python3"
  },
  "language_info": {
   "codemirror_mode": {
    "name": "ipython",
    "version": 3
   },
   "file_extension": ".py",
   "mimetype": "text/x-python",
   "name": "python",
   "nbconvert_exporter": "python",
   "pygments_lexer": "ipython3",
   "version": "3.9.1"
  }
 },
 "nbformat": 4,
 "nbformat_minor": 4
}
