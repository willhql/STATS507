{
 "cells": [
  {
   "cell_type": "code",
   "execution_count": null,
   "metadata": {
    "deletable": false,
    "editable": false,
    "nbgrader": {
     "cell_type": "code",
     "checksum": "ec72c1c550d87a8eb68c09c755b4f30e",
     "grade": false,
     "grade_id": "cell-649ce094b9b16be4",
     "locked": true,
     "schema_version": 3,
     "solution": false,
     "task": false
    }
   },
   "outputs": [],
   "source": [
    "# Pandas Practice Problems"
   ]
  },
  {
   "cell_type": "code",
   "execution_count": null,
   "metadata": {
    "deletable": false,
    "editable": false,
    "nbgrader": {
     "cell_type": "code",
     "checksum": "96fa9da87300f65e4915e887ad5380db",
     "grade": false,
     "grade_id": "cell-25b2e6fe2f862586",
     "locked": true,
     "schema_version": 3,
     "solution": false,
     "task": false
    }
   },
   "outputs": [],
   "source": [
    "%load_ext pycodestyle_magic\n",
    "%flake8_on --ignore E266 --max_line_length 99"
   ]
  },
  {
   "cell_type": "code",
   "execution_count": null,
   "metadata": {
    "deletable": false,
    "editable": false,
    "nbgrader": {
     "cell_type": "code",
     "checksum": "5d7a1cee72bb420cef0f708c36e3fb8d",
     "grade": false,
     "grade_id": "cell-e2f75bbdf680afff",
     "locked": true,
     "schema_version": 3,
     "solution": false,
     "task": false
    }
   },
   "outputs": [],
   "source": [
    "from urllib import request\n",
    "from os import path\n",
    "import pandas as pd\n",
    "import numpy as np\n",
    "\n",
    "url = \"https://archive.ics.uci.edu/ml/machine-learning-databases/forest-fires/\"\n",
    "fn = \"forestfires.csv\"\n",
    "if not path.exists(fn):\n",
    "    data = request.urlopen(url + fn).read()\n",
    "    with open(fn, 'wb') as fhand:\n",
    "        fhand.write(data)\n",
    "\n",
    "ff = pd.read_csv(\"forestfires.csv\")\n",
    "ff"
   ]
  },
  {
   "cell_type": "markdown",
   "metadata": {
    "deletable": false,
    "editable": false,
    "nbgrader": {
     "cell_type": "markdown",
     "checksum": "9b4b2582199493be7b93ea51736da53d",
     "grade": false,
     "grade_id": "cell-9f20b21be25c4523",
     "locked": true,
     "schema_version": 3,
     "solution": false,
     "task": false
    }
   },
   "source": [
    "### Problem 1: Filtering and computing a mean\n",
    "Write a function that returns the average rainfall on days with wind speed above 6 mph."
   ]
  },
  {
   "cell_type": "code",
   "execution_count": null,
   "metadata": {
    "deletable": false,
    "nbgrader": {
     "cell_type": "code",
     "checksum": "7625eec1757677ed3ceedfaaad345eea",
     "grade": false,
     "grade_id": "cell-a302cac2faa1187d",
     "locked": false,
     "schema_version": 3,
     "solution": true,
     "task": false
    }
   },
   "outputs": [],
   "source": [
    "def windy_rain():\n",
    "    # YOUR CODE HERE\n",
    "    raise NotImplementedError()"
   ]
  },
  {
   "cell_type": "code",
   "execution_count": null,
   "metadata": {
    "deletable": false,
    "editable": false,
    "nbgrader": {
     "cell_type": "code",
     "checksum": "c2bc78ff66d228d5bb3da2a785ebc509",
     "grade": true,
     "grade_id": "cell-0bcdc1e3800f6a24",
     "locked": true,
     "points": 1,
     "schema_version": 3,
     "solution": false,
     "task": false
    }
   },
   "outputs": [],
   "source": [
    "assert abs(windy_rain() - 0.0412698) < 1e-6"
   ]
  },
  {
   "cell_type": "markdown",
   "metadata": {
    "deletable": false,
    "editable": false,
    "nbgrader": {
     "cell_type": "markdown",
     "checksum": "4e591cbd6dbbd72361cfb56ebe4dc4fd",
     "grade": false,
     "grade_id": "cell-df1b73afd0ae7ec4",
     "locked": true,
     "schema_version": 3,
     "solution": false,
     "task": false
    }
   },
   "source": [
    "### Problem 2: Filtering and computing a sum\n",
    "Write a function that take a month as an argument and returns the total rainfall during the month."
   ]
  },
  {
   "cell_type": "code",
   "execution_count": null,
   "metadata": {
    "deletable": false,
    "nbgrader": {
     "cell_type": "code",
     "checksum": "253c2b954d90b76a4975058ca75717d3",
     "grade": false,
     "grade_id": "cell-a21234336020693a",
     "locked": false,
     "schema_version": 3,
     "solution": true,
     "task": false
    }
   },
   "outputs": [],
   "source": [
    "def monthly_rain(month):\n",
    "    # YOUR CODE HERE\n",
    "    raise NotImplementedError()"
   ]
  },
  {
   "cell_type": "code",
   "execution_count": null,
   "metadata": {
    "deletable": false,
    "editable": false,
    "nbgrader": {
     "cell_type": "code",
     "checksum": "e55513a773fa6812cf9b7e00f6630eb3",
     "grade": true,
     "grade_id": "cell-db413049a2a4d48e",
     "locked": true,
     "points": 1,
     "schema_version": 3,
     "solution": false,
     "task": false
    }
   },
   "outputs": [],
   "source": [
    "assert abs(monthly_rain(\"aug\") - 10.8) < 1e-6\n",
    "assert abs(monthly_rain(\"mar\") - 0.2) < 1e-6"
   ]
  },
  {
   "cell_type": "markdown",
   "metadata": {
    "deletable": false,
    "editable": false,
    "nbgrader": {
     "cell_type": "markdown",
     "checksum": "6c701ae38bf56d9a2174fe78ea292c9a",
     "grade": false,
     "grade_id": "cell-ee49ad9b364b7e06",
     "locked": true,
     "schema_version": 3,
     "solution": false,
     "task": false
    }
   },
   "source": [
    "### Problem 3: Loading Pandas data frames\n",
    "Download the white wine dataset from [https://archive.ics.uci.edu/ml/machine-learning-databases/wine-quality/winequality-white.csv](https://archive.ics.uci.edu/ml/machine-learning-databases/wine-quality/winequality-white.csv), and load it into a Pandas dataframe called `df`."
   ]
  },
  {
   "cell_type": "code",
   "execution_count": null,
   "metadata": {
    "deletable": false,
    "nbgrader": {
     "cell_type": "code",
     "checksum": "7657d5f288f1575d24e8e3c4a1ef504d",
     "grade": false,
     "grade_id": "cell-a24f7cb6ee8b606c",
     "locked": false,
     "schema_version": 3,
     "solution": true,
     "task": false
    }
   },
   "outputs": [],
   "source": [
    "from urllib import request\n",
    "from os import path\n",
    "import pandas as pd\n",
    "\n",
    "url = \"https://archive.ics.uci.edu/ml/machine-learning-databases/wine-quality/\"\n",
    "fn = \"winequality-white.csv\"\n",
    "# YOUR CODE HERE\n",
    "raise NotImplementedError()"
   ]
  },
  {
   "cell_type": "code",
   "execution_count": null,
   "metadata": {
    "deletable": false,
    "editable": false,
    "nbgrader": {
     "cell_type": "code",
     "checksum": "a142f2fe0377264ba3fb004b99353921",
     "grade": true,
     "grade_id": "cell-d566adf4a0305bf4",
     "locked": true,
     "points": 1,
     "schema_version": 3,
     "solution": false,
     "task": false
    }
   },
   "outputs": [],
   "source": [
    "assert abs(df[\"citric acid\"].mean() - 0.3341915) < 1e-8"
   ]
  },
  {
   "cell_type": "markdown",
   "metadata": {
    "deletable": false,
    "editable": false,
    "nbgrader": {
     "cell_type": "markdown",
     "checksum": "7effe35bf9b32dea40589a51bcf2ad6e",
     "grade": false,
     "grade_id": "cell-1237dec8d063dc65",
     "locked": true,
     "schema_version": 3,
     "solution": false,
     "task": false
    }
   },
   "source": [
    "### Problem 4: pipe\n",
    "Write a function that takes a user-defined function as an argument.\n",
    "It uses `pipe` to apply the function to each wine pH, and returns the mean of the values returned by the user-defined function."
   ]
  },
  {
   "cell_type": "code",
   "execution_count": null,
   "metadata": {
    "deletable": false,
    "nbgrader": {
     "cell_type": "code",
     "checksum": "927e8210e687fc86657a5a55c7219d0e",
     "grade": false,
     "grade_id": "cell-3c158319d4eb0923",
     "locked": false,
     "schema_version": 3,
     "solution": true,
     "task": false
    }
   },
   "outputs": [],
   "source": [
    "def mean_ph(user_fun):\n",
    "    # YOUR CODE HERE\n",
    "    raise NotImplementedError()"
   ]
  },
  {
   "cell_type": "code",
   "execution_count": null,
   "metadata": {
    "deletable": false,
    "editable": false,
    "nbgrader": {
     "cell_type": "code",
     "checksum": "b963eb34c64810f05106b722faea64eb",
     "grade": true,
     "grade_id": "cell-6d36ddd9e5bea7d4",
     "locked": true,
     "points": 1,
     "schema_version": 3,
     "solution": false,
     "task": false
    }
   },
   "outputs": [],
   "source": [
    "assert abs(mean_ph(lambda x: x**2) - (df.pH ** 2).mean()) < 1e-8"
   ]
  },
  {
   "cell_type": "markdown",
   "metadata": {
    "deletable": false,
    "editable": false,
    "nbgrader": {
     "cell_type": "markdown",
     "checksum": "6472d48f6d3be9f626cc291d477d78b4",
     "grade": false,
     "grade_id": "cell-699d8ba276840a95",
     "locked": true,
     "schema_version": 3,
     "solution": false,
     "task": false
    }
   },
   "source": [
    "### Problem 5: groupby\n",
    "Use the Pandas `groupby` function to create a function that takes no arguments and returns the mean citric acid for wines with each quality level as a series indexed by quality."
   ]
  },
  {
   "cell_type": "code",
   "execution_count": null,
   "metadata": {
    "deletable": false,
    "nbgrader": {
     "cell_type": "code",
     "checksum": "7a9cf95202040a37e0175b80a6f4d2d5",
     "grade": false,
     "grade_id": "cell-c6b2f3da7e171417",
     "locked": false,
     "schema_version": 3,
     "solution": true,
     "task": false
    }
   },
   "outputs": [],
   "source": [
    "def quality_mean():\n",
    "    # YOUR CODE HERE\n",
    "    raise NotImplementedError()"
   ]
  },
  {
   "cell_type": "code",
   "execution_count": null,
   "metadata": {
    "deletable": false,
    "editable": false,
    "nbgrader": {
     "cell_type": "code",
     "checksum": "59a7865e8ac0ec0b1c313a1120f95dc1",
     "grade": true,
     "grade_id": "cell-c218d4ab52c30775",
     "locked": true,
     "points": 1,
     "schema_version": 3,
     "solution": false,
     "task": false
    }
   },
   "outputs": [],
   "source": [
    "assert abs(quality_mean()[9] - 0.386) < 1e-8"
   ]
  },
  {
   "attachments": {
    "rollup.png": {
     "image/png": "[encoded data removed]"
    }
   },
   "cell_type": "markdown",
   "metadata": {
    "deletable": false,
    "editable": false,
    "nbgrader": {
     "cell_type": "markdown",
     "checksum": "210811b3b0f6a7ce165b18b7325c8c0a",
     "grade": false,
     "grade_id": "cell-7052adbecbc96fa8",
     "locked": true,
     "schema_version": 3,
     "solution": false,
     "task": false
    }
   },
   "source": [
    "### Problem 6: Advanced groupby\n",
    "Create a new eight-row dataframe called `rollup` based on the `df` dataframe, which reports median pH, median cholides, and median citric acid among wines grouped by whether they are more sugary than most wines, more acidic than more wines, and more alcoholic than most wines. It should look like ![rollup.png](attachment:rollup.png)"
   ]
  },
  {
   "cell_type": "code",
   "execution_count": null,
   "metadata": {
    "deletable": false,
    "nbgrader": {
     "cell_type": "code",
     "checksum": "55f1ef05d1a0267db57cd7812d75e084",
     "grade": false,
     "grade_id": "cell-dc4912ba9ba29e4c",
     "locked": false,
     "schema_version": 3,
     "solution": true,
     "task": false
    }
   },
   "outputs": [],
   "source": [
    "# YOUR CODE HERE\n",
    "raise NotImplementedError()"
   ]
  },
  {
   "cell_type": "code",
   "execution_count": null,
   "metadata": {
    "deletable": false,
    "editable": false,
    "nbgrader": {
     "cell_type": "code",
     "checksum": "fb402386faa99022f97e325e6eaf79cd",
     "grade": true,
     "grade_id": "cell-15a153cd46db3c45",
     "locked": true,
     "points": 1,
     "schema_version": 3,
     "solution": false,
     "task": false
    }
   },
   "outputs": [],
   "source": [
    "assert abs(rollup.pH[False][True][True] - 3.08) < 1e-8"
   ]
  }
 ],
 "metadata": {
  "kernelspec": {
   "display_name": "Python 3",
   "language": "python",
   "name": "python3"
  },
  "language_info": {
   "codemirror_mode": {
    "name": "ipython",
    "version": 3
   },
   "file_extension": ".py",
   "mimetype": "text/x-python",
   "name": "python",
   "nbconvert_exporter": "python",
   "pygments_lexer": "ipython3",
   "version": "3.8.6"
  }
 },
 "nbformat": 4,
 "nbformat_minor": 4
}
