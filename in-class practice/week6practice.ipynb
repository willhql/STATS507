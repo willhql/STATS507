{
 "cells": [
  {
   "cell_type": "markdown",
   "metadata": {
    "deletable": false,
    "editable": false,
    "nbgrader": {
     "cell_type": "markdown",
     "checksum": "2b665f7a237c7a032c7952d218adb3e9",
     "grade": false,
     "grade_id": "cell-2eb7d743fa08f005",
     "locked": true,
     "schema_version": 3,
     "solution": false,
     "task": false
    }
   },
   "source": [
    "###### Week 6 Numpy Practice Problems"
   ]
  },
  {
   "cell_type": "code",
   "execution_count": null,
   "metadata": {
    "deletable": false,
    "editable": false,
    "nbgrader": {
     "cell_type": "code",
     "checksum": "4d81e32309a33c2ea6ee015f08fba0d3",
     "grade": false,
     "grade_id": "cell-17b047d8577e133c",
     "locked": true,
     "schema_version": 3,
     "solution": false,
     "task": false
    }
   },
   "outputs": [],
   "source": [
    "%load_ext pycodestyle_magic\n",
    "%flake8_on --ignore E266 --max_line_length 99\n",
    "\n",
    "import numpy as np"
   ]
  },
  {
   "cell_type": "markdown",
   "metadata": {
    "deletable": false,
    "editable": false,
    "nbgrader": {
     "cell_type": "markdown",
     "checksum": "3d953560ab018d5f7494341cd4a6e604",
     "grade": false,
     "grade_id": "cell-5e9fb9f358538ea3",
     "locked": true,
     "schema_version": 3,
     "solution": false,
     "task": false
    }
   },
   "source": [
    "### Problem 1\n",
    "Convert an array of Celsius measurements to Fahrenheit."
   ]
  },
  {
   "cell_type": "code",
   "execution_count": null,
   "metadata": {
    "deletable": false,
    "nbgrader": {
     "cell_type": "code",
     "checksum": "16e03d6152016f5ed57a3f7a56a79b6f",
     "grade": false,
     "grade_id": "cell-91b2c99aa4c4ff4c",
     "locked": false,
     "schema_version": 3,
     "solution": true,
     "task": false
    }
   },
   "outputs": [],
   "source": [
    "def convert_to_fahrenheit(centigrade_temps):\n",
    "    # YOUR CODE HERE\n",
    "    raise NotImplementedError()"
   ]
  },
  {
   "cell_type": "code",
   "execution_count": null,
   "metadata": {
    "deletable": false,
    "editable": false,
    "nbgrader": {
     "cell_type": "code",
     "checksum": "4c1d7526570eddaed01df3e6d79b5760",
     "grade": true,
     "grade_id": "cell-5865bd78c4dcf6aa",
     "locked": true,
     "points": 1,
     "schema_version": 3,
     "solution": false,
     "task": false
    }
   },
   "outputs": [],
   "source": [
    "assert np.all(convert_to_fahrenheit(np.abs(np.zeros(4)) - 32.) < 1e-8)\n",
    "assert np.all(convert_to_fahrenheit(np.abs(np.ones((10, 10)) * 100) - 212.) < 1e-8)"
   ]
  },
  {
   "cell_type": "markdown",
   "metadata": {
    "deletable": false,
    "editable": false,
    "nbgrader": {
     "cell_type": "markdown",
     "checksum": "b3d04b9d8f041cd36e9dba1b8222db72",
     "grade": false,
     "grade_id": "cell-7985f59c89695efa",
     "locked": true,
     "schema_version": 3,
     "solution": false,
     "task": false
    }
   },
   "source": [
    "### Problem 2\n",
    "Use numpy to create a function that adds a border filled with zeros around an existing array.\n",
    "\n",
    "*Hint*: Use numpy's `pad` function. See https://numpy.org/doc/stable/reference/generated/numpy.pad.html"
   ]
  },
  {
   "cell_type": "code",
   "execution_count": null,
   "metadata": {
    "deletable": false,
    "nbgrader": {
     "cell_type": "code",
     "checksum": "51d7177dfb8191f1bee1f3e65868410f",
     "grade": false,
     "grade_id": "cell-2466342b05a17106",
     "locked": false,
     "schema_version": 3,
     "solution": true,
     "task": false
    }
   },
   "outputs": [],
   "source": [
    "def add_border(x):\n",
    "    # YOUR CODE HERE\n",
    "    raise NotImplementedError()"
   ]
  },
  {
   "cell_type": "code",
   "execution_count": null,
   "metadata": {
    "deletable": false,
    "editable": false,
    "nbgrader": {
     "cell_type": "code",
     "checksum": "9ed924325c1c02ece986c20232cab265",
     "grade": true,
     "grade_id": "cell-fb9bae34e3908aed",
     "locked": true,
     "points": 1,
     "schema_version": 3,
     "solution": false,
     "task": false
    }
   },
   "outputs": [],
   "source": [
    "x = np.ones((1, 1))\n",
    "claimed = add_border(x)\n",
    "correct = np.zeros((3, 3))\n",
    "correct[1, 1] = 1.0\n",
    "assert claimed.shape == correct.shape\n",
    "assert np.all(np.abs(claimed - correct) < 1e-8)"
   ]
  },
  {
   "cell_type": "markdown",
   "metadata": {
    "deletable": false,
    "editable": false,
    "nbgrader": {
     "cell_type": "markdown",
     "checksum": "7dcac8c8907d04878e6d9c5ab9cb4ea4",
     "grade": false,
     "grade_id": "cell-2d8e4884c404a310",
     "locked": true,
     "schema_version": 3,
     "solution": false,
     "task": false
    }
   },
   "source": [
    "### Problem 3\n",
    "Create an $n \\times n$ numpy array filled with a checkerboard pattern of zeros and ones. The first entry should be the integer `0`. Assume $n \\ge 2$."
   ]
  },
  {
   "cell_type": "code",
   "execution_count": null,
   "metadata": {
    "deletable": false,
    "nbgrader": {
     "cell_type": "code",
     "checksum": "b045f39c1dac00e24fc1b00a97596aec",
     "grade": false,
     "grade_id": "cell-9982d08b4ea7057d",
     "locked": false,
     "schema_version": 3,
     "solution": true,
     "task": false
    }
   },
   "outputs": [],
   "source": [
    "def make_checkerboard(n):\n",
    "    # YOUR CODE HERE\n",
    "    raise NotImplementedError()"
   ]
  },
  {
   "cell_type": "code",
   "execution_count": null,
   "metadata": {
    "deletable": false,
    "editable": false,
    "nbgrader": {
     "cell_type": "code",
     "checksum": "ce8e48a828fafe1d3a3a20efa3eef30d",
     "grade": true,
     "grade_id": "cell-e6f9eb1adf863ce2",
     "locked": true,
     "points": 1,
     "schema_version": 3,
     "solution": false,
     "task": false
    }
   },
   "outputs": [],
   "source": [
    "correct = \\\n",
    "    [[0, 1, 0, 1, 0, 1, 0, 1],\n",
    "     [1, 0, 1, 0, 1, 0, 1, 0],\n",
    "     [0, 1, 0, 1, 0, 1, 0, 1],\n",
    "     [1, 0, 1, 0, 1, 0, 1, 0],\n",
    "     [0, 1, 0, 1, 0, 1, 0, 1],\n",
    "     [1, 0, 1, 0, 1, 0, 1, 0],\n",
    "     [0, 1, 0, 1, 0, 1, 0, 1],\n",
    "     [1, 0, 1, 0, 1, 0, 1, 0]]\n",
    "assert np.all(correct == make_checkerboard(8))"
   ]
  }
 ],
 "metadata": {
  "kernelspec": {
   "display_name": "Python 3",
   "language": "python",
   "name": "python3"
  },
  "language_info": {
   "codemirror_mode": {
    "name": "ipython",
    "version": 3
   },
   "file_extension": ".py",
   "mimetype": "text/x-python",
   "name": "python",
   "nbconvert_exporter": "python",
   "pygments_lexer": "ipython3",
   "version": "3.9.1"
  }
 },
 "nbformat": 4,
 "nbformat_minor": 4
}
