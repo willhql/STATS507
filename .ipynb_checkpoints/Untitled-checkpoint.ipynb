{
 "cells": [
  {
   "cell_type": "code",
   "execution_count": 3,
   "id": "impaired-drilling",
   "metadata": {},
   "outputs": [
    {
     "name": "stdout",
     "output_type": "stream",
     "text": [
      "0\n",
      "1\n",
      "2\n"
     ]
    }
   ],
   "source": [
    "j = range(3)\n",
    "for i in j:\n",
    "    print(i)"
   ]
  },
  {
   "cell_type": "code",
   "execution_count": 148,
   "id": "architectural-netscape",
   "metadata": {
    "scrolled": true
   },
   "outputs": [
    {
     "name": "stdout",
     "output_type": "stream",
     "text": [
      "optimal value is 183\n",
      "optimal solution is(starting with item 1):[0, 3, 4, 2, 1, 0, 2, 2, 3]\n"
     ]
    }
   ],
   "source": [
    "import random\n",
    "import math\n",
    "\n",
    "n=9        #number of items\n",
    "T=90        #maximum weight \n",
    "B=0        #maximum weight\n",
    "c=[12, 2, 3, 6, 15, 9, 2, 7, 9]     #costs = weight\n",
    "h=[15, 8, 7, 12, 25, 14, 5, 12, 16]     #benefits\n",
    "b=[4, 3, 4, 2, 4, 6, 2, 4, 4]    #units of each item\n",
    "\n",
    "#sol=[][]  #n*t matrix that track optimal soln\n",
    "stage = range(n)\n",
    "state=range(T+1)\n",
    "tmp=list()\n",
    "\n",
    "#################   DP with only value functions ################\n",
    "\n",
    "v=[[0 for t in state] for i in stage]     #value function\n",
    "s=[[-1 for t in state] for i in stage]     #best decisions\n",
    "#print(v)\n",
    "\n",
    "#initialization\n",
    "for t in state:\n",
    "    if (t==0):\n",
    "        v[0][t]=0\n",
    "        s[0][t]=0\n",
    "    if((t>=1)and(t>=c[0])):\n",
    "        for a in range(b[0]+1):\n",
    "            if(t>=(a*c[0])):\n",
    "                v[0][t]=a*h[0]\n",
    "                s[0][t]=a\n",
    "\n",
    "for i in range(1,n):\n",
    "    for t in state:\n",
    "        '''if (t==14 and i ==1):\n",
    "            for a in range(b[i]+1):\n",
    "                w = max(0, t-a*c[i])#remaining target if item i selected\n",
    "                if(t>=a*c[i]):\n",
    "                    v[i][t] = max(v[i-1][t] , a*h[i] + v[i-1][w])\n",
    "                print('t=',t, 'a=',a, 'w=',w, 'v[1][14]=',v[i][t])'''\n",
    "        for a in range(b[i]+1):\n",
    "            w = max(0, t-a*c[i])#remaining target if item i selected\n",
    "            if(t>=a*c[i]):\n",
    "                z = max(v[i-1][t] , a*h[i] + v[i-1][w])\n",
    "                tmp.append(z)\n",
    "        v[i][t] = max(tmp)\n",
    "        s[i][t] = tmp.index(v[i][t])\n",
    "        tmp.clear()\n",
    "                                #better of the two options for item i\n",
    "            #tmp[a]= max(v[i-1][t] , a*h[i] + v[i-1][w])\n",
    "            #v[i][t] = max(v[i-1][t] , a*h[i] + v[i-1][w])\n",
    "\n",
    "print(\"optimal value is \"+str(v[n-1][T]))\n",
    "\n",
    "\n",
    "############ Backtrack to find the optimal solution ###########\n",
    "B=T\n",
    "soln = []\n",
    "for i in range(n-1,-1,-1):      #Consider items in reverse order\n",
    "    #print('i=',i)\n",
    "    #if(s[i][B] != 0):\n",
    "    soln.append(s[i][B])\n",
    "    #print('s[i][B]=',s[i][B])\n",
    "    B=max(B-s[i][B]*c[i] , 0)       #update remaining target\n",
    "soln.reverse()\n",
    "print(\"optimal solution is(starting with item 1):\"+str(soln))\n"
   ]
  },
  {
   "cell_type": "code",
   "execution_count": 80,
   "id": "increased-violence",
   "metadata": {},
   "outputs": [
    {
     "data": {
      "text/plain": [
       "4"
      ]
     },
     "execution_count": 80,
     "metadata": {},
     "output_type": "execute_result"
    }
   ],
   "source": [
    "t = [1,2,3,4]\n",
    "a =max(t)\n",
    "a"
   ]
  },
  {
   "cell_type": "code",
   "execution_count": 52,
   "id": "simplified-commander",
   "metadata": {},
   "outputs": [
    {
     "data": {
      "text/plain": [
       "'    \\nfor i in range(1,n):\\n    for t in state:\\n        w = max(0, t-h[i])      #remaining target if item i selected\\n        v[i][t] = min(v[i-1][t] , c[i] + v[i-1][w])\\n                                #better of the two options for item i\\nprint(\"optimal value is \"+str(v[n-1][T]))'"
      ]
     },
     "execution_count": 52,
     "metadata": {},
     "output_type": "execute_result"
    }
   ],
   "source": [
    "'''    \n",
    "for i in range(1,n):\n",
    "    for t in state:\n",
    "        w = max(0, t-h[i])      #remaining target if item i selected\n",
    "        v[i][t] = min(v[i-1][t] , c[i] + v[i-1][w])\n",
    "                                #better of the two options for item i\n",
    "print(\"optimal value is \"+str(v[n-1][T]))'''"
   ]
  },
  {
   "cell_type": "code",
   "execution_count": null,
   "id": "formal-bruce",
   "metadata": {},
   "outputs": [],
   "source": []
  },
  {
   "cell_type": "code",
   "execution_count": 41,
   "id": "competitive-quantum",
   "metadata": {},
   "outputs": [
    {
     "name": "stdout",
     "output_type": "stream",
     "text": [
      "[[0, 4, 4, -inf, -inf, -inf, -inf, -inf, -inf, -inf, -inf, -inf, -inf, -inf, -inf, -inf, -inf, -inf, -inf, -inf, -inf, -inf, -inf, -inf, -inf, -inf, -inf, -inf, -inf, -inf, -inf, -inf, -inf, -inf, -inf, -inf, -inf, -inf, -inf, -inf, -inf, -inf, -inf, -inf, -inf, -inf, -inf, -inf, -inf, -inf, -inf, -inf, -inf, -inf, -inf, -inf, -inf, -inf, -inf, -inf, -inf, -inf, -inf, -inf, -inf, -inf, -inf, -inf, -inf, -inf, -inf, -inf, -inf, -inf, -inf, -inf, -inf, -inf, -inf, -inf, -inf, -inf, -inf, -inf, -inf, -inf, -inf, -inf, -inf, -inf, -inf], [0, 4, 4, -inf, -inf, -inf, -inf, -inf, -inf, -inf, -inf, -inf, -inf, -inf, -inf, -inf, -inf, -inf, -inf, -inf, -inf, -inf, -inf, -inf, -inf, -inf, -inf, -inf, -inf, -inf, -inf, -inf, -inf, -inf, -inf, -inf, -inf, -inf, -inf, -inf, -inf, -inf, -inf, -inf, -inf, -inf, -inf, -inf, -inf, -inf, -inf, -inf, -inf, -inf, -inf, -inf, -inf, -inf, -inf, -inf, -inf, -inf, -inf, -inf, -inf, -inf, -inf, -inf, -inf, -inf, -inf, -inf, -inf, -inf, -inf, -inf, -inf, -inf, -inf, -inf, -inf, -inf, -inf, -inf, -inf, -inf, -inf, -inf, -inf, -inf, -inf]]\n"
     ]
    },
    {
     "data": {
      "text/plain": [
       "'\\n########     DP with selection decisions     #######################\\n\\nv=[[float(\\'inf\\') for t in state] for i in stage]     #value function\\ns=[[float(\\'inf\\') for t in state] for i in stage]     #best decisions\\n        \\nfor t in state:\\n    if (t==0):\\n        v[0][t]=0\\n        s[0][t]=0       #don\\'t select item 0\\n    if((t>=1)and(t<=h[0])):\\n        v[0][t]=c[0]\\n        s[0][t]=1       #select item 0\\n\\nfor i in range(1,n):\\n    for t in state:\\n        w = max(0, t-h[i])\\n        if (v[i-1][t] <= c[i]+v[i-1][w]):\\n            v[i][t] = v[i-1][t]\\n            s[i][t]=0       #don\\'t select item i\\n        else:\\n            v[i][t]=c[i]+v[i-1][w]\\n            s[i][t]=1       #select item 0\\n\\n############ Backtrack to find the optimal solution ###########\\nb=T\\nsoln = []\\nfor i in range(n-1,-1,-1):      #Consider items in reverse order\\n    if(s[i][b]==1):\\n        soln.append(i)\\n        b=max(b-h[i] , 0)       #update remaining target\\nprint(\"optimal solution is \"+str(soln))\\n'"
      ]
     },
     "execution_count": 41,
     "metadata": {},
     "output_type": "execute_result"
    }
   ],
   "source": [
    "# -*- coding: utf-8 -*-\n",
    "\"\"\"\n",
    "Created on Thu Sep 12 13:26:28 2019\n",
    "\n",
    "@author: viswa\n",
    "\"\"\"\n",
    "import random\n",
    "\n",
    "n=3        #number of items\n",
    "T=90        #maximum weight \n",
    "B=0        #maximum weight\n",
    "c=[4, 6, 7]     #costs = weight\n",
    "h=[2, 1, 3]     #benefits\n",
    "b=[]    #units of each item\n",
    "#sol=[][]  #n*t matrix that track optimal soln\n",
    "stage = range(n)\n",
    "state=range(T+1)\n",
    "\n",
    "\n",
    "#################   DP with only value functions ################\n",
    "\n",
    "v=[[float('-inf') for t in state] for i in stage]     #value function\n",
    "\n",
    "#initialization\n",
    "for t in state:\n",
    "    if (t==0):\n",
    "        v[0][t]=0\n",
    "    if((t>=1)and(t<=h[0])):\n",
    "        v[0][t]=c[0]\n",
    "    \n",
    "for i in range(1,n):\n",
    "    for t in state:\n",
    "        w = max(0, t-h[i])      #remaining target if item i selected\n",
    "        v[i][t] = min(v[i-1][t] , c[i] + v[i-1][w])\n",
    "                                #better of the two options for item i\n",
    "#print(\"optimal value is \"+str(v[n-1][T]))\n",
    "print(v[0:2])\n",
    "'''\n",
    "########     DP with selection decisions     #######################\n",
    "\n",
    "v=[[float('inf') for t in state] for i in stage]     #value function\n",
    "s=[[float('inf') for t in state] for i in stage]     #best decisions\n",
    "        \n",
    "for t in state:\n",
    "    if (t==0):\n",
    "        v[0][t]=0\n",
    "        s[0][t]=0       #don't select item 0\n",
    "    if((t>=1)and(t<=h[0])):\n",
    "        v[0][t]=c[0]\n",
    "        s[0][t]=1       #select item 0\n",
    "\n",
    "for i in range(1,n):\n",
    "    for t in state:\n",
    "        w = max(0, t-h[i])\n",
    "        if (v[i-1][t] <= c[i]+v[i-1][w]):\n",
    "            v[i][t] = v[i-1][t]\n",
    "            s[i][t]=0       #don't select item i\n",
    "        else:\n",
    "            v[i][t]=c[i]+v[i-1][w]\n",
    "            s[i][t]=1       #select item 0\n",
    "\n",
    "############ Backtrack to find the optimal solution ###########\n",
    "b=T\n",
    "soln = []\n",
    "for i in range(n-1,-1,-1):      #Consider items in reverse order\n",
    "    if(s[i][b]==1):\n",
    "        soln.append(i)\n",
    "        b=max(b-h[i] , 0)       #update remaining target\n",
    "print(\"optimal solution is \"+str(soln))\n",
    "'''"
   ]
  },
  {
   "cell_type": "code",
   "execution_count": null,
   "id": "signal-composer",
   "metadata": {},
   "outputs": [],
   "source": []
  }
 ],
 "metadata": {
  "kernelspec": {
   "display_name": "Python 3",
   "language": "python",
   "name": "python3"
  },
  "language_info": {
   "codemirror_mode": {
    "name": "ipython",
    "version": 3
   },
   "file_extension": ".py",
   "mimetype": "text/x-python",
   "name": "python",
   "nbconvert_exporter": "python",
   "pygments_lexer": "ipython3",
   "version": "3.9.1"
  }
 },
 "nbformat": 4,
 "nbformat_minor": 5
}
