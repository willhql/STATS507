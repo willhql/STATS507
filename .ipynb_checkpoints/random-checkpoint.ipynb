{
 "cells": [
  {
   "cell_type": "code",
   "execution_count": 3,
   "id": "first-bedroom",
   "metadata": {},
   "outputs": [
    {
     "data": {
      "text/plain": [
       "'example'"
      ]
     },
     "execution_count": 3,
     "metadata": {},
     "output_type": "execute_result"
    }
   ],
   "source": [
    "'www.example.com'.strip('cmowz.')"
   ]
  },
  {
   "cell_type": "code",
   "execution_count": 4,
   "id": "balanced-bookmark",
   "metadata": {},
   "outputs": [
    {
     "data": {
      "text/plain": [
       "'www.example.com'"
      ]
     },
     "execution_count": 4,
     "metadata": {},
     "output_type": "execute_result"
    }
   ],
   "source": [
    "'www.example.com'.strip('c')"
   ]
  },
  {
   "cell_type": "code",
   "execution_count": 5,
   "id": "heated-dover",
   "metadata": {},
   "outputs": [
    {
     "data": {
      "text/plain": [
       "'www.example.co'"
      ]
     },
     "execution_count": 5,
     "metadata": {},
     "output_type": "execute_result"
    }
   ],
   "source": [
    "'www.example.com'.strip('m')"
   ]
  },
  {
   "cell_type": "code",
   "execution_count": 6,
   "id": "extreme-spending",
   "metadata": {},
   "outputs": [
    {
     "data": {
      "text/plain": [
       "'www.example.com'"
      ]
     },
     "execution_count": 6,
     "metadata": {},
     "output_type": "execute_result"
    }
   ],
   "source": [
    "'www.example.com'.strip('o')"
   ]
  },
  {
   "cell_type": "code",
   "execution_count": 7,
   "id": "laden-accused",
   "metadata": {},
   "outputs": [
    {
     "data": {
      "text/plain": [
       "'www.example.co'"
      ]
     },
     "execution_count": 7,
     "metadata": {},
     "output_type": "execute_result"
    }
   ],
   "source": [
    "'www.example.com'.strip('cm')"
   ]
  },
  {
   "cell_type": "code",
   "execution_count": 8,
   "id": "variable-sugar",
   "metadata": {},
   "outputs": [
    {
     "data": {
      "text/plain": [
       "'www.example.com'"
      ]
     },
     "execution_count": 8,
     "metadata": {},
     "output_type": "execute_result"
    }
   ],
   "source": [
    "'www.example.com'.strip('.')"
   ]
  },
  {
   "cell_type": "code",
   "execution_count": 9,
   "id": "adjustable-ceramic",
   "metadata": {},
   "outputs": [
    {
     "data": {
      "text/plain": [
       "'example'"
      ]
     },
     "execution_count": 9,
     "metadata": {},
     "output_type": "execute_result"
    }
   ],
   "source": [
    "'www.example.com'.strip('cmowz.')"
   ]
  },
  {
   "cell_type": "code",
   "execution_count": 10,
   "id": "retained-concern",
   "metadata": {},
   "outputs": [
    {
     "data": {
      "text/plain": [
       "'example'"
      ]
     },
     "execution_count": 10,
     "metadata": {},
     "output_type": "execute_result"
    }
   ],
   "source": [
    "'www.example.com'.strip('comwz.')"
   ]
  },
  {
   "cell_type": "code",
   "execution_count": 11,
   "id": "psychological-arcade",
   "metadata": {},
   "outputs": [
    {
     "data": {
      "text/plain": [
       "'.example.'"
      ]
     },
     "execution_count": 11,
     "metadata": {},
     "output_type": "execute_result"
    }
   ],
   "source": [
    "'www.example.com'.strip('mocw')"
   ]
  },
  {
   "cell_type": "code",
   "execution_count": 12,
   "id": "coordinated-token",
   "metadata": {},
   "outputs": [
    {
     "data": {
      "text/plain": [
       "'.example.co'"
      ]
     },
     "execution_count": 12,
     "metadata": {},
     "output_type": "execute_result"
    }
   ],
   "source": [
    "'www.example.com'.strip('cmw')"
   ]
  },
  {
   "cell_type": "code",
   "execution_count": 13,
   "id": "efficient-briefs",
   "metadata": {},
   "outputs": [],
   "source": [
    "def gcd(a, b):\n",
    "    if b == 0:\n",
    "        return a\n",
    "    else:\n",
    "        return gcd(b, a % b)"
   ]
  },
  {
   "cell_type": "code",
   "execution_count": 14,
   "id": "educational-contrast",
   "metadata": {},
   "outputs": [
    {
     "data": {
      "text/plain": [
       "10"
      ]
     },
     "execution_count": 14,
     "metadata": {},
     "output_type": "execute_result"
    }
   ],
   "source": [
    "gcd(10,20)"
   ]
  },
  {
   "cell_type": "code",
   "execution_count": 15,
   "id": "authentic-bumper",
   "metadata": {},
   "outputs": [
    {
     "data": {
      "text/plain": [
       "10"
      ]
     },
     "execution_count": 15,
     "metadata": {},
     "output_type": "execute_result"
    }
   ],
   "source": [
    "gcd(20,10)"
   ]
  },
  {
   "cell_type": "code",
   "execution_count": 16,
   "id": "patient-myanmar",
   "metadata": {},
   "outputs": [
    {
     "data": {
      "text/plain": [
       "10"
      ]
     },
     "execution_count": 16,
     "metadata": {},
     "output_type": "execute_result"
    }
   ],
   "source": [
    "gcd(-10,20)"
   ]
  },
  {
   "cell_type": "code",
   "execution_count": 17,
   "id": "dimensional-hunter",
   "metadata": {},
   "outputs": [
    {
     "data": {
      "text/plain": [
       "-10"
      ]
     },
     "execution_count": 17,
     "metadata": {},
     "output_type": "execute_result"
    }
   ],
   "source": [
    "gcd(20,-10)"
   ]
  },
  {
   "cell_type": "code",
   "execution_count": 18,
   "id": "viral-electric",
   "metadata": {},
   "outputs": [
    {
     "data": {
      "text/plain": [
       "5"
      ]
     },
     "execution_count": 18,
     "metadata": {},
     "output_type": "execute_result"
    }
   ],
   "source": [
    "gcd(5,10)"
   ]
  },
  {
   "cell_type": "code",
   "execution_count": 19,
   "id": "checked-exchange",
   "metadata": {},
   "outputs": [
    {
     "data": {
      "text/plain": [
       "5"
      ]
     },
     "execution_count": 19,
     "metadata": {},
     "output_type": "execute_result"
    }
   ],
   "source": [
    "gcd(-5,10)"
   ]
  },
  {
   "cell_type": "code",
   "execution_count": 20,
   "id": "stretch-cancellation",
   "metadata": {},
   "outputs": [
    {
     "data": {
      "text/plain": [
       "-5"
      ]
     },
     "execution_count": 20,
     "metadata": {},
     "output_type": "execute_result"
    }
   ],
   "source": [
    "gcd(5,-10)"
   ]
  },
  {
   "cell_type": "code",
   "execution_count": 21,
   "id": "fixed-thompson",
   "metadata": {},
   "outputs": [
    {
     "data": {
      "text/plain": [
       "-5"
      ]
     },
     "execution_count": 21,
     "metadata": {},
     "output_type": "execute_result"
    }
   ],
   "source": [
    "gcd(-5,-10)"
   ]
  },
  {
   "cell_type": "code",
   "execution_count": 22,
   "id": "greek-heritage",
   "metadata": {},
   "outputs": [
    {
     "data": {
      "text/plain": [
       "5"
      ]
     },
     "execution_count": 22,
     "metadata": {},
     "output_type": "execute_result"
    }
   ],
   "source": [
    "gcd(-10,5)"
   ]
  },
  {
   "cell_type": "code",
   "execution_count": 23,
   "id": "collective-division",
   "metadata": {},
   "outputs": [
    {
     "data": {
      "text/plain": [
       "-5"
      ]
     },
     "execution_count": 23,
     "metadata": {},
     "output_type": "execute_result"
    }
   ],
   "source": [
    "gcd(10,-5)"
   ]
  },
  {
   "cell_type": "code",
   "execution_count": 24,
   "id": "chicken-gnome",
   "metadata": {},
   "outputs": [
    {
     "data": {
      "text/plain": [
       "-5"
      ]
     },
     "execution_count": 24,
     "metadata": {},
     "output_type": "execute_result"
    }
   ],
   "source": [
    "gcd(-10,-5)"
   ]
  },
  {
   "cell_type": "code",
   "execution_count": 26,
   "id": "environmental-democrat",
   "metadata": {},
   "outputs": [
    {
     "data": {
      "text/plain": [
       "21"
      ]
     },
     "execution_count": 26,
     "metadata": {},
     "output_type": "execute_result"
    }
   ],
   "source": [
    "gcd(462,147)"
   ]
  },
  {
   "cell_type": "code",
   "execution_count": 27,
   "id": "directed-volleyball",
   "metadata": {},
   "outputs": [
    {
     "data": {
      "text/plain": [
       "21"
      ]
     },
     "execution_count": 27,
     "metadata": {},
     "output_type": "execute_result"
    }
   ],
   "source": [
    "gcd(-462,147)"
   ]
  },
  {
   "cell_type": "code",
   "execution_count": 28,
   "id": "effective-portal",
   "metadata": {},
   "outputs": [
    {
     "data": {
      "text/plain": [
       "-21"
      ]
     },
     "execution_count": 28,
     "metadata": {},
     "output_type": "execute_result"
    }
   ],
   "source": [
    "gcd(-462,-147)"
   ]
  },
  {
   "cell_type": "code",
   "execution_count": 29,
   "id": "every-crime",
   "metadata": {},
   "outputs": [
    {
     "data": {
      "text/plain": [
       "-21"
      ]
     },
     "execution_count": 29,
     "metadata": {},
     "output_type": "execute_result"
    }
   ],
   "source": [
    "gcd(462,-147)"
   ]
  },
  {
   "cell_type": "code",
   "execution_count": 55,
   "id": "planned-james",
   "metadata": {},
   "outputs": [],
   "source": [
    "import math\n",
    "def euler_limit(n): \n",
    "    \"\"\"Takes in a positive integer n and returns a float approximating the natural number e.\"\"\"\n",
    "    # YOUR CODE HERE\n",
    "    tmp = (1 + 1/n)\n",
    "    euler = math.pow(tmp,n)\n",
    "    return float(euler)\n",
    "    #raise NotImplementedError()"
   ]
  },
  {
   "cell_type": "code",
   "execution_count": 56,
   "id": "unexpected-locator",
   "metadata": {},
   "outputs": [
    {
     "data": {
      "text/plain": [
       "2.25"
      ]
     },
     "execution_count": 56,
     "metadata": {},
     "output_type": "execute_result"
    }
   ],
   "source": [
    "euler_limit(2)"
   ]
  },
  {
   "cell_type": "code",
   "execution_count": 49,
   "id": "public-negative",
   "metadata": {},
   "outputs": [
    {
     "data": {
      "text/plain": [
       "2.37"
      ]
     },
     "execution_count": 49,
     "metadata": {},
     "output_type": "execute_result"
    }
   ],
   "source": [
    "round(euler_limit(3),3)"
   ]
  },
  {
   "cell_type": "code",
   "execution_count": 50,
   "id": "circular-trance",
   "metadata": {},
   "outputs": [],
   "source": [
    "hg = math.pow(10,18)"
   ]
  },
  {
   "cell_type": "code",
   "execution_count": 51,
   "id": "major-riding",
   "metadata": {},
   "outputs": [
    {
     "data": {
      "text/plain": [
       "1e+18"
      ]
     },
     "execution_count": 51,
     "metadata": {},
     "output_type": "execute_result"
    }
   ],
   "source": [
    "hg"
   ]
  },
  {
   "cell_type": "code",
   "execution_count": 52,
   "id": "threatened-guarantee",
   "metadata": {},
   "outputs": [
    {
     "data": {
      "text/plain": [
       "2.682810424132132"
      ]
     },
     "execution_count": 52,
     "metadata": {},
     "output_type": "execute_result"
    }
   ],
   "source": [
    "euler_limit(2222222222222222)"
   ]
  },
  {
   "cell_type": "code",
   "execution_count": 57,
   "id": "cross-intensity",
   "metadata": {},
   "outputs": [],
   "source": [
    "def sum_naturals_recur(n):\n",
    "# YOUR CODE HERE\n",
    "    if n == 1:\n",
    "        return 1\n",
    "    else:\n",
    "        return n + sum_naturals_recur(n-1)\n",
    "#raise NotImplementedError()"
   ]
  },
  {
   "cell_type": "code",
   "execution_count": 59,
   "id": "superb-boundary",
   "metadata": {},
   "outputs": [],
   "source": [
    "def fac_rucur(n):\n",
    "    if n == 0:\n",
    "        return 1\n",
    "    else:\n",
    "        return n * fac_rucur(n-1)"
   ]
  },
  {
   "cell_type": "code",
   "execution_count": 104,
   "id": "statistical-compact",
   "metadata": {},
   "outputs": [
    {
     "data": {
      "text/plain": [
       "120"
      ]
     },
     "execution_count": 104,
     "metadata": {},
     "output_type": "execute_result"
    }
   ],
   "source": [
    "fac_rucur(5)"
   ]
  },
  {
   "cell_type": "code",
   "execution_count": 150,
   "id": "occasional-music",
   "metadata": {},
   "outputs": [],
   "source": [
    "def fac_recur(n):\n",
    "    if n == 0:\n",
    "        return 1\n",
    "    else:\n",
    "        return n * fac_recur(n-1)\n",
    "def euler_sum(n):\n",
    "    # YOUR CODE HERE\n",
    "    esum  = 0\n",
    "    while n > 0:\n",
    "        esum += 1/fac_recur(n-1)\n",
    "        #print('1/ ',n)\n",
    "       # print(esum)\n",
    "        n-=1\n",
    "    #print('out of while loop')\n",
    "    return esum\n",
    "    #raise NotImplementedError()"
   ]
  },
  {
   "cell_type": "code",
   "execution_count": 151,
   "id": "damaged-treatment",
   "metadata": {},
   "outputs": [
    {
     "data": {
      "text/plain": [
       "0"
      ]
     },
     "execution_count": 151,
     "metadata": {},
     "output_type": "execute_result"
    }
   ],
   "source": [
    "euler_sum(0)"
   ]
  },
  {
   "cell_type": "code",
   "execution_count": 152,
   "id": "banner-proof",
   "metadata": {},
   "outputs": [
    {
     "data": {
      "text/plain": [
       "1.0"
      ]
     },
     "execution_count": 152,
     "metadata": {},
     "output_type": "execute_result"
    }
   ],
   "source": [
    "euler_sum(1)"
   ]
  },
  {
   "cell_type": "code",
   "execution_count": 153,
   "id": "controversial-thomson",
   "metadata": {},
   "outputs": [
    {
     "data": {
      "text/plain": [
       "2.0"
      ]
     },
     "execution_count": 153,
     "metadata": {},
     "output_type": "execute_result"
    }
   ],
   "source": [
    "euler_sum(2)"
   ]
  },
  {
   "cell_type": "code",
   "execution_count": 154,
   "id": "indian-burlington",
   "metadata": {},
   "outputs": [
    {
     "data": {
      "text/plain": [
       "2.5"
      ]
     },
     "execution_count": 154,
     "metadata": {},
     "output_type": "execute_result"
    }
   ],
   "source": [
    "euler_sum(3)"
   ]
  },
  {
   "cell_type": "code",
   "execution_count": 155,
   "id": "lightweight-consistency",
   "metadata": {},
   "outputs": [
    {
     "data": {
      "text/plain": [
       "2.6666666666666665"
      ]
     },
     "execution_count": 155,
     "metadata": {},
     "output_type": "execute_result"
    }
   ],
   "source": [
    "euler_sum(4)"
   ]
  },
  {
   "cell_type": "code",
   "execution_count": 156,
   "id": "complex-failure",
   "metadata": {},
   "outputs": [
    {
     "data": {
      "text/plain": [
       "True"
      ]
     },
     "execution_count": 156,
     "metadata": {},
     "output_type": "execute_result"
    }
   ],
   "source": [
    "euler_sum(3) == 2.5"
   ]
  },
  {
   "cell_type": "code",
   "execution_count": 157,
   "id": "marked-danish",
   "metadata": {},
   "outputs": [
    {
     "data": {
      "text/plain": [
       "2.667"
      ]
     },
     "execution_count": 157,
     "metadata": {},
     "output_type": "execute_result"
    }
   ],
   "source": [
    "round(euler_sum(4),3)"
   ]
  },
  {
   "cell_type": "code",
   "execution_count": 168,
   "id": "owned-silicon",
   "metadata": {},
   "outputs": [],
   "source": [
    "import math\n",
    "def euler_approx(epsilon):\n",
    "    # YOUR CODE HERE\n",
    "    ans = 0\n",
    "    n = 0\n",
    "    while abs(ans - math.exp(1)) > 1e0:\n",
    "        ans = euler_sum(n)\n",
    "        n+=1\n",
    "   #     if abs(euler_approx(1e0) - math.exp(1)) < 1e0:\n",
    "    #        break\n",
    "    return ans\n",
    "    #raise NotImplementedError()"
   ]
  },
  {
   "cell_type": "code",
   "execution_count": 169,
   "id": "brave-hearing",
   "metadata": {},
   "outputs": [
    {
     "data": {
      "text/plain": [
       "True"
      ]
     },
     "execution_count": 169,
     "metadata": {},
     "output_type": "execute_result"
    }
   ],
   "source": [
    "abs(euler_approx(1e0) - math.exp(1)) < 1e0"
   ]
  },
  {
   "cell_type": "code",
   "execution_count": 190,
   "id": "welsh-instrument",
   "metadata": {},
   "outputs": [],
   "source": [
    "def print_euler_sum_error(n):\n",
    "    # YOUR CODE HERE\n",
    "    e = 0\n",
    "    print(\"For infinite sum function\")\n",
    "    for x in range(n):\n",
    "        e = abs(euler_sum(x) - math.exp(1))\n",
    "        print(\"the error is: \",e)\n",
    "    #raise NotImplementedError()\n",
    "    \n",
    "def print_euler_lim_error(n):\n",
    "    e = 0\n",
    "    print(\"For limit function\")\n",
    "    for x in range(n):\n",
    "        e = abs(euler_limit(x+1) - math.exp(1))\n",
    "        print(\"the error is: \",e)\n",
    "    # YOUR CODE HERE\n",
    "    #raise NotImplementedError()"
   ]
  },
  {
   "cell_type": "code",
   "execution_count": 191,
   "id": "removed-museum",
   "metadata": {},
   "outputs": [
    {
     "name": "stdout",
     "output_type": "stream",
     "text": [
      "For infinite sum function\n",
      "the error is:  2.718281828459045\n",
      "the error is:  1.718281828459045\n",
      "the error is:  0.7182818284590451\n",
      "the error is:  0.2182818284590451\n",
      "the error is:  0.05161516179237857\n",
      "the error is:  0.009948495125712054\n",
      "the error is:  0.0016151617923783057\n",
      "the error is:  0.0002262729034896438\n",
      "the error is:  2.7860205076724043e-05\n",
      "the error is:  3.058617775497652e-06\n"
     ]
    }
   ],
   "source": [
    "print_euler_sum_error(10)"
   ]
  },
  {
   "cell_type": "code",
   "execution_count": 187,
   "id": "dependent-niagara",
   "metadata": {},
   "outputs": [
    {
     "name": "stdout",
     "output_type": "stream",
     "text": [
      "For limit function\n",
      "the error is:  0.7182818284590451\n",
      "the error is:  0.4682818284590451\n",
      "the error is:  0.3479114580886753\n",
      "the error is:  0.2768755784590451\n",
      "the error is:  0.22996182845904567\n",
      "the error is:  0.19665545671693163\n",
      "the error is:  0.17178213141833298\n",
      "the error is:  0.1524973145086972\n",
      "the error is:  0.13710703674584668\n",
      "the error is:  0.12453936835904278\n"
     ]
    }
   ],
   "source": [
    "print_euler_lim_error(10)"
   ]
  },
  {
   "cell_type": "code",
   "execution_count": 192,
   "id": "noticed-diary",
   "metadata": {},
   "outputs": [
    {
     "data": {
      "text/plain": [
       "1"
      ]
     },
     "execution_count": 192,
     "metadata": {},
     "output_type": "execute_result"
    }
   ],
   "source": [
    "1%2"
   ]
  },
  {
   "cell_type": "code",
   "execution_count": 193,
   "id": "dirty-blowing",
   "metadata": {},
   "outputs": [],
   "source": [
    "def fac_recur(n):\n",
    "    if n == 0:\n",
    "        return 1\n",
    "    else:\n",
    "        return n * fac_recur(n-1)"
   ]
  },
  {
   "cell_type": "code",
   "execution_count": 201,
   "id": "elementary-ordinance",
   "metadata": {},
   "outputs": [],
   "source": [
    "def is_power_of_2(n):\n",
    "    # YOUR CODE HERE\n",
    "    #odd number\n",
    "    if n == 1:\n",
    "        return True\n",
    "    elif n%2 != 0:\n",
    "        return False\n",
    "    #even number\n",
    "        #not power of 2\n",
    "    else:\n",
    "        return is_power_of_2(n/2)\n",
    "        #power of 2\n",
    "    #raise NotImplementedError()"
   ]
  },
  {
   "cell_type": "code",
   "execution_count": 202,
   "id": "expensive-flower",
   "metadata": {},
   "outputs": [
    {
     "data": {
      "text/plain": [
       "False"
      ]
     },
     "execution_count": 202,
     "metadata": {},
     "output_type": "execute_result"
    }
   ],
   "source": [
    "is_power_of_2(29)"
   ]
  },
  {
   "cell_type": "code",
   "execution_count": 203,
   "id": "sunset-boundary",
   "metadata": {},
   "outputs": [
    {
     "data": {
      "text/plain": [
       "False"
      ]
     },
     "execution_count": 203,
     "metadata": {},
     "output_type": "execute_result"
    }
   ],
   "source": [
    "is_power_of_2(17)"
   ]
  },
  {
   "cell_type": "code",
   "execution_count": 204,
   "id": "general-robin",
   "metadata": {},
   "outputs": [
    {
     "data": {
      "text/plain": [
       "False"
      ]
     },
     "execution_count": 204,
     "metadata": {},
     "output_type": "execute_result"
    }
   ],
   "source": [
    "is_power_of_2(20)"
   ]
  },
  {
   "cell_type": "code",
   "execution_count": 205,
   "id": "polyphonic-zealand",
   "metadata": {},
   "outputs": [
    {
     "data": {
      "text/plain": [
       "False"
      ]
     },
     "execution_count": 205,
     "metadata": {},
     "output_type": "execute_result"
    }
   ],
   "source": [
    "is_power_of_2(10)"
   ]
  },
  {
   "cell_type": "code",
   "execution_count": 206,
   "id": "engaged-letters",
   "metadata": {},
   "outputs": [
    {
     "data": {
      "text/plain": [
       "True"
      ]
     },
     "execution_count": 206,
     "metadata": {},
     "output_type": "execute_result"
    }
   ],
   "source": [
    "is_power_of_2(1)"
   ]
  },
  {
   "cell_type": "code",
   "execution_count": 207,
   "id": "adverse-blank",
   "metadata": {},
   "outputs": [
    {
     "data": {
      "text/plain": [
       "True"
      ]
     },
     "execution_count": 207,
     "metadata": {},
     "output_type": "execute_result"
    }
   ],
   "source": [
    "is_power_of_2(2048)"
   ]
  },
  {
   "cell_type": "code",
   "execution_count": 208,
   "id": "blond-documentary",
   "metadata": {},
   "outputs": [
    {
     "data": {
      "text/plain": [
       "True"
      ]
     },
     "execution_count": 208,
     "metadata": {},
     "output_type": "execute_result"
    }
   ],
   "source": [
    "is_power_of_2(32768)"
   ]
  },
  {
   "cell_type": "code",
   "execution_count": 209,
   "id": "annoying-satellite",
   "metadata": {},
   "outputs": [
    {
     "data": {
      "text/plain": [
       "False"
      ]
     },
     "execution_count": 209,
     "metadata": {},
     "output_type": "execute_result"
    }
   ],
   "source": [
    "is_power_of_2(28)"
   ]
  },
  {
   "cell_type": "code",
   "execution_count": 210,
   "id": "young-invasion",
   "metadata": {},
   "outputs": [
    {
     "data": {
      "text/plain": [
       "True"
      ]
     },
     "execution_count": 210,
     "metadata": {},
     "output_type": "execute_result"
    }
   ],
   "source": [
    "is_power_of_2(2)"
   ]
  },
  {
   "cell_type": "code",
   "execution_count": 231,
   "id": "pharmaceutical-armor",
   "metadata": {},
   "outputs": [],
   "source": [
    "def is_power(b,n):\n",
    "    # YOUR CODE HERE\n",
    "    if b == 1 and b != n:\n",
    "        return False\n",
    "    check = 0\n",
    "    count = 0\n",
    "    while check < n:\n",
    "        check = math.pow(b,count)\n",
    "        count += 1\n",
    "    if check == n:\n",
    "        return True\n",
    "    else:\n",
    "        return False\n",
    "    #raise NotImplementedError()"
   ]
  },
  {
   "cell_type": "code",
   "execution_count": 232,
   "id": "fifty-longitude",
   "metadata": {},
   "outputs": [
    {
     "data": {
      "text/plain": [
       "8.0"
      ]
     },
     "execution_count": 232,
     "metadata": {},
     "output_type": "execute_result"
    }
   ],
   "source": [
    "math.pow(2,3)"
   ]
  },
  {
   "cell_type": "code",
   "execution_count": 233,
   "id": "sustained-vacuum",
   "metadata": {},
   "outputs": [
    {
     "data": {
      "text/plain": [
       "True"
      ]
     },
     "execution_count": 233,
     "metadata": {},
     "output_type": "execute_result"
    }
   ],
   "source": [
    "is_power(5,125)"
   ]
  },
  {
   "cell_type": "code",
   "execution_count": 234,
   "id": "intense-battlefield",
   "metadata": {},
   "outputs": [
    {
     "data": {
      "text/plain": [
       "False"
      ]
     },
     "execution_count": 234,
     "metadata": {},
     "output_type": "execute_result"
    }
   ],
   "source": [
    "is_power(5, 150)"
   ]
  },
  {
   "cell_type": "code",
   "execution_count": 235,
   "id": "competent-tuition",
   "metadata": {},
   "outputs": [
    {
     "data": {
      "text/plain": [
       "True"
      ]
     },
     "execution_count": 235,
     "metadata": {},
     "output_type": "execute_result"
    }
   ],
   "source": [
    "is_power(3, 1)"
   ]
  },
  {
   "cell_type": "code",
   "execution_count": 236,
   "id": "bright-growing",
   "metadata": {},
   "outputs": [
    {
     "data": {
      "text/plain": [
       "True"
      ]
     },
     "execution_count": 236,
     "metadata": {},
     "output_type": "execute_result"
    }
   ],
   "source": [
    "is_power(2, 2)"
   ]
  },
  {
   "cell_type": "code",
   "execution_count": 237,
   "id": "satisfied-dependence",
   "metadata": {},
   "outputs": [
    {
     "data": {
      "text/plain": [
       "False"
      ]
     },
     "execution_count": 237,
     "metadata": {},
     "output_type": "execute_result"
    }
   ],
   "source": [
    "is_power(1, 2)"
   ]
  },
  {
   "cell_type": "code",
   "execution_count": 238,
   "id": "novel-bacon",
   "metadata": {},
   "outputs": [
    {
     "data": {
      "text/plain": [
       "True"
      ]
     },
     "execution_count": 238,
     "metadata": {},
     "output_type": "execute_result"
    }
   ],
   "source": [
    "is_power(1, 1)"
   ]
  },
  {
   "cell_type": "code",
   "execution_count": 240,
   "id": "adaptive-supervisor",
   "metadata": {},
   "outputs": [
    {
     "data": {
      "text/plain": [
       "False"
      ]
     },
     "execution_count": 240,
     "metadata": {},
     "output_type": "execute_result"
    }
   ],
   "source": [
    "is_power(66,54)"
   ]
  },
  {
   "cell_type": "code",
   "execution_count": 241,
   "id": "temporal-tension",
   "metadata": {},
   "outputs": [
    {
     "data": {
      "text/plain": [
       "False"
      ]
     },
     "execution_count": 241,
     "metadata": {},
     "output_type": "execute_result"
    }
   ],
   "source": [
    "is_power(37,89)"
   ]
  },
  {
   "cell_type": "code",
   "execution_count": 242,
   "id": "transsexual-moore",
   "metadata": {},
   "outputs": [
    {
     "data": {
      "text/plain": [
       "False"
      ]
     },
     "execution_count": 242,
     "metadata": {},
     "output_type": "execute_result"
    }
   ],
   "source": [
    "is_power(23,64)"
   ]
  },
  {
   "cell_type": "code",
   "execution_count": 243,
   "id": "occupational-addition",
   "metadata": {},
   "outputs": [
    {
     "data": {
      "text/plain": [
       "False"
      ]
     },
     "execution_count": 243,
     "metadata": {},
     "output_type": "execute_result"
    }
   ],
   "source": [
    "is_power(1,56)"
   ]
  },
  {
   "cell_type": "code",
   "execution_count": 244,
   "id": "christian-amount",
   "metadata": {},
   "outputs": [
    {
     "data": {
      "text/plain": [
       "False"
      ]
     },
     "execution_count": 244,
     "metadata": {},
     "output_type": "execute_result"
    }
   ],
   "source": [
    "is_power(2,98)"
   ]
  },
  {
   "cell_type": "code",
   "execution_count": 245,
   "id": "nearby-plant",
   "metadata": {},
   "outputs": [
    {
     "data": {
      "text/plain": [
       "True"
      ]
     },
     "execution_count": 245,
     "metadata": {},
     "output_type": "execute_result"
    }
   ],
   "source": [
    "is_power(10,100)"
   ]
  },
  {
   "cell_type": "code",
   "execution_count": 246,
   "id": "compliant-anthony",
   "metadata": {},
   "outputs": [
    {
     "data": {
      "text/plain": [
       "True"
      ]
     },
     "execution_count": 246,
     "metadata": {},
     "output_type": "execute_result"
    }
   ],
   "source": [
    "is_power(100,1000000)"
   ]
  },
  {
   "cell_type": "code",
   "execution_count": 248,
   "id": "known-fabric",
   "metadata": {},
   "outputs": [
    {
     "ename": "SyntaxError",
     "evalue": "invalid syntax (<ipython-input-248-aaea93d45e14>, line 1)",
     "output_type": "error",
     "traceback": [
      "\u001b[0;36m  File \u001b[0;32m\"<ipython-input-248-aaea93d45e14>\"\u001b[0;36m, line \u001b[0;32m1\u001b[0m\n\u001b[0;31m    primt 'Hello world!'\u001b[0m\n\u001b[0m          ^\u001b[0m\n\u001b[0;31mSyntaxError\u001b[0m\u001b[0;31m:\u001b[0m invalid syntax\n"
     ]
    }
   ],
   "source": [
    "primt 'Hello world!'"
   ]
  },
  {
   "cell_type": "code",
   "execution_count": 250,
   "id": "alien-beginning",
   "metadata": {},
   "outputs": [
    {
     "name": "stdout",
     "output_type": "stream",
     "text": [
      "Hello world!\n"
     ]
    }
   ],
   "source": [
    "print ('Hello world!')"
   ]
  },
  {
   "cell_type": "markdown",
   "id": "japanese-westminster",
   "metadata": {},
   "source": [
    "HW 2"
   ]
  },
  {
   "cell_type": "code",
   "execution_count": 76,
   "id": "sublime-trust",
   "metadata": {},
   "outputs": [
    {
     "data": {
      "text/plain": [
       "'  0.8475'"
      ]
     },
     "execution_count": 76,
     "metadata": {},
     "output_type": "execute_result"
    }
   ],
   "source": [
    "# Finish the question based on the string below:\n",
    "string_example = 'X-DSPAM-Confidence:  0.8475'\n",
    "'''\n",
    "str.find(sub[, start[, end]])\n",
    "Return the lowest index in the string where substring sub is found within the slice \n",
    "s[start:end]. Optional arguments start and end are interpreted as in slice notation. \n",
    "Return -1 if sub is not found.\n",
    "'''\n",
    "colon = string_example.find(':')\n",
    "colon\n",
    "string_example[18]\n",
    "new_str = string_example[colon + 1:]\n",
    "new_str\n",
    "#new_str.strip()\n",
    "#number = float(new_str)\n",
    "#type(number)\n",
    "\n",
    "# You final result should be defined as number, i.e.\n",
    "# number = ?\n",
    "# YOUR CODE HERE\n",
    "#raise NotImplementedError()"
   ]
  },
  {
   "cell_type": "code",
   "execution_count": 72,
   "id": "blessed-rebel",
   "metadata": {},
   "outputs": [],
   "source": [
    "# YOUR CODE HERE\n",
    "def list_reverse(ori_list):\n",
    "    if type(ori_list) != list:\n",
    "        print(\"please input a list\")\n",
    "    else:\n",
    "       # ori_list.reverse() # reverse list\n",
    "        ori_list.reverse()\n",
    "        new_list = []\n",
    "        new_list += ori_list\n",
    "        return ori_list\n",
    "#raise NotImplementedError()"
   ]
  },
  {
   "cell_type": "code",
   "execution_count": 73,
   "id": "architectural-crack",
   "metadata": {},
   "outputs": [],
   "source": [
    "fruit = ['apple', 'banana']"
   ]
  },
  {
   "cell_type": "code",
   "execution_count": 74,
   "id": "opposed-enlargement",
   "metadata": {},
   "outputs": [
    {
     "data": {
      "text/plain": [
       "['apple', 'banana']"
      ]
     },
     "execution_count": 74,
     "metadata": {},
     "output_type": "execute_result"
    }
   ],
   "source": [
    "fruit"
   ]
  },
  {
   "cell_type": "code",
   "execution_count": 75,
   "id": "collected-assumption",
   "metadata": {},
   "outputs": [
    {
     "data": {
      "text/plain": [
       "['banana', 'apple']"
      ]
     },
     "execution_count": 75,
     "metadata": {},
     "output_type": "execute_result"
    }
   ],
   "source": [
    "list_reverse(fruit)"
   ]
  },
  {
   "cell_type": "code",
   "execution_count": 52,
   "id": "reduced-malpractice",
   "metadata": {},
   "outputs": [],
   "source": [
    "list_reverse(fruit)"
   ]
  },
  {
   "cell_type": "code",
   "execution_count": 53,
   "id": "external-worse",
   "metadata": {},
   "outputs": [
    {
     "name": "stdout",
     "output_type": "stream",
     "text": [
      "please input a list\n"
     ]
    }
   ],
   "source": [
    "list_reverse(10)"
   ]
  },
  {
   "cell_type": "code",
   "execution_count": 54,
   "id": "statutory-timber",
   "metadata": {},
   "outputs": [
    {
     "data": {
      "text/plain": [
       "2"
      ]
     },
     "execution_count": 54,
     "metadata": {},
     "output_type": "execute_result"
    }
   ],
   "source": [
    "len(fruit)"
   ]
  },
  {
   "cell_type": "code",
   "execution_count": 67,
   "id": "identified-metro",
   "metadata": {},
   "outputs": [
    {
     "data": {
      "text/plain": [
       "['banana', 'apple']"
      ]
     },
     "execution_count": 67,
     "metadata": {},
     "output_type": "execute_result"
    }
   ],
   "source": [
    "new = []\n",
    "new += fruit\n",
    "new"
   ]
  },
  {
   "cell_type": "code",
   "execution_count": 56,
   "id": "brazilian-bundle",
   "metadata": {},
   "outputs": [
    {
     "name": "stdout",
     "output_type": "stream",
     "text": [
      "['apple', 'banana']\n"
     ]
    }
   ],
   "source": [
    "print(fruit)"
   ]
  },
  {
   "cell_type": "code",
   "execution_count": 77,
   "id": "adult-reducing",
   "metadata": {},
   "outputs": [
    {
     "name": "stdout",
     "output_type": "stream",
     "text": [
      "[0, 1, 2, 3, 5, 10]\n",
      "[10, 5, 3, 2, 1, 0]\n"
     ]
    }
   ],
   "source": [
    "#sorted returns a copy a list in order from smallest to largest and won't change the ori list\n",
    "number = [2,3,10,1,0,5]\n",
    "print(sorted(number))\n",
    "#sorted from largest to smallest\n",
    "print(sorted(number, reverse = True))"
   ]
  },
  {
   "cell_type": "code",
   "execution_count": 83,
   "id": "weighted-oakland",
   "metadata": {},
   "outputs": [],
   "source": [
    "def is_sorted(seq):\n",
    "    # YOUR CODE HERE\n",
    "    check = []\n",
    "    check += seq\n",
    "    if sorted(check) == seq:\n",
    "        print(\"same\")\n",
    "    else:\n",
    "        print(\"diff\")\n",
    "    #raise NotImplementedError()"
   ]
  },
  {
   "cell_type": "code",
   "execution_count": 84,
   "id": "median-lewis",
   "metadata": {},
   "outputs": [
    {
     "name": "stdout",
     "output_type": "stream",
     "text": [
      "diff\n"
     ]
    }
   ],
   "source": [
    "is_sorted(fruit)"
   ]
  },
  {
   "cell_type": "code",
   "execution_count": 80,
   "id": "respective-flavor",
   "metadata": {},
   "outputs": [
    {
     "data": {
      "text/plain": [
       "['banana', 'apple']"
      ]
     },
     "execution_count": 80,
     "metadata": {},
     "output_type": "execute_result"
    }
   ],
   "source": [
    "fruit"
   ]
  },
  {
   "cell_type": "code",
   "execution_count": 82,
   "id": "textile-malawi",
   "metadata": {},
   "outputs": [
    {
     "data": {
      "text/plain": [
       "False"
      ]
     },
     "execution_count": 82,
     "metadata": {},
     "output_type": "execute_result"
    }
   ],
   "source": [
    "sorted(fruit) == fruit"
   ]
  },
  {
   "cell_type": "code",
   "execution_count": 122,
   "id": "wound-lying",
   "metadata": {},
   "outputs": [],
   "source": [
    "def is_sorted(seq):\n",
    "    # YOUR CODE HERE\n",
    "    check = []\n",
    "    check += seq\n",
    "    if type(seq) == str:\n",
    "        a = ''.join(check)\n",
    "        if a == seq:\n",
    "            return True\n",
    "        else:\n",
    "            return False\n",
    "    else:\n",
    "        if sorted(check) == seq:\n",
    "            return True\n",
    "        else:\n",
    "            return False\n",
    "    #raise NotImplementedError()"
   ]
  },
  {
   "cell_type": "code",
   "execution_count": 123,
   "id": "accessory-syndrome",
   "metadata": {},
   "outputs": [
    {
     "data": {
      "text/plain": [
       "True"
      ]
     },
     "execution_count": 123,
     "metadata": {},
     "output_type": "execute_result"
    }
   ],
   "source": [
    "is_sorted('abbde')"
   ]
  },
  {
   "cell_type": "code",
   "execution_count": 124,
   "id": "divine-simulation",
   "metadata": {},
   "outputs": [],
   "source": [
    "seq = 'abdec'"
   ]
  },
  {
   "cell_type": "code",
   "execution_count": 125,
   "id": "honey-mills",
   "metadata": {},
   "outputs": [
    {
     "data": {
      "text/plain": [
       "['a', 'b', 'c', 'd', 'e']"
      ]
     },
     "execution_count": 125,
     "metadata": {},
     "output_type": "execute_result"
    }
   ],
   "source": [
    "a = sorted(seq)\n",
    "a"
   ]
  },
  {
   "cell_type": "code",
   "execution_count": 117,
   "id": "original-possession",
   "metadata": {},
   "outputs": [],
   "source": []
  },
  {
   "cell_type": "code",
   "execution_count": 126,
   "id": "limiting-opportunity",
   "metadata": {},
   "outputs": [
    {
     "data": {
      "text/plain": [
       "True"
      ]
     },
     "execution_count": 126,
     "metadata": {},
     "output_type": "execute_result"
    }
   ],
   "source": [
    "is_sorted([1, 2, 3, 3, 5])"
   ]
  },
  {
   "cell_type": "code",
   "execution_count": 128,
   "id": "systematic-beach",
   "metadata": {},
   "outputs": [
    {
     "data": {
      "text/plain": [
       "True"
      ]
     },
     "execution_count": 128,
     "metadata": {},
     "output_type": "execute_result"
    }
   ],
   "source": [
    "is_sorted('abbde')"
   ]
  },
  {
   "cell_type": "markdown",
   "id": "public-browser",
   "metadata": {},
   "source": [
    "A palindrome is a word or phrase that reads the same backwards and forwards. Write a function called is_palindrome, which takes a string as its only argument, and returns a Boolean. Your function should ignore spaces and capitalization in assessing whether or not a string is a palindrome, so that \"tacocat\" and \"T A C O cat\" are both considered palindromes."
   ]
  },
  {
   "cell_type": "code",
   "execution_count": 163,
   "id": "respected-plumbing",
   "metadata": {},
   "outputs": [],
   "source": [
    "# YOUR CODE HERE\n",
    "def is_palindrome(s):\n",
    "    s_new = s[:].lower() #set all equal to lower\n",
    "    s_new = s_new.replace(' ','') #get rid of space\n",
    "    tmp = s_new[:]\n",
    "    #reverse one string then compare\n",
    "    tmp =''.join(reversed(s_new))\n",
    "    if tmp == s_new:\n",
    "        return True\n",
    "    else:\n",
    "        return False\n",
    "#raise NotImplementedError()"
   ]
  },
  {
   "cell_type": "code",
   "execution_count": 140,
   "id": "logical-paintball",
   "metadata": {},
   "outputs": [],
   "source": [
    "s = 'AAC'\n",
    "b = s[:].lower()"
   ]
  },
  {
   "cell_type": "code",
   "execution_count": 144,
   "id": "atomic-porcelain",
   "metadata": {},
   "outputs": [
    {
     "data": {
      "text/plain": [
       "'CAA'"
      ]
     },
     "execution_count": 144,
     "metadata": {},
     "output_type": "execute_result"
    }
   ],
   "source": [
    "tmp =''.join(reversed(s))\n",
    "tmp"
   ]
  },
  {
   "cell_type": "code",
   "execution_count": 149,
   "id": "liquid-deployment",
   "metadata": {},
   "outputs": [
    {
     "data": {
      "text/plain": [
       "True"
      ]
     },
     "execution_count": 149,
     "metadata": {},
     "output_type": "execute_result"
    }
   ],
   "source": [
    "is_palindrome('level')"
   ]
  },
  {
   "cell_type": "code",
   "execution_count": 139,
   "id": "under-alert",
   "metadata": {},
   "outputs": [
    {
     "data": {
      "text/plain": [
       "bool"
      ]
     },
     "execution_count": 139,
     "metadata": {},
     "output_type": "execute_result"
    }
   ],
   "source": [
    "type(is_palindrome('level'))"
   ]
  },
  {
   "cell_type": "code",
   "execution_count": 150,
   "id": "coupled-interview",
   "metadata": {},
   "outputs": [
    {
     "data": {
      "text/plain": [
       "False"
      ]
     },
     "execution_count": 150,
     "metadata": {},
     "output_type": "execute_result"
    }
   ],
   "source": [
    "is_palindrome('William')"
   ]
  },
  {
   "cell_type": "code",
   "execution_count": 164,
   "id": "modern-hydrogen",
   "metadata": {},
   "outputs": [
    {
     "data": {
      "text/plain": [
       "True"
      ]
     },
     "execution_count": 164,
     "metadata": {},
     "output_type": "execute_result"
    }
   ],
   "source": [
    "is_palindrome('WAS it a car or a cat I saw')"
   ]
  },
  {
   "cell_type": "code",
   "execution_count": 156,
   "id": "infectious-trash",
   "metadata": {},
   "outputs": [
    {
     "data": {
      "text/plain": [
       "'was I tac a ro rac a ti SAW'"
      ]
     },
     "execution_count": 156,
     "metadata": {},
     "output_type": "execute_result"
    }
   ],
   "source": [
    "tmp =''.join(reversed(a))\n",
    "tmp"
   ]
  },
  {
   "cell_type": "code",
   "execution_count": 159,
   "id": "partial-triangle",
   "metadata": {},
   "outputs": [
    {
     "data": {
      "text/plain": [
       "3"
      ]
     },
     "execution_count": 159,
     "metadata": {},
     "output_type": "execute_result"
    }
   ],
   "source": [
    "a.find(' ')"
   ]
  },
  {
   "cell_type": "code",
   "execution_count": 162,
   "id": "reverse-snapshot",
   "metadata": {},
   "outputs": [
    {
     "data": {
      "text/plain": [
       "'WASitacaroracatIsaw'"
      ]
     },
     "execution_count": 162,
     "metadata": {},
     "output_type": "execute_result"
    }
   ],
   "source": [
    "b = a.replace(' ','')\n",
    "b"
   ]
  },
  {
   "cell_type": "code",
   "execution_count": 230,
   "id": "dependent-pledge",
   "metadata": {},
   "outputs": [],
   "source": [
    "def is_abecedarian(s):\n",
    "    s_new = s[:].lower() #set all equal to lower\n",
    "    s_new = s_new.replace(' ','') #get rid of space\n",
    "    #print(s_new)\n",
    "    l = len(s_new)\n",
    "    for i in range(l-1):\n",
    "     #   print(i)\n",
    "        if s_new[i] <= s_new[i+1]:\n",
    "      #      print(s_new[i],s_new[i+1])\n",
    "            l -= 1\n",
    "        else:\n",
    "            return False\n",
    "    return True"
   ]
  },
  {
   "cell_type": "code",
   "execution_count": 231,
   "id": "charming-slovenia",
   "metadata": {},
   "outputs": [
    {
     "data": {
      "text/plain": [
       "False"
      ]
     },
     "execution_count": 231,
     "metadata": {},
     "output_type": "execute_result"
    }
   ],
   "source": [
    "a = 'adder'\n",
    "a[0] >= a[1]"
   ]
  },
  {
   "cell_type": "code",
   "execution_count": 232,
   "id": "chronic-guide",
   "metadata": {},
   "outputs": [
    {
     "data": {
      "text/plain": [
       "True"
      ]
     },
     "execution_count": 232,
     "metadata": {},
     "output_type": "execute_result"
    }
   ],
   "source": [
    "is_abecedarian(\"adder\")\n"
   ]
  },
  {
   "cell_type": "code",
   "execution_count": 233,
   "id": "received-albany",
   "metadata": {},
   "outputs": [
    {
     "data": {
      "text/plain": [
       "False"
      ]
     },
     "execution_count": 233,
     "metadata": {},
     "output_type": "execute_result"
    }
   ],
   "source": [
    "is_abecedarian(\"aderd\")"
   ]
  },
  {
   "cell_type": "code",
   "execution_count": 294,
   "id": "cordless-parking",
   "metadata": {},
   "outputs": [],
   "source": [
    "def double_vowels(s):\n",
    "    s_new = \"\"\n",
    "    #s_new = s_new.replace(' ','') #get rid of space\n",
    "    l = len(s)\n",
    "    i = 0\n",
    "    #vowels = 'aeiou'\n",
    "    for i in range(l):\n",
    "        if(s[i].lower() == 'a' or s[i].lower() == 'e' or s[i].lower() == 'i' \n",
    "           or s[i].lower() == 'o' or s[i].lower() == 'u'):\n",
    "            s_new += s[i]\n",
    "        s_new += s[i]\n",
    "    return s_new"
   ]
  },
  {
   "cell_type": "code",
   "execution_count": 295,
   "id": "suited-walnut",
   "metadata": {},
   "outputs": [
    {
     "data": {
      "text/plain": [
       "'thiis shoouuld woork'"
      ]
     },
     "execution_count": 295,
     "metadata": {},
     "output_type": "execute_result"
    }
   ],
   "source": [
    "double_vowels('this should work')"
   ]
  },
  {
   "cell_type": "code",
   "execution_count": 291,
   "id": "tropical-director",
   "metadata": {},
   "outputs": [
    {
     "data": {
      "text/plain": [
       "'this should work'"
      ]
     },
     "execution_count": 291,
     "metadata": {},
     "output_type": "execute_result"
    }
   ],
   "source": [
    "s = 'this should work'\n",
    "s_new = s[:]\n",
    "s_new"
   ]
  },
  {
   "cell_type": "code",
   "execution_count": 250,
   "id": "central-metro",
   "metadata": {},
   "outputs": [
    {
     "data": {
      "text/plain": [
       "'I'"
      ]
     },
     "execution_count": 250,
     "metadata": {},
     "output_type": "execute_result"
    }
   ],
   "source": [
    "s_new[2].upper()"
   ]
  },
  {
   "cell_type": "code",
   "execution_count": 251,
   "id": "seventh-rouge",
   "metadata": {},
   "outputs": [
    {
     "data": {
      "text/plain": [
       "'this should work'"
      ]
     },
     "execution_count": 251,
     "metadata": {},
     "output_type": "execute_result"
    }
   ],
   "source": [
    "s_new"
   ]
  },
  {
   "cell_type": "code",
   "execution_count": 281,
   "id": "awful-bradley",
   "metadata": {},
   "outputs": [
    {
     "data": {
      "text/plain": [
       "'this should work'"
      ]
     },
     "execution_count": 281,
     "metadata": {},
     "output_type": "execute_result"
    }
   ],
   "source": [
    "#s_new = s_new.replace(' ','') #get rid of space\n",
    "l = len(s_new)\n",
    "i = 0\n",
    "#vowels = 'aeiou'\n",
    "for i in range(l):\n",
    "    if(s_new[i].lower() == 'a' or s_new[i].lower() == 'e' or s_new[i].lower() == 'i' \n",
    "       or s_new[i].lower() == 'o' or s_new[i].lower() == 'u'):\n",
    "        s_new[:i] +s_new[i]\n",
    "s_new"
   ]
  },
  {
   "cell_type": "code",
   "execution_count": 272,
   "id": "processed-coordinate",
   "metadata": {},
   "outputs": [
    {
     "data": {
      "text/plain": [
       "'goati'"
      ]
     },
     "execution_count": 272,
     "metadata": {},
     "output_type": "execute_result"
    }
   ],
   "source": [
    "mystr = 'goat'\n",
    "new_str = mystr + 'i'\n",
    "new_str"
   ]
  },
  {
   "cell_type": "code",
   "execution_count": 288,
   "id": "desperate-filing",
   "metadata": {},
   "outputs": [
    {
     "name": "stdout",
     "output_type": "stream",
     "text": [
      "Original String:  helloworld\n",
      "String with Vowels duplicated:  heelloowoorld\n"
     ]
    }
   ],
   "source": [
    "def isVowel(ch): \n",
    "    ch = ch.upper() \n",
    "    if (ch == 'A' or ch == 'E' or \n",
    "        ch == 'I' or ch == 'O' or \n",
    "        ch == 'U'): \n",
    "        return True\n",
    "    else: \n",
    "        return False\n",
    "  \n",
    "# Function to get the resultant String \n",
    "# with vowels duplicated \n",
    "def duplicateVowels(S): \n",
    "    t = len(S) \n",
    "  \n",
    "    # Another to store \n",
    "    # the resultant String \n",
    "    res = \"\" \n",
    "  \n",
    "    # Loop to check for each character \n",
    "    for i in range(t): \n",
    "        if (isVowel(S[i])): \n",
    "            res += S[i] \n",
    "        res += S[i] \n",
    "  \n",
    "    return res \n",
    "\n",
    "S = \"helloworld\"\n",
    "  \n",
    "# Print the original String \n",
    "print(\"Original String: \", S) \n",
    "  \n",
    "res = duplicateVowels(S) \n",
    "  \n",
    "# Print the resultant String \n",
    "print(\"String with Vowels duplicated: \", res) "
   ]
  },
  {
   "cell_type": "code",
   "execution_count": null,
   "id": "instructional-velvet",
   "metadata": {},
   "outputs": [],
   "source": []
  }
 ],
 "metadata": {
  "kernelspec": {
   "display_name": "Python 3",
   "language": "python",
   "name": "python3"
  },
  "language_info": {
   "codemirror_mode": {
    "name": "ipython",
    "version": 3
   },
   "file_extension": ".py",
   "mimetype": "text/x-python",
   "name": "python",
   "nbconvert_exporter": "python",
   "pygments_lexer": "ipython3",
   "version": "3.9.1"
  }
 },
 "nbformat": 4,
 "nbformat_minor": 5
}
