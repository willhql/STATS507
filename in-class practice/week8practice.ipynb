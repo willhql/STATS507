{
 "cells": [
  {
   "cell_type": "markdown",
   "metadata": {
    "deletable": false,
    "editable": false,
    "nbgrader": {
     "cell_type": "markdown",
     "checksum": "04e3c6d5c7d0b99ae2545ebdabea2d04",
     "grade": false,
     "grade_id": "cell-658ca6d928f62de6",
     "locked": true,
     "schema_version": 3,
     "solution": false,
     "task": false
    }
   },
   "source": [
    "# Week 8 Practice: Regular Expressions"
   ]
  },
  {
   "cell_type": "code",
   "execution_count": null,
   "metadata": {
    "deletable": false,
    "editable": false,
    "nbgrader": {
     "cell_type": "code",
     "checksum": "d628848d2a1854d16a8e46b2d8ea7ee5",
     "grade": false,
     "grade_id": "cell-864251da9c365a54",
     "locked": true,
     "schema_version": 3,
     "solution": false,
     "task": false
    }
   },
   "outputs": [],
   "source": [
    "import re"
   ]
  },
  {
   "cell_type": "markdown",
   "metadata": {
    "deletable": false,
    "editable": false,
    "nbgrader": {
     "cell_type": "markdown",
     "checksum": "3d9bc9179d9f9895b21189b8306198f3",
     "grade": false,
     "grade_id": "cell-5a8d3bb312b61c76",
     "locked": true,
     "schema_version": 3,
     "solution": false,
     "task": false
    }
   },
   "source": [
    "### Problem 1\n",
    "You are given a string consisting only of digits, commas, and periods.\n",
    "\n",
    "Write a function that uses `re.split` to split the string at its commas and periods, returning a list of the number's numeric parts.\n",
    "\n",
    "It’s guaranteed that every comma and every period is preceeded and followed by a digit."
   ]
  },
  {
   "cell_type": "code",
   "execution_count": null,
   "metadata": {
    "deletable": false,
    "nbgrader": {
     "cell_type": "code",
     "checksum": "4014fb8df23d65c87b56431f13e859e0",
     "grade": false,
     "grade_id": "cell-84eb6b2a9fd47921",
     "locked": false,
     "schema_version": 3,
     "solution": true,
     "task": false
    }
   },
   "outputs": [],
   "source": [
    "def numeric_parts(x):\n",
    "    # YOUR CODE HERE\n",
    "    raise NotImplementedError()"
   ]
  },
  {
   "cell_type": "code",
   "execution_count": null,
   "metadata": {
    "deletable": false,
    "editable": false,
    "nbgrader": {
     "cell_type": "code",
     "checksum": "a413b4e22e3f4f1f3f12971bd9f5eea7",
     "grade": true,
     "grade_id": "cell-408521412c7d67d8",
     "locked": true,
     "points": 1,
     "schema_version": 3,
     "solution": false,
     "task": false
    }
   },
   "outputs": [],
   "source": [
    "assert numeric_parts(\"100,000,000.000\") == [\"100\", \"000\", \"000\", \"000\"]"
   ]
  },
  {
   "cell_type": "markdown",
   "metadata": {
    "deletable": false,
    "editable": false,
    "nbgrader": {
     "cell_type": "markdown",
     "checksum": "1462fefebcacdf11e0c8ec292ce72eff",
     "grade": false,
     "grade_id": "cell-c8093af1e53120f3",
     "locked": true,
     "schema_version": 3,
     "solution": false,
     "task": false
    }
   },
   "source": [
    "### Problem 2\n",
    "\n",
    "You are given a string .\n",
    "Your task is to verify that  is a floating point number.\n",
    "\n",
    "In this task, a valid float number must satisfy all of the following requirements:\n",
    "- can start with `+`, `-` or `.` symbol.\n",
    "- must contain at least one decimal value.\n",
    "- must have exactly one `.` symbol."
   ]
  },
  {
   "cell_type": "code",
   "execution_count": null,
   "metadata": {
    "deletable": false,
    "nbgrader": {
     "cell_type": "code",
     "checksum": "4c5bdee2997461fd2400f51aea0eb82f",
     "grade": false,
     "grade_id": "cell-453e7b882a366588",
     "locked": false,
     "schema_version": 3,
     "solution": true,
     "task": false
    }
   },
   "outputs": [],
   "source": [
    "def is_float(x):\n",
    "    # YOUR CODE HERE\n",
    "    raise NotImplementedError()"
   ]
  },
  {
   "cell_type": "code",
   "execution_count": null,
   "metadata": {
    "deletable": false,
    "editable": false,
    "nbgrader": {
     "cell_type": "code",
     "checksum": "b0b1055234785b9e565b5f11c8b0c1a9",
     "grade": true,
     "grade_id": "cell-ca3384b22f50663d",
     "locked": true,
     "points": 1,
     "schema_version": 3,
     "solution": false,
     "task": false
    }
   },
   "outputs": [],
   "source": [
    "assert not is_float(\"4.0O0\")\n",
    "assert is_float(\"-1.00\")\n",
    "assert is_float (\"+4.54\")\n",
    "assert not is_float(\"SomeRandomStuff\")\n",
    "assert is_float(\"12.0\")\n",
    "assert not is_float(\"12.\")\n",
    "assert is_float(\".7\")\n",
    "assert is_float(\"-0.7\")"
   ]
  }
 ],
 "metadata": {
  "kernelspec": {
   "display_name": "Python 3",
   "language": "python",
   "name": "python3"
  },
  "language_info": {
   "codemirror_mode": {
    "name": "ipython",
    "version": 3
   },
   "file_extension": ".py",
   "mimetype": "text/x-python",
   "name": "python",
   "nbconvert_exporter": "python",
   "pygments_lexer": "ipython3",
   "version": "3.9.1"
  }
 },
 "nbformat": 4,
 "nbformat_minor": 4
}
