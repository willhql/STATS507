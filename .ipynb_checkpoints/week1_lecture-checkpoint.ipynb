{
 "cells": [
  {
   "cell_type": "code",
   "execution_count": 2,
   "id": "graphic-bloom",
   "metadata": {},
   "outputs": [
    {
     "name": "stdout",
     "output_type": "stream",
     "text": [
      "Hello world\n"
     ]
    }
   ],
   "source": [
    "print(\"Hello world\")"
   ]
  },
  {
   "cell_type": "code",
   "execution_count": 4,
   "id": "chronic-analysis",
   "metadata": {},
   "outputs": [
    {
     "name": "stdout",
     "output_type": "stream",
     "text": [
      "Hello world\n"
     ]
    }
   ],
   "source": [
    "print('Hello world')"
   ]
  },
  {
   "cell_type": "code",
   "execution_count": 5,
   "id": "related-february",
   "metadata": {},
   "outputs": [
    {
     "data": {
      "text/plain": [
       "3"
      ]
     },
     "execution_count": 5,
     "metadata": {},
     "output_type": "execute_result"
    }
   ],
   "source": [
    "1+2"
   ]
  },
  {
   "cell_type": "markdown",
   "id": "stylish-transparency",
   "metadata": {},
   "source": [
    "2**3 "
   ]
  },
  {
   "cell_type": "code",
   "execution_count": 6,
   "id": "british-delivery",
   "metadata": {},
   "outputs": [
    {
     "data": {
      "text/plain": [
       "8"
      ]
     },
     "execution_count": 6,
     "metadata": {},
     "output_type": "execute_result"
    }
   ],
   "source": [
    "2**3"
   ]
  },
  {
   "cell_type": "code",
   "execution_count": 8,
   "id": "automatic-liabilities",
   "metadata": {},
   "outputs": [
    {
     "data": {
      "text/plain": [
       "2.0"
      ]
     },
     "execution_count": 8,
     "metadata": {},
     "output_type": "execute_result"
    }
   ],
   "source": [
    "6/3"
   ]
  },
  {
   "cell_type": "code",
   "execution_count": 9,
   "id": "civic-philosophy",
   "metadata": {},
   "outputs": [
    {
     "data": {
      "text/plain": [
       "2.6666666666666665"
      ]
     },
     "execution_count": 9,
     "metadata": {},
     "output_type": "execute_result"
    }
   ],
   "source": [
    "8/3"
   ]
  },
  {
   "cell_type": "code",
   "execution_count": 10,
   "id": "royal-pregnancy",
   "metadata": {},
   "outputs": [
    {
     "data": {
      "text/plain": [
       "2"
      ]
     },
     "execution_count": 10,
     "metadata": {},
     "output_type": "execute_result"
    }
   ],
   "source": [
    "8//3"
   ]
  },
  {
   "cell_type": "code",
   "execution_count": 11,
   "id": "proud-child",
   "metadata": {},
   "outputs": [
    {
     "data": {
      "text/plain": [
       "2"
      ]
     },
     "execution_count": 11,
     "metadata": {},
     "output_type": "execute_result"
    }
   ],
   "source": [
    "8%3"
   ]
  },
  {
   "cell_type": "code",
   "execution_count": 13,
   "id": "becoming-telling",
   "metadata": {},
   "outputs": [],
   "source": [
    "mystring = \"Die Welt ist alles was der Fall ist.\"\n",
    "approx_pi = 3.141592\n",
    "number_of_planets = 9"
   ]
  },
  {
   "cell_type": "code",
   "execution_count": 14,
   "id": "expensive-baker",
   "metadata": {},
   "outputs": [
    {
     "data": {
      "text/plain": [
       "'Die Welt ist alles was der Fall ist.'"
      ]
     },
     "execution_count": 14,
     "metadata": {},
     "output_type": "execute_result"
    }
   ],
   "source": [
    "mystring"
   ]
  },
  {
   "cell_type": "code",
   "execution_count": 15,
   "id": "anticipated-education",
   "metadata": {},
   "outputs": [
    {
     "data": {
      "text/plain": [
       "str"
      ]
     },
     "execution_count": 15,
     "metadata": {},
     "output_type": "execute_result"
    }
   ],
   "source": [
    "type(mystring)"
   ]
  },
  {
   "cell_type": "code",
   "execution_count": 17,
   "id": "burning-billion",
   "metadata": {},
   "outputs": [
    {
     "data": {
      "text/plain": [
       "float"
      ]
     },
     "execution_count": 17,
     "metadata": {},
     "output_type": "execute_result"
    }
   ],
   "source": [
    "type(approx_pi)"
   ]
  },
  {
   "cell_type": "code",
   "execution_count": 18,
   "id": "basic-appeal",
   "metadata": {},
   "outputs": [
    {
     "data": {
      "text/plain": [
       "int"
      ]
     },
     "execution_count": 18,
     "metadata": {},
     "output_type": "execute_result"
    }
   ],
   "source": [
    "#convert\n",
    "pi_int = int(approx_pi)\n",
    "type(pi_int)"
   ]
  },
  {
   "cell_type": "code",
   "execution_count": 19,
   "id": "variable-plymouth",
   "metadata": {},
   "outputs": [
    {
     "data": {
      "text/plain": [
       "int"
      ]
     },
     "execution_count": 19,
     "metadata": {},
     "output_type": "execute_result"
    }
   ],
   "source": [
    "int_from_str = int('88675309')\n",
    "type(int_from_str)"
   ]
  },
  {
   "cell_type": "code",
   "execution_count": 20,
   "id": "present-private",
   "metadata": {},
   "outputs": [
    {
     "data": {
      "text/plain": [
       "88675309"
      ]
     },
     "execution_count": 20,
     "metadata": {},
     "output_type": "execute_result"
    }
   ],
   "source": [
    "int_from_str"
   ]
  },
  {
   "cell_type": "code",
   "execution_count": 21,
   "id": "leading-frank",
   "metadata": {},
   "outputs": [
    {
     "data": {
      "text/plain": [
       "float"
      ]
     },
     "execution_count": 21,
     "metadata": {},
     "output_type": "execute_result"
    }
   ],
   "source": [
    "float_from_int = float(42)\n",
    "type(float_from_int)"
   ]
  },
  {
   "cell_type": "code",
   "execution_count": 22,
   "id": "faced-nightmare",
   "metadata": {},
   "outputs": [
    {
     "ename": "ValueError",
     "evalue": "invalid literal for int() with base 10: 'got'",
     "output_type": "error",
     "traceback": [
      "\u001b[0;31m---------------------------------------------------------------------------\u001b[0m",
      "\u001b[0;31mValueError\u001b[0m                                Traceback (most recent call last)",
      "\u001b[0;32m<ipython-input-22-6ee870eee932>\u001b[0m in \u001b[0;36m<module>\u001b[0;34m\u001b[0m\n\u001b[0;32m----> 1\u001b[0;31m \u001b[0mgoat_int\u001b[0m \u001b[0;34m=\u001b[0m \u001b[0mint\u001b[0m\u001b[0;34m(\u001b[0m\u001b[0;34m'got'\u001b[0m\u001b[0;34m)\u001b[0m\u001b[0;34m\u001b[0m\u001b[0;34m\u001b[0m\u001b[0m\n\u001b[0m",
      "\u001b[0;31mValueError\u001b[0m: invalid literal for int() with base 10: 'got'"
     ]
    }
   ],
   "source": [
    "goat_int = int('goat')"
   ]
  },
  {
   "cell_type": "code",
   "execution_count": 23,
   "id": "pleased-frame",
   "metadata": {},
   "outputs": [
    {
     "ename": "TypeError",
     "evalue": "can't multiply sequence by non-int of type 'str'",
     "output_type": "error",
     "traceback": [
      "\u001b[0;31m---------------------------------------------------------------------------\u001b[0m",
      "\u001b[0;31mTypeError\u001b[0m                                 Traceback (most recent call last)",
      "\u001b[0;32m<ipython-input-23-e30eb6a4fd22>\u001b[0m in \u001b[0;36m<module>\u001b[0;34m\u001b[0m\n\u001b[0;32m----> 1\u001b[0;31m \u001b[0;34m'one'\u001b[0m \u001b[0;34m*\u001b[0m \u001b[0;34m'two'\u001b[0m\u001b[0;34m\u001b[0m\u001b[0;34m\u001b[0m\u001b[0m\n\u001b[0m",
      "\u001b[0;31mTypeError\u001b[0m: can't multiply sequence by non-int of type 'str'"
     ]
    }
   ],
   "source": [
    "'one' * 'two'"
   ]
  },
  {
   "cell_type": "code",
   "execution_count": 24,
   "id": "comprehensive-softball",
   "metadata": {},
   "outputs": [
    {
     "data": {
      "text/plain": [
       "'catdog'"
      ]
     },
     "execution_count": 24,
     "metadata": {},
     "output_type": "execute_result"
    }
   ],
   "source": [
    "'cat'+'dog'"
   ]
  },
  {
   "cell_type": "code",
   "execution_count": 25,
   "id": "genuine-registrar",
   "metadata": {},
   "outputs": [
    {
     "data": {
      "text/plain": [
       "'goatgoatgoat'"
      ]
     },
     "execution_count": 25,
     "metadata": {},
     "output_type": "execute_result"
    }
   ],
   "source": [
    "'goat'*3"
   ]
  },
  {
   "cell_type": "code",
   "execution_count": 26,
   "id": "higher-facial",
   "metadata": {},
   "outputs": [
    {
     "name": "stdout",
     "output_type": "stream",
     "text": [
      "2.71828\n"
     ]
    }
   ],
   "source": [
    "#comments\n",
    "euler = 2.71828 #Euler's number\n",
    "'''Triple quotes let you write a multi-line comment\n",
    "    like this one.'''\n",
    "print(euler)"
   ]
  },
  {
   "cell_type": "code",
   "execution_count": 27,
   "id": "original-silence",
   "metadata": {},
   "outputs": [
    {
     "name": "stdout",
     "output_type": "stream",
     "text": [
      "1.4142135623730951\n"
     ]
    }
   ],
   "source": [
    "#import and call function\n",
    "import math\n",
    "rt2 = math.sqrt(2)\n",
    "print(rt2)"
   ]
  },
  {
   "cell_type": "code",
   "execution_count": 28,
   "id": "searching-facility",
   "metadata": {},
   "outputs": [
    {
     "data": {
      "text/plain": [
       "8.0"
      ]
     },
     "execution_count": 28,
     "metadata": {},
     "output_type": "execute_result"
    }
   ],
   "source": [
    "#function takes 2 arguments\n",
    "a=2\n",
    "b=3\n",
    "math.pow(a,b)"
   ]
  },
  {
   "cell_type": "code",
   "execution_count": 29,
   "id": "regional-wiring",
   "metadata": {},
   "outputs": [
    {
     "data": {
      "text/plain": [
       "0.8660254037844386"
      ]
     },
     "execution_count": 29,
     "metadata": {},
     "output_type": "execute_result"
    }
   ],
   "source": [
    "#call fuction in another function\n",
    "a = 60\n",
    "math.sin( (a/360)*2*math.pi)"
   ]
  },
  {
   "cell_type": "code",
   "execution_count": 30,
   "id": "critical-diagnosis",
   "metadata": {},
   "outputs": [
    {
     "data": {
      "text/plain": [
       "0.36787968862663156"
      ]
     },
     "execution_count": 30,
     "metadata": {},
     "output_type": "execute_result"
    }
   ],
   "source": [
    "x = 1.71828\n",
    "y = math.exp( -math.log(x+1))\n",
    "y #approx'1y e^{-1}"
   ]
  },
  {
   "cell_type": "code",
   "execution_count": 31,
   "id": "continental-contents",
   "metadata": {},
   "outputs": [],
   "source": [
    "#define own functions\n",
    "def print_wittgenstein():#takes no argument\n",
    "    print('Die Welt ist alles')\n",
    "    print('was der Fall ist')"
   ]
  },
  {
   "cell_type": "code",
   "execution_count": 33,
   "id": "technical-boulder",
   "metadata": {},
   "outputs": [
    {
     "name": "stdout",
     "output_type": "stream",
     "text": [
      "Die Welt ist alles\n",
      "was der Fall ist\n"
     ]
    }
   ],
   "source": [
    "print_wittgenstein()"
   ]
  },
  {
   "cell_type": "code",
   "execution_count": 35,
   "id": "opening-xerox",
   "metadata": {},
   "outputs": [
    {
     "name": "stdout",
     "output_type": "stream",
     "text": [
      "here is a string\n",
      "Die Welt ist alles\n",
      "was der Fall ist\n",
      "here is a string\n"
     ]
    }
   ],
   "source": [
    "def wittgenstein_sandwich(bread):\n",
    "    print(bread)\n",
    "    print_wittgenstein()\n",
    "    print(bread)\n",
    "wittgenstein_sandwich('here is a string')"
   ]
  },
  {
   "cell_type": "code",
   "execution_count": 36,
   "id": "favorite-april",
   "metadata": {},
   "outputs": [],
   "source": [
    "#functions return things\n",
    "def double_string(string):\n",
    "    return 2*string"
   ]
  },
  {
   "cell_type": "code",
   "execution_count": 38,
   "id": "mighty-hopkins",
   "metadata": {},
   "outputs": [
    {
     "data": {
      "text/plain": [
       "'birdbird'"
      ]
     },
     "execution_count": 38,
     "metadata": {},
     "output_type": "execute_result"
    }
   ],
   "source": [
    "double_string('bird')"
   ]
  },
  {
   "cell_type": "code",
   "execution_count": 39,
   "id": "alien-plant",
   "metadata": {},
   "outputs": [],
   "source": [
    "#save 2goats to twogoats\n",
    "twogoats = double_string('goat')"
   ]
  },
  {
   "cell_type": "code",
   "execution_count": 40,
   "id": "suspended-replacement",
   "metadata": {},
   "outputs": [
    {
     "name": "stdout",
     "output_type": "stream",
     "text": [
      "goatgoat\n"
     ]
    }
   ],
   "source": [
    "print(twogoats)"
   ]
  },
  {
   "cell_type": "code",
   "execution_count": 41,
   "id": "remarkable-warning",
   "metadata": {},
   "outputs": [
    {
     "data": {
      "text/plain": [
       "function"
      ]
     },
     "execution_count": 41,
     "metadata": {},
     "output_type": "execute_result"
    }
   ],
   "source": [
    "#type is a function\n",
    "type(print_wittgenstein)"
   ]
  },
  {
   "cell_type": "code",
   "execution_count": 42,
   "id": "japanese-shell",
   "metadata": {},
   "outputs": [
    {
     "data": {
      "text/plain": [
       "<function __main__.print_wittgenstein()>"
      ]
     },
     "execution_count": 42,
     "metadata": {},
     "output_type": "execute_result"
    }
   ],
   "source": [
    "print_wittgenstein"
   ]
  },
  {
   "cell_type": "code",
   "execution_count": 43,
   "id": "photographic-choir",
   "metadata": {},
   "outputs": [
    {
     "name": "stdout",
     "output_type": "stream",
     "text": [
      "<function print_wittgenstein at 0x7fd9d8442940>\n"
     ]
    }
   ],
   "source": [
    "print(print_wittgenstein)\n",
    "#0x7fd9d8442940 is the addtess in memory where print_wittgenstein is stored"
   ]
  },
  {
   "cell_type": "code",
   "execution_count": 44,
   "id": "toxic-bryan",
   "metadata": {},
   "outputs": [
    {
     "data": {
      "text/plain": [
       "bool"
      ]
     },
     "execution_count": 44,
     "metadata": {},
     "output_type": "execute_result"
    }
   ],
   "source": [
    "#boolean\n",
    "type(True)"
   ]
  },
  {
   "cell_type": "code",
   "execution_count": 46,
   "id": "assured-dimension",
   "metadata": {},
   "outputs": [
    {
     "data": {
      "text/plain": [
       "bool"
      ]
     },
     "execution_count": 46,
     "metadata": {},
     "output_type": "execute_result"
    }
   ],
   "source": [
    "type(False)"
   ]
  },
  {
   "cell_type": "code",
   "execution_count": 49,
   "id": "million-denver",
   "metadata": {},
   "outputs": [
    {
     "data": {
      "text/plain": [
       "False"
      ]
     },
     "execution_count": 49,
     "metadata": {},
     "output_type": "execute_result"
    }
   ],
   "source": [
    "x = 10\n",
    "y = 20\n",
    "x == y #x is equal to y\n"
   ]
  },
  {
   "cell_type": "code",
   "execution_count": 48,
   "id": "magnetic-marker",
   "metadata": {},
   "outputs": [
    {
     "data": {
      "text/plain": [
       "False"
      ]
     },
     "execution_count": 48,
     "metadata": {},
     "output_type": "execute_result"
    }
   ],
   "source": [
    "x > y #x is strictly greater than y"
   ]
  },
  {
   "cell_type": "code",
   "execution_count": 61,
   "id": "environmental-regular",
   "metadata": {},
   "outputs": [
    {
     "data": {
      "text/plain": [
       "True"
      ]
     },
     "execution_count": 61,
     "metadata": {},
     "output_type": "execute_result"
    }
   ],
   "source": [
    "x < 20 and x > 0"
   ]
  },
  {
   "cell_type": "code",
   "execution_count": 62,
   "id": "foreign-inside",
   "metadata": {},
   "outputs": [
    {
     "data": {
      "text/plain": [
       "False"
      ]
     },
     "execution_count": 62,
     "metadata": {},
     "output_type": "execute_result"
    }
   ],
   "source": [
    "x < 20 and x > 0\n",
    "x > 100 and x > 0"
   ]
  },
  {
   "cell_type": "code",
   "execution_count": 51,
   "id": "delayed-eligibility",
   "metadata": {},
   "outputs": [
    {
     "data": {
      "text/plain": [
       "False"
      ]
     },
     "execution_count": 51,
     "metadata": {},
     "output_type": "execute_result"
    }
   ],
   "source": [
    "x > 100 and x > 0"
   ]
  },
  {
   "cell_type": "code",
   "execution_count": 52,
   "id": "charitable-bishop",
   "metadata": {},
   "outputs": [
    {
     "data": {
      "text/plain": [
       "True"
      ]
     },
     "execution_count": 52,
     "metadata": {},
     "output_type": "execute_result"
    }
   ],
   "source": [
    "x > 100 or x > 0"
   ]
  },
  {
   "cell_type": "code",
   "execution_count": 53,
   "id": "studied-pound",
   "metadata": {},
   "outputs": [
    {
     "data": {
      "text/plain": [
       "False"
      ]
     },
     "execution_count": 53,
     "metadata": {},
     "output_type": "execute_result"
    }
   ],
   "source": [
    "not x > 0"
   ]
  },
  {
   "cell_type": "code",
   "execution_count": 54,
   "id": "immediate-thirty",
   "metadata": {},
   "outputs": [
    {
     "data": {
      "text/plain": [
       "True"
      ]
     },
     "execution_count": 54,
     "metadata": {},
     "output_type": "execute_result"
    }
   ],
   "source": [
    "1 and x > 0\n",
    "#any nonzero # or string will give True"
   ]
  },
  {
   "cell_type": "code",
   "execution_count": 55,
   "id": "disturbed-offer",
   "metadata": {},
   "outputs": [
    {
     "data": {
      "text/plain": [
       "0"
      ]
     },
     "execution_count": 55,
     "metadata": {},
     "output_type": "execute_result"
    }
   ],
   "source": [
    "0 and x > 0"
   ]
  },
  {
   "cell_type": "code",
   "execution_count": 56,
   "id": "internal-council",
   "metadata": {},
   "outputs": [
    {
     "data": {
      "text/plain": [
       "True"
      ]
     },
     "execution_count": 56,
     "metadata": {},
     "output_type": "execute_result"
    }
   ],
   "source": [
    "'cat' and x > 0"
   ]
  },
  {
   "cell_type": "code",
   "execution_count": 57,
   "id": "reported-guidance",
   "metadata": {},
   "outputs": [
    {
     "data": {
      "text/plain": [
       "''"
      ]
     },
     "execution_count": 57,
     "metadata": {},
     "output_type": "execute_result"
    }
   ],
   "source": [
    "'' and x > 0\n",
    "#emptey sting '' is false value"
   ]
  },
  {
   "cell_type": "code",
   "execution_count": 58,
   "id": "acute-microwave",
   "metadata": {},
   "outputs": [],
   "source": [
    "def is_even(n):\n",
    "    return n % 2 == 0"
   ]
  },
  {
   "cell_type": "code",
   "execution_count": 63,
   "id": "harmful-native",
   "metadata": {},
   "outputs": [
    {
     "data": {
      "text/plain": [
       "False"
      ]
     },
     "execution_count": 63,
     "metadata": {},
     "output_type": "execute_result"
    }
   ],
   "source": [
    "is_even(-3)"
   ]
  },
  {
   "cell_type": "code",
   "execution_count": 66,
   "id": "creative-spelling",
   "metadata": {},
   "outputs": [
    {
     "name": "stdout",
     "output_type": "stream",
     "text": [
      "x is bigger than 0\n",
      "x is bigger than 1\n",
      "x is less than 1\n"
     ]
    }
   ],
   "source": [
    "#conditional Expressions\n",
    "x = 10\n",
    "if x > 0:\n",
    "    print('x is bigger than 0')\n",
    "if x > 1:\n",
    "    print('x is bigger than 1')\n",
    "if x > 100:\n",
    "    print('x is bigger than 100')\n",
    "if x < 100:\n",
    "    print('x is less than 1')"
   ]
  },
  {
   "cell_type": "code",
   "execution_count": 68,
   "id": "minute-identifier",
   "metadata": {},
   "outputs": [
    {
     "name": "stdout",
     "output_type": "stream",
     "text": [
      "y is less than 100\n"
     ]
    }
   ],
   "source": [
    "#have to do something in the body of a conditional statement\n",
    "#thus use pass\n",
    "y = 20\n",
    "if y > 0:\n",
    "    pass\n",
    "if y < 100:\n",
    "    print('y is less than 100')"
   ]
  },
  {
   "cell_type": "code",
   "execution_count": 70,
   "id": "danish-membership",
   "metadata": {},
   "outputs": [
    {
     "ename": "IndentationError",
     "evalue": "expected an indented block (<ipython-input-70-19015d9dab76>, line 3)",
     "output_type": "error",
     "traceback": [
      "\u001b[0;36m  File \u001b[0;32m\"<ipython-input-70-19015d9dab76>\"\u001b[0;36m, line \u001b[0;32m3\u001b[0m\n\u001b[0;31m    if y < 100:\u001b[0m\n\u001b[0m    ^\u001b[0m\n\u001b[0;31mIndentationError\u001b[0m\u001b[0;31m:\u001b[0m expected an indented block\n"
     ]
    }
   ],
   "source": [
    "y = 20\n",
    "if y > 0:\n",
    "if y < 100:\n",
    "    print('y is less than 100')"
   ]
  },
  {
   "cell_type": "code",
   "execution_count": 71,
   "id": "interesting-evans",
   "metadata": {},
   "outputs": [],
   "source": [
    "#elif\n",
    "def pos_neg_or_zero(x):\n",
    "    if x < 0:\n",
    "        print('That is negative')\n",
    "    elif x > 0:\n",
    "        print('That is positive')\n",
    "    else:\n",
    "        print('That is zero')"
   ]
  },
  {
   "cell_type": "code",
   "execution_count": 72,
   "id": "fifth-estate",
   "metadata": {},
   "outputs": [
    {
     "name": "stdout",
     "output_type": "stream",
     "text": [
      "That is zero\n",
      "That is negative\n",
      "That is positive\n"
     ]
    }
   ],
   "source": [
    "pos_neg_or_zero(0)\n",
    "pos_neg_or_zero(-100)\n",
    "pos_neg_or_zero(2)"
   ]
  },
  {
   "cell_type": "code",
   "execution_count": 73,
   "id": "quick-motivation",
   "metadata": {},
   "outputs": [],
   "source": [
    "if x > 0 and x < 10:\n",
    "    print('x is a positive single-digit number.')"
   ]
  },
  {
   "cell_type": "code",
   "execution_count": null,
   "id": "absolute-security",
   "metadata": {},
   "outputs": [],
   "source": []
  }
 ],
 "metadata": {
  "kernelspec": {
   "display_name": "Python 3",
   "language": "python",
   "name": "python3"
  },
  "language_info": {
   "codemirror_mode": {
    "name": "ipython",
    "version": 3
   },
   "file_extension": ".py",
   "mimetype": "text/x-python",
   "name": "python",
   "nbconvert_exporter": "python",
   "pygments_lexer": "ipython3",
   "version": "3.9.1"
  }
 },
 "nbformat": 4,
 "nbformat_minor": 5
}
