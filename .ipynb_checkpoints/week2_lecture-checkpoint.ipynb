{
 "cells": [
  {
   "cell_type": "code",
   "execution_count": 1,
   "id": "instant-transcript",
   "metadata": {},
   "outputs": [
    {
     "name": "stdout",
     "output_type": "stream",
     "text": [
      "10\n",
      "9\n",
      "8\n",
      "7\n",
      "6\n",
      "5\n",
      "4\n",
      "3\n",
      "2\n",
      "1\n",
      "We have lifr off!\n"
     ]
    }
   ],
   "source": [
    "#recursion\n",
    "def countdown(n):\n",
    "    if n <= 0:\n",
    "        print('We have lifr off!')\n",
    "    else:\n",
    "        print(n)\n",
    "        countdown(n-1)\n",
    "countdown(10)"
   ]
  },
  {
   "cell_type": "code",
   "execution_count": 2,
   "id": "unable-tulsa",
   "metadata": {},
   "outputs": [
    {
     "name": "stdout",
     "output_type": "stream",
     "text": [
      "20\n",
      "10.0\n",
      "5.0\n",
      "16.0\n",
      "8.0\n",
      "4.0\n",
      "2.0\n"
     ]
    }
   ],
   "source": [
    "#while loop\n",
    "def collatz(n):\n",
    "    while n != 1:\n",
    "        print(n)\n",
    "        if n%2 == 0:\n",
    "            n = n/2\n",
    "        else:\n",
    "            n = 3*n+1\n",
    "collatz(20)"
   ]
  },
  {
   "cell_type": "code",
   "execution_count": 3,
   "id": "negative-messenger",
   "metadata": {},
   "outputs": [
    {
     "name": "stdout",
     "output_type": "stream",
     "text": [
      "3.5\n",
      "2.321428571428571\n",
      "2.022252747252747\n",
      "2.000122433944265\n",
      "2.0000000037472883\n"
     ]
    }
   ],
   "source": [
    "#exit the loop\n",
    "#break\n",
    "a = 4\n",
    "x = 3.5\n",
    "epsilon = 10**-6\n",
    "while True:\n",
    "    print(x)\n",
    "    y = (x + a/x)/2\n",
    "    if abs(x-y) < epsilon:\n",
    "        break\n",
    "    x=y"
   ]
  },
  {
   "cell_type": "code",
   "execution_count": 4,
   "id": "individual-villa",
   "metadata": {},
   "outputs": [
    {
     "data": {
      "text/plain": [
       "'o'"
      ]
     },
     "execution_count": 4,
     "metadata": {},
     "output_type": "execute_result"
    }
   ],
   "source": [
    "#string\n",
    "animal = 'goat'\n",
    "letter = animal[1]\n",
    "letter"
   ]
  },
  {
   "cell_type": "code",
   "execution_count": 5,
   "id": "choice-safety",
   "metadata": {},
   "outputs": [
    {
     "data": {
      "text/plain": [
       "'t'"
      ]
     },
     "execution_count": 5,
     "metadata": {},
     "output_type": "execute_result"
    }
   ],
   "source": [
    "animal[3]"
   ]
  },
  {
   "cell_type": "code",
   "execution_count": 6,
   "id": "weird-happiness",
   "metadata": {},
   "outputs": [
    {
     "data": {
      "text/plain": [
       "4"
      ]
     },
     "execution_count": 6,
     "metadata": {},
     "output_type": "execute_result"
    }
   ],
   "source": [
    "len(animal)"
   ]
  },
  {
   "cell_type": "code",
   "execution_count": 7,
   "id": "authentic-hurricane",
   "metadata": {},
   "outputs": [
    {
     "data": {
      "text/plain": [
       "'t'"
      ]
     },
     "execution_count": 7,
     "metadata": {},
     "output_type": "execute_result"
    }
   ],
   "source": [
    "#counting from the end\n",
    "animal[-1]"
   ]
  },
  {
   "cell_type": "code",
   "execution_count": 8,
   "id": "published-silver",
   "metadata": {},
   "outputs": [
    {
     "data": {
      "text/plain": [
       "'o'"
      ]
     },
     "execution_count": 8,
     "metadata": {},
     "output_type": "execute_result"
    }
   ],
   "source": [
    "animal[-3]"
   ]
  },
  {
   "cell_type": "code",
   "execution_count": 9,
   "id": "vocational-chair",
   "metadata": {},
   "outputs": [
    {
     "name": "stdout",
     "output_type": "stream",
     "text": [
      "g\n",
      "o\n",
      "a\n",
      "t\n"
     ]
    }
   ],
   "source": [
    "i = 0\n",
    "while i <len(animal):\n",
    "    print(animal[i])\n",
    "    i +=1"
   ]
  },
  {
   "cell_type": "code",
   "execution_count": 10,
   "id": "awful-nicaragua",
   "metadata": {},
   "outputs": [
    {
     "name": "stdout",
     "output_type": "stream",
     "text": [
      "g\n",
      "o\n",
      "a\n",
      "t\n"
     ]
    }
   ],
   "source": [
    "for c in animal:\n",
    "    print(c)"
   ]
  },
  {
   "cell_type": "code",
   "execution_count": 11,
   "id": "encouraging-bryan",
   "metadata": {},
   "outputs": [
    {
     "data": {
      "text/plain": [
       "'And now'"
      ]
     },
     "execution_count": 11,
     "metadata": {},
     "output_type": "execute_result"
    }
   ],
   "source": [
    "#range\n",
    "#picks out the m-th character to the n-th character including m but not n\n",
    "s = 'And now for something completely different'\n",
    "s[0:7]"
   ]
  },
  {
   "cell_type": "code",
   "execution_count": 12,
   "id": "entertaining-disease",
   "metadata": {},
   "outputs": [
    {
     "data": {
      "text/plain": [
       "'something'"
      ]
     },
     "execution_count": 12,
     "metadata": {},
     "output_type": "execute_result"
    }
   ],
   "source": [
    "s[12:21]"
   ]
  },
  {
   "cell_type": "code",
   "execution_count": 13,
   "id": "difficult-application",
   "metadata": {},
   "outputs": [
    {
     "data": {
      "text/plain": [
       "'something '"
      ]
     },
     "execution_count": 13,
     "metadata": {},
     "output_type": "execute_result"
    }
   ],
   "source": [
    "s[12:22]"
   ]
  },
  {
   "cell_type": "code",
   "execution_count": 14,
   "id": "curious-consciousness",
   "metadata": {},
   "outputs": [
    {
     "data": {
      "text/plain": [
       "''"
      ]
     },
     "execution_count": 14,
     "metadata": {},
     "output_type": "execute_result"
    }
   ],
   "source": [
    "s[12:12]"
   ]
  },
  {
   "cell_type": "code",
   "execution_count": 15,
   "id": "prostate-explorer",
   "metadata": {},
   "outputs": [
    {
     "data": {
      "text/plain": [
       "'And now for something completely different'"
      ]
     },
     "execution_count": 15,
     "metadata": {},
     "output_type": "execute_result"
    }
   ],
   "source": [
    "s[:]"
   ]
  },
  {
   "cell_type": "code",
   "execution_count": 16,
   "id": "executed-cowboy",
   "metadata": {},
   "outputs": [
    {
     "data": {
      "text/plain": [
       "'And now for something'"
      ]
     },
     "execution_count": 16,
     "metadata": {},
     "output_type": "execute_result"
    }
   ],
   "source": [
    "s[:21]"
   ]
  },
  {
   "cell_type": "code",
   "execution_count": 17,
   "id": "meaningful-revision",
   "metadata": {},
   "outputs": [
    {
     "data": {
      "text/plain": [
       "'completely different'"
      ]
     },
     "execution_count": 17,
     "metadata": {},
     "output_type": "execute_result"
    }
   ],
   "source": [
    "s[22:]"
   ]
  },
  {
   "cell_type": "code",
   "execution_count": 18,
   "id": "impressed-delight",
   "metadata": {},
   "outputs": [
    {
     "data": {
      "text/plain": [
       "'completely'"
      ]
     },
     "execution_count": 18,
     "metadata": {},
     "output_type": "execute_result"
    }
   ],
   "source": [
    "s[-20:-10]"
   ]
  },
  {
   "cell_type": "code",
   "execution_count": 20,
   "id": "heard-batch",
   "metadata": {},
   "outputs": [
    {
     "ename": "TypeError",
     "evalue": "'str' object does not support item assignment",
     "output_type": "error",
     "traceback": [
      "\u001b[0;31m---------------------------------------------------------------------------\u001b[0m",
      "\u001b[0;31mTypeError\u001b[0m                                 Traceback (most recent call last)",
      "\u001b[0;32m<ipython-input-20-60100df1cc96>\u001b[0m in \u001b[0;36m<module>\u001b[0;34m\u001b[0m\n\u001b[1;32m      1\u001b[0m \u001b[0;31m#immutability\u001b[0m\u001b[0;34m\u001b[0m\u001b[0;34m\u001b[0m\u001b[0;34m\u001b[0m\u001b[0m\n\u001b[1;32m      2\u001b[0m \u001b[0mmystr\u001b[0m \u001b[0;34m=\u001b[0m \u001b[0;34m'goat'\u001b[0m\u001b[0;34m\u001b[0m\u001b[0;34m\u001b[0m\u001b[0m\n\u001b[0;32m----> 3\u001b[0;31m \u001b[0mmystr\u001b[0m\u001b[0;34m[\u001b[0m\u001b[0;36m0\u001b[0m\u001b[0;34m]\u001b[0m \u001b[0;34m=\u001b[0m \u001b[0;34m'b'\u001b[0m\u001b[0;34m\u001b[0m\u001b[0;34m\u001b[0m\u001b[0m\n\u001b[0m",
      "\u001b[0;31mTypeError\u001b[0m: 'str' object does not support item assignment"
     ]
    }
   ],
   "source": [
    "#immutability\n",
    "mystr = 'goat'\n",
    "mystr[0] = 'b'"
   ]
  },
  {
   "cell_type": "code",
   "execution_count": 24,
   "id": "bulgarian-stone",
   "metadata": {},
   "outputs": [
    {
     "data": {
      "text/plain": [
       "'boat'"
      ]
     },
     "execution_count": 24,
     "metadata": {},
     "output_type": "execute_result"
    }
   ],
   "source": [
    "mystr = 'goat'\n",
    "mystr = 'b' + mystr[1:]\n",
    "mystr"
   ]
  },
  {
   "cell_type": "code",
   "execution_count": 25,
   "id": "demanding-worcester",
   "metadata": {},
   "outputs": [],
   "source": [
    "#string tracersal\n",
    "def count(word, letter):\n",
    "    cnt = 0\n",
    "    for c in word:\n",
    "        if c == letter:\n",
    "            cnt += 1\n",
    "    return cnt"
   ]
  },
  {
   "cell_type": "code",
   "execution_count": 26,
   "id": "laden-niger",
   "metadata": {},
   "outputs": [
    {
     "data": {
      "text/plain": [
       "3"
      ]
     },
     "execution_count": 26,
     "metadata": {},
     "output_type": "execute_result"
    }
   ],
   "source": [
    "count('banana','a')"
   ]
  },
  {
   "cell_type": "code",
   "execution_count": 21,
   "id": "competent-right",
   "metadata": {},
   "outputs": [
    {
     "ename": "NameError",
     "evalue": "name 'count' is not defined",
     "output_type": "error",
     "traceback": [
      "\u001b[0;31m---------------------------------------------------------------------------\u001b[0m",
      "\u001b[0;31mNameError\u001b[0m                                 Traceback (most recent call last)",
      "\u001b[0;32m<ipython-input-21-88a5471030fb>\u001b[0m in \u001b[0;36m<module>\u001b[0;34m\u001b[0m\n\u001b[0;32m----> 1\u001b[0;31m \u001b[0mcount\u001b[0m\u001b[0;34m(\u001b[0m\u001b[0;34m'banana'\u001b[0m\u001b[0;34m,\u001b[0m\u001b[0;34m'z'\u001b[0m\u001b[0;34m)\u001b[0m\u001b[0;34m\u001b[0m\u001b[0;34m\u001b[0m\u001b[0m\n\u001b[0m",
      "\u001b[0;31mNameError\u001b[0m: name 'count' is not defined"
     ]
    }
   ],
   "source": [
    "count('banana','z')"
   ]
  },
  {
   "cell_type": "code",
   "execution_count": 27,
   "id": "artistic-cheese",
   "metadata": {},
   "outputs": [
    {
     "data": {
      "text/plain": [
       "'GOAT'"
      ]
     },
     "execution_count": 27,
     "metadata": {},
     "output_type": "execute_result"
    }
   ],
   "source": [
    "#methods\n",
    "mystr = 'goat'\n",
    "mystr.upper()"
   ]
  },
  {
   "cell_type": "code",
   "execution_count": 28,
   "id": "entertaining-string",
   "metadata": {},
   "outputs": [
    {
     "data": {
      "text/plain": [
       "'abcdefg'"
      ]
     },
     "execution_count": 28,
     "metadata": {},
     "output_type": "execute_result"
    }
   ],
   "source": [
    "'aBCDefG'.lower()"
   ]
  },
  {
   "cell_type": "code",
   "execution_count": 29,
   "id": "periodic-highland",
   "metadata": {},
   "outputs": [
    {
     "data": {
      "text/plain": [
       "2"
      ]
     },
     "execution_count": 29,
     "metadata": {},
     "output_type": "execute_result"
    }
   ],
   "source": [
    "#finds the index of the first location of the string sub in str\n",
    "'banana'.find('na')"
   ]
  },
  {
   "cell_type": "code",
   "execution_count": 30,
   "id": "colonial-study",
   "metadata": {},
   "outputs": [
    {
     "data": {
      "text/plain": [
       "True"
      ]
     },
     "execution_count": 30,
     "metadata": {},
     "output_type": "execute_result"
    }
   ],
   "source": [
    "'goat'.startswith('go')"
   ]
  },
  {
   "cell_type": "code",
   "execution_count": 31,
   "id": "injured-practitioner",
   "metadata": {},
   "outputs": [
    {
     "data": {
      "text/plain": [
       "1"
      ]
     },
     "execution_count": 31,
     "metadata": {},
     "output_type": "execute_result"
    }
   ],
   "source": [
    "'banana'.find('a')"
   ]
  },
  {
   "cell_type": "code",
   "execution_count": 32,
   "id": "constant-script",
   "metadata": {},
   "outputs": [
    {
     "data": {
      "text/plain": [
       "3"
      ]
     },
     "execution_count": 32,
     "metadata": {},
     "output_type": "execute_result"
    }
   ],
   "source": [
    "#find a starts from position 3 of 'banana'\n",
    "'banana'.find('a',3)"
   ]
  },
  {
   "cell_type": "code",
   "execution_count": 33,
   "id": "protected-colombia",
   "metadata": {},
   "outputs": [
    {
     "data": {
      "text/plain": [
       "4"
      ]
     },
     "execution_count": 33,
     "metadata": {},
     "output_type": "execute_result"
    }
   ],
   "source": [
    "'banana'.find('na',3)"
   ]
  },
  {
   "cell_type": "code",
   "execution_count": 34,
   "id": "talented-sculpture",
   "metadata": {},
   "outputs": [
    {
     "data": {
      "text/plain": [
       "-1"
      ]
     },
     "execution_count": 34,
     "metadata": {},
     "output_type": "execute_result"
    }
   ],
   "source": [
    "#not to search pass position 4, if dont find, returns -1\n",
    "'banana'.find('na',3, 4)"
   ]
  },
  {
   "cell_type": "code",
   "execution_count": 35,
   "id": "scenic-durham",
   "metadata": {},
   "outputs": [
    {
     "data": {
      "text/plain": [
       "4"
      ]
     },
     "execution_count": 35,
     "metadata": {},
     "output_type": "execute_result"
    }
   ],
   "source": [
    "'banana'.find('na',3, 6)"
   ]
  },
  {
   "cell_type": "code",
   "execution_count": 36,
   "id": "beautiful-contrary",
   "metadata": {},
   "outputs": [
    {
     "data": {
      "text/plain": [
       "True"
      ]
     },
     "execution_count": 36,
     "metadata": {},
     "output_type": "execute_result"
    }
   ],
   "source": [
    "'a' in 'banana'"
   ]
  },
  {
   "cell_type": "code",
   "execution_count": 37,
   "id": "portuguese-threat",
   "metadata": {},
   "outputs": [
    {
     "data": {
      "text/plain": [
       "False"
      ]
     },
     "execution_count": 37,
     "metadata": {},
     "output_type": "execute_result"
    }
   ],
   "source": [
    "'z' in 'banana'"
   ]
  },
  {
   "cell_type": "code",
   "execution_count": 38,
   "id": "harmful-lawrence",
   "metadata": {},
   "outputs": [
    {
     "data": {
      "text/plain": [
       "True"
      ]
     },
     "execution_count": 38,
     "metadata": {},
     "output_type": "execute_result"
    }
   ],
   "source": [
    "'cat' < 'dog'"
   ]
  },
  {
   "cell_type": "code",
   "execution_count": 39,
   "id": "pretty-house",
   "metadata": {},
   "outputs": [
    {
     "data": {
      "text/plain": [
       "False"
      ]
     },
     "execution_count": 39,
     "metadata": {},
     "output_type": "execute_result"
    }
   ],
   "source": [
    "'cat' >= 'dog'"
   ]
  },
  {
   "cell_type": "code",
   "execution_count": 40,
   "id": "differential-subcommittee",
   "metadata": {},
   "outputs": [
    {
     "data": {
      "text/plain": [
       "True"
      ]
     },
     "execution_count": 40,
     "metadata": {},
     "output_type": "execute_result"
    }
   ],
   "source": [
    "'dok' >= 'dog'"
   ]
  },
  {
   "cell_type": "code",
   "execution_count": 41,
   "id": "periodic-casino",
   "metadata": {},
   "outputs": [
    {
     "data": {
      "text/plain": [
       "True"
      ]
     },
     "execution_count": 41,
     "metadata": {},
     "output_type": "execute_result"
    }
   ],
   "source": [
    "'' < 'goat'"
   ]
  },
  {
   "cell_type": "code",
   "execution_count": 42,
   "id": "backed-sugar",
   "metadata": {},
   "outputs": [
    {
     "data": {
      "text/plain": [
       "True"
      ]
     },
     "execution_count": 42,
     "metadata": {},
     "output_type": "execute_result"
    }
   ],
   "source": [
    "'1' < 'a'"
   ]
  },
  {
   "cell_type": "code",
   "execution_count": 43,
   "id": "driven-pierre",
   "metadata": {},
   "outputs": [
    {
     "data": {
      "text/plain": [
       "False"
      ]
     },
     "execution_count": 43,
     "metadata": {},
     "output_type": "execute_result"
    }
   ],
   "source": [
    "'Cat' == 'cat'"
   ]
  },
  {
   "cell_type": "code",
   "execution_count": 44,
   "id": "provincial-refrigerator",
   "metadata": {},
   "outputs": [
    {
     "data": {
      "text/plain": [
       "True"
      ]
     },
     "execution_count": 44,
     "metadata": {},
     "output_type": "execute_result"
    }
   ],
   "source": [
    "'cat' > 'Cat'#lower case comes after upper case"
   ]
  },
  {
   "cell_type": "code",
   "execution_count": 45,
   "id": "usual-salmon",
   "metadata": {},
   "outputs": [],
   "source": [
    "#list\n",
    "fruits = ['apple', 'orange', 'banana', 'kiwi']\n",
    "mixed = ['one', 2, 3.0]\n",
    "pythagoras = [[3,4,5], [5,12,13], [8,15,17]]"
   ]
  },
  {
   "cell_type": "code",
   "execution_count": 46,
   "id": "different-stanford",
   "metadata": {},
   "outputs": [
    {
     "data": {
      "text/plain": [
       "[]"
      ]
     },
     "execution_count": 46,
     "metadata": {},
     "output_type": "execute_result"
    }
   ],
   "source": [
    "x = []\n",
    "x"
   ]
  },
  {
   "cell_type": "code",
   "execution_count": 47,
   "id": "surrounded-sacramento",
   "metadata": {},
   "outputs": [
    {
     "data": {
      "text/plain": [
       "[]"
      ]
     },
     "execution_count": 47,
     "metadata": {},
     "output_type": "execute_result"
    }
   ],
   "source": [
    "x = list()\n",
    "x"
   ]
  },
  {
   "cell_type": "code",
   "execution_count": 48,
   "id": "genetic-blink",
   "metadata": {},
   "outputs": [
    {
     "data": {
      "text/plain": [
       "['apple', 'orange', 'banana', 'kiwi']"
      ]
     },
     "execution_count": 48,
     "metadata": {},
     "output_type": "execute_result"
    }
   ],
   "source": [
    "#list can be changed\n",
    "fruits"
   ]
  },
  {
   "cell_type": "code",
   "execution_count": 49,
   "id": "raised-click",
   "metadata": {},
   "outputs": [
    {
     "data": {
      "text/plain": [
       "['apple', 'orange', 'banana', 'mango']"
      ]
     },
     "execution_count": 49,
     "metadata": {},
     "output_type": "execute_result"
    }
   ],
   "source": [
    "fruits[-1] = 'mango'\n",
    "fruits"
   ]
  },
  {
   "cell_type": "code",
   "execution_count": 50,
   "id": "contemporary-testing",
   "metadata": {},
   "outputs": [
    {
     "data": {
      "text/plain": [
       "4"
      ]
     },
     "execution_count": 50,
     "metadata": {},
     "output_type": "execute_result"
    }
   ],
   "source": [
    "len(fruits)"
   ]
  },
  {
   "cell_type": "code",
   "execution_count": 51,
   "id": "polyphonic-snapshot",
   "metadata": {},
   "outputs": [
    {
     "data": {
      "text/plain": [
       "True"
      ]
     },
     "execution_count": 51,
     "metadata": {},
     "output_type": "execute_result"
    }
   ],
   "source": [
    "'apple' in fruits"
   ]
  },
  {
   "cell_type": "code",
   "execution_count": 52,
   "id": "characteristic-jacksonville",
   "metadata": {},
   "outputs": [
    {
     "data": {
      "text/plain": [
       "False"
      ]
     },
     "execution_count": 52,
     "metadata": {},
     "output_type": "execute_result"
    }
   ],
   "source": [
    "'grage' in fruits"
   ]
  },
  {
   "cell_type": "code",
   "execution_count": 53,
   "id": "august-amendment",
   "metadata": {},
   "outputs": [
    {
     "data": {
      "text/plain": [
       "False"
      ]
     },
     "execution_count": 53,
     "metadata": {},
     "output_type": "execute_result"
    }
   ],
   "source": [
    "['apple', 'orange'] in fruits"
   ]
  },
  {
   "cell_type": "code",
   "execution_count": 54,
   "id": "delayed-affairs",
   "metadata": {},
   "outputs": [
    {
     "data": {
      "text/plain": [
       "True"
      ]
     },
     "execution_count": 54,
     "metadata": {},
     "output_type": "execute_result"
    }
   ],
   "source": [
    "[3,4,5] in pythagoras"
   ]
  },
  {
   "cell_type": "code",
   "execution_count": 55,
   "id": "focused-symbol",
   "metadata": {},
   "outputs": [
    {
     "name": "stdout",
     "output_type": "stream",
     "text": [
      "apple\n",
      "orange\n",
      "banana\n",
      "mango\n"
     ]
    }
   ],
   "source": [
    "#list travelsal\n",
    "for f in fruits:\n",
    "    print(f)"
   ]
  },
  {
   "cell_type": "code",
   "execution_count": 56,
   "id": "resident-spending",
   "metadata": {},
   "outputs": [
    {
     "name": "stdout",
     "output_type": "stream",
     "text": [
      "1\n",
      "2\n",
      "4\n",
      "8\n",
      "16\n"
     ]
    }
   ],
   "source": [
    "numbers = range(5)\n",
    "for n in numbers:\n",
    "    print(2**n)"
   ]
  },
  {
   "cell_type": "code",
   "execution_count": 57,
   "id": "declared-wings",
   "metadata": {},
   "outputs": [
    {
     "name": "stdout",
     "output_type": "stream",
     "text": [
      "APPLE\n",
      "ORANGE\n",
      "BANANA\n",
      "MANGO\n"
     ]
    }
   ],
   "source": [
    "for i in range(len(fruits)):\n",
    "    fruits[i] = fruits[i].upper()\n",
    "\n",
    "for f in fruits:\n",
    "    print(f)"
   ]
  },
  {
   "cell_type": "code",
   "execution_count": 58,
   "id": "military-thickness",
   "metadata": {},
   "outputs": [
    {
     "name": "stdout",
     "output_type": "stream",
     "text": [
      "APPLE\n",
      "ORANGE\n",
      "BANANA\n",
      "MANGO\n"
     ]
    }
   ],
   "source": [
    "for i in range(len(fruits)):\n",
    "    fruits[i] = fruits[i].upper()\n",
    "    print(fruits[i])"
   ]
  },
  {
   "cell_type": "code",
   "execution_count": 59,
   "id": "thick-leather",
   "metadata": {},
   "outputs": [
    {
     "data": {
      "text/plain": [
       "[0, 1, 1, 2, 3, 5, 8, 2, 3, 5, 7, 11, 13]"
      ]
     },
     "execution_count": 59,
     "metadata": {},
     "output_type": "execute_result"
    }
   ],
   "source": [
    "#List: concatenation\n",
    "fibonacci = [0,1,1,2,3,5,8]\n",
    "primes = [2,3,5,7,11,13]\n",
    "fibonacci + primes"
   ]
  },
  {
   "cell_type": "code",
   "execution_count": 60,
   "id": "waiting-cleaners",
   "metadata": {},
   "outputs": [
    {
     "data": {
      "text/plain": [
       "['cat', 'dog', 'cat', 'dog', 'cat', 'dog']"
      ]
     },
     "execution_count": 60,
     "metadata": {},
     "output_type": "execute_result"
    }
   ],
   "source": [
    "3*['cat','dog']"
   ]
  },
  {
   "cell_type": "code",
   "execution_count": 61,
   "id": "coordinated-clause",
   "metadata": {},
   "outputs": [
    {
     "data": {
      "text/plain": [
       "[1, 2]"
      ]
     },
     "execution_count": 61,
     "metadata": {},
     "output_type": "execute_result"
    }
   ],
   "source": [
    "A = [[1,2],[3,4],[5,6]]\n",
    "A[0]"
   ]
  },
  {
   "cell_type": "code",
   "execution_count": 62,
   "id": "offshore-diary",
   "metadata": {},
   "outputs": [
    {
     "data": {
      "text/plain": [
       "1"
      ]
     },
     "execution_count": 62,
     "metadata": {},
     "output_type": "execute_result"
    }
   ],
   "source": [
    "A[0][0]"
   ]
  },
  {
   "cell_type": "code",
   "execution_count": 63,
   "id": "noted-level",
   "metadata": {},
   "outputs": [
    {
     "data": {
      "text/plain": [
       "['dog', 'goat']"
      ]
     },
     "execution_count": 63,
     "metadata": {},
     "output_type": "execute_result"
    }
   ],
   "source": [
    "#List: slices\n",
    "animals = ['cat', 'dog', 'goat', 'bird', 'llama']\n",
    "animals[1:3]"
   ]
  },
  {
   "cell_type": "code",
   "execution_count": 64,
   "id": "considerable-dinner",
   "metadata": {},
   "outputs": [
    {
     "data": {
      "text/plain": [
       "['bird', 'llama']"
      ]
     },
     "execution_count": 64,
     "metadata": {},
     "output_type": "execute_result"
    }
   ],
   "source": [
    "animals[3:]"
   ]
  },
  {
   "cell_type": "code",
   "execution_count": 65,
   "id": "dense-tablet",
   "metadata": {},
   "outputs": [
    {
     "data": {
      "text/plain": [
       "'\\nlist.append(x): adds x to the end of the list\\nlist.extend(L2): adds list L2 to the end of another list\\nlist.sort(): sort the elements of the list\\nlist.remove(x): removes from the list the first element equal to x\\nlist.pop(): removes the last element of the list and returns that element\\n'"
      ]
     },
     "execution_count": 65,
     "metadata": {},
     "output_type": "execute_result"
    }
   ],
   "source": [
    "'''\n",
    "list.append(x): adds x to the end of the list\n",
    "list.extend(L2): adds list L2 to the end of another list\n",
    "list.sort(): sort the elements of the list\n",
    "list.remove(x): removes from the list the first element equal to x\n",
    "list.pop(): removes the last element of the list and returns that element\n",
    "'''"
   ]
  },
  {
   "cell_type": "code",
   "execution_count": 66,
   "id": "identical-count",
   "metadata": {},
   "outputs": [
    {
     "data": {
      "text/plain": [
       "['cat', 'dog', 'goat', 'bird', 'llama', 'unicorn']"
      ]
     },
     "execution_count": 66,
     "metadata": {},
     "output_type": "execute_result"
    }
   ],
   "source": [
    "animals.append('unicorn')\n",
    "animals"
   ]
  },
  {
   "cell_type": "code",
   "execution_count": 67,
   "id": "unauthorized-syndicate",
   "metadata": {},
   "outputs": [
    {
     "data": {
      "text/plain": [
       "[0, 1, 1, 2, 3, 5, 8, [13, 21]]"
      ]
     },
     "execution_count": 67,
     "metadata": {},
     "output_type": "execute_result"
    }
   ],
   "source": [
    "fibonacci.append([13,21])\n",
    "fibonacci"
   ]
  },
  {
   "cell_type": "code",
   "execution_count": 68,
   "id": "adaptive-flavor",
   "metadata": {},
   "outputs": [
    {
     "data": {
      "text/plain": [
       "[0, 1, 1, 2, 3, 5, 8, [13, 21], 34, 55]"
      ]
     },
     "execution_count": 68,
     "metadata": {},
     "output_type": "execute_result"
    }
   ],
   "source": [
    "fibonacci.extend([34,55])\n",
    "fibonacci"
   ]
  },
  {
   "cell_type": "code",
   "execution_count": 69,
   "id": "vocal-facing",
   "metadata": {},
   "outputs": [
    {
     "ename": "TypeError",
     "evalue": "list.append() takes exactly one argument (2 given)",
     "output_type": "error",
     "traceback": [
      "\u001b[0;31m---------------------------------------------------------------------------\u001b[0m",
      "\u001b[0;31mTypeError\u001b[0m                                 Traceback (most recent call last)",
      "\u001b[0;32m<ipython-input-69-f589873108db>\u001b[0m in \u001b[0;36m<module>\u001b[0;34m\u001b[0m\n\u001b[0;32m----> 1\u001b[0;31m \u001b[0mfibonacci\u001b[0m\u001b[0;34m.\u001b[0m\u001b[0mappend\u001b[0m\u001b[0;34m(\u001b[0m\u001b[0;36m13\u001b[0m\u001b[0;34m,\u001b[0m\u001b[0;36m21\u001b[0m\u001b[0;34m)\u001b[0m\u001b[0;34m\u001b[0m\u001b[0;34m\u001b[0m\u001b[0m\n\u001b[0m",
      "\u001b[0;31mTypeError\u001b[0m: list.append() takes exactly one argument (2 given)"
     ]
    }
   ],
   "source": [
    "fibonacci.append(13,21)"
   ]
  },
  {
   "cell_type": "code",
   "execution_count": 70,
   "id": "portuguese-variable",
   "metadata": {},
   "outputs": [
    {
     "data": {
      "text/plain": [
       "['bird', 'cat', 'dog', 'goat', 'llama', 'unicorn']"
      ]
     },
     "execution_count": 70,
     "metadata": {},
     "output_type": "execute_result"
    }
   ],
   "source": [
    "animals.sort()\n",
    "animals"
   ]
  },
  {
   "cell_type": "code",
   "execution_count": 74,
   "id": "proper-development",
   "metadata": {},
   "outputs": [
    {
     "ename": "TypeError",
     "evalue": "'<' not supported between instances of 'str' and 'int'",
     "output_type": "error",
     "traceback": [
      "\u001b[0;31m---------------------------------------------------------------------------\u001b[0m",
      "\u001b[0;31mTypeError\u001b[0m                                 Traceback (most recent call last)",
      "\u001b[0;32m<ipython-input-74-95f90338e37d>\u001b[0m in \u001b[0;36m<module>\u001b[0;34m\u001b[0m\n\u001b[1;32m      1\u001b[0m \u001b[0mmixed\u001b[0m \u001b[0;34m=\u001b[0m \u001b[0;34m[\u001b[0m\u001b[0;36m1\u001b[0m\u001b[0;34m,\u001b[0m \u001b[0;34m'two'\u001b[0m\u001b[0;34m,\u001b[0m \u001b[0;36m3.0\u001b[0m\u001b[0;34m,\u001b[0m \u001b[0;34m[\u001b[0m\u001b[0;36m4\u001b[0m\u001b[0;34m,\u001b[0m\u001b[0;36m5\u001b[0m\u001b[0;34m]\u001b[0m\u001b[0;34m]\u001b[0m\u001b[0;34m\u001b[0m\u001b[0;34m\u001b[0m\u001b[0m\n\u001b[0;32m----> 2\u001b[0;31m \u001b[0mmixed\u001b[0m\u001b[0;34m.\u001b[0m\u001b[0msort\u001b[0m\u001b[0;34m(\u001b[0m\u001b[0;34m)\u001b[0m\u001b[0;34m\u001b[0m\u001b[0;34m\u001b[0m\u001b[0m\n\u001b[0m\u001b[1;32m      3\u001b[0m \u001b[0mmixed\u001b[0m\u001b[0;34m\u001b[0m\u001b[0;34m\u001b[0m\u001b[0m\n",
      "\u001b[0;31mTypeError\u001b[0m: '<' not supported between instances of 'str' and 'int'"
     ]
    }
   ],
   "source": [
    "mixed = [1, 'two', 3.0, [4,5]]\n",
    "mixed.sort()\n",
    "mixed"
   ]
  },
  {
   "cell_type": "code",
   "execution_count": 76,
   "id": "broadband-costs",
   "metadata": {},
   "outputs": [
    {
     "data": {
      "text/plain": [
       "['bird', 'cat', 'dog', 'goat']"
      ]
     },
     "execution_count": 76,
     "metadata": {},
     "output_type": "execute_result"
    }
   ],
   "source": [
    "#sorted gives back a new string\n",
    "animals = ['cat', 'dog', 'goat','bird']\n",
    "sorted_animals = sorted(animals)\n",
    "sorted_animals"
   ]
  },
  {
   "cell_type": "code",
   "execution_count": 77,
   "id": "meaningful-toronto",
   "metadata": {},
   "outputs": [
    {
     "data": {
      "text/plain": [
       "['cat', 'dog', 'goat', 'bird']"
      ]
     },
     "execution_count": 77,
     "metadata": {},
     "output_type": "execute_result"
    }
   ],
   "source": [
    "animals"
   ]
  },
  {
   "cell_type": "code",
   "execution_count": 78,
   "id": "single-reverse",
   "metadata": {},
   "outputs": [
    {
     "data": {
      "text/plain": [
       "'bird'"
      ]
     },
     "execution_count": 78,
     "metadata": {},
     "output_type": "execute_result"
    }
   ],
   "source": [
    "#pop\n",
    "animals.pop()"
   ]
  },
  {
   "cell_type": "code",
   "execution_count": 79,
   "id": "middle-duration",
   "metadata": {},
   "outputs": [
    {
     "data": {
      "text/plain": [
       "['cat', 'dog', 'goat']"
      ]
     },
     "execution_count": 79,
     "metadata": {},
     "output_type": "execute_result"
    }
   ],
   "source": [
    "animals"
   ]
  },
  {
   "cell_type": "code",
   "execution_count": 80,
   "id": "natural-granny",
   "metadata": {},
   "outputs": [
    {
     "data": {
      "text/plain": [
       "2"
      ]
     },
     "execution_count": 80,
     "metadata": {},
     "output_type": "execute_result"
    }
   ],
   "source": [
    "fibonacci = [0,1,1,2,3,5,8]\n",
    "fibonacci.pop(3)"
   ]
  },
  {
   "cell_type": "code",
   "execution_count": 81,
   "id": "funky-slovenia",
   "metadata": {},
   "outputs": [
    {
     "data": {
      "text/plain": [
       "[0, 1, 1, 3, 5, 8]"
      ]
     },
     "execution_count": 81,
     "metadata": {},
     "output_type": "execute_result"
    }
   ],
   "source": [
    "fibonacci"
   ]
  },
  {
   "cell_type": "code",
   "execution_count": 82,
   "id": "latin-point",
   "metadata": {},
   "outputs": [
    {
     "data": {
      "text/plain": [
       "['dog', 'goat', 'bird']"
      ]
     },
     "execution_count": 82,
     "metadata": {},
     "output_type": "execute_result"
    }
   ],
   "source": [
    "#remove\n",
    "animals = ['cat', 'dog', 'goat','bird']\n",
    "animals.remove('cat')\n",
    "animals"
   ]
  },
  {
   "cell_type": "code",
   "execution_count": 83,
   "id": "detailed-knife",
   "metadata": {},
   "outputs": [
    {
     "data": {
      "text/plain": [
       "[0, 1, 3, 1, 2, 3, 2, 3]"
      ]
     },
     "execution_count": 83,
     "metadata": {},
     "output_type": "execute_result"
    }
   ],
   "source": [
    "numbers = [0,1,2,3,1,2,3,2,3]\n",
    "numbers.remove(2)\n",
    "numbers"
   ]
  },
  {
   "cell_type": "code",
   "execution_count": 84,
   "id": "tropical-desktop",
   "metadata": {},
   "outputs": [
    {
     "ename": "ValueError",
     "evalue": "list.remove(x): x not in list",
     "output_type": "error",
     "traceback": [
      "\u001b[0;31m---------------------------------------------------------------------------\u001b[0m",
      "\u001b[0;31mValueError\u001b[0m                                Traceback (most recent call last)",
      "\u001b[0;32m<ipython-input-84-72d4049ce588>\u001b[0m in \u001b[0;36m<module>\u001b[0;34m\u001b[0m\n\u001b[0;32m----> 1\u001b[0;31m \u001b[0mnumbers\u001b[0m\u001b[0;34m.\u001b[0m\u001b[0mremove\u001b[0m\u001b[0;34m(\u001b[0m\u001b[0;36m4\u001b[0m\u001b[0;34m)\u001b[0m\u001b[0;34m\u001b[0m\u001b[0;34m\u001b[0m\u001b[0m\n\u001b[0m",
      "\u001b[0;31mValueError\u001b[0m: list.remove(x): x not in list"
     ]
    }
   ],
   "source": [
    "numbers.remove(4)\n",
    "#the list numbers does not contain 4"
   ]
  },
  {
   "cell_type": "code",
   "execution_count": 85,
   "id": "interracial-brown",
   "metadata": {},
   "outputs": [
    {
     "data": {
      "text/plain": [
       "[0, 1, 4, 9, 16, 25, 36, 49, 64, 81]"
      ]
     },
     "execution_count": 85,
     "metadata": {},
     "output_type": "execute_result"
    }
   ],
   "source": [
    "def square_all(t):\n",
    "    res = []\n",
    "    for elmt in t:\n",
    "        res.append(elmt**2)\n",
    "    return res\n",
    "\n",
    "square_all(range(10))"
   ]
  },
  {
   "cell_type": "code",
   "execution_count": 86,
   "id": "distinct-algorithm",
   "metadata": {},
   "outputs": [
    {
     "data": {
      "text/plain": [
       "[0, 1, 1, 4, 9, 25, 64, 169, 441]"
      ]
     },
     "execution_count": 86,
     "metadata": {},
     "output_type": "execute_result"
    }
   ],
   "source": [
    "fibonacci = [0,1,1,2,3,5,8,13,21]\n",
    "square_all(fibonacci)"
   ]
  },
  {
   "cell_type": "code",
   "execution_count": 87,
   "id": "balanced-focus",
   "metadata": {},
   "outputs": [
    {
     "data": {
      "text/plain": [
       "[0, 1, 1, 2, 3, 5, 8, 13, 21]"
      ]
     },
     "execution_count": 87,
     "metadata": {},
     "output_type": "execute_result"
    }
   ],
   "source": [
    "fibonacci"
   ]
  },
  {
   "cell_type": "code",
   "execution_count": 88,
   "id": "million-investigator",
   "metadata": {},
   "outputs": [
    {
     "data": {
      "text/plain": [
       "[0, 1, 4, 9, 16, 25, 36, 49, 64, 81]"
      ]
     },
     "execution_count": 88,
     "metadata": {},
     "output_type": "execute_result"
    }
   ],
   "source": [
    "#Map operation\n",
    "zero2nine = range(10)\n",
    "[x**2 for x in zero2nine]"
   ]
  },
  {
   "cell_type": "code",
   "execution_count": 89,
   "id": "bibliographic-spine",
   "metadata": {},
   "outputs": [
    {
     "data": {
      "text/plain": [
       "['CAT', 'DOG', 'GOAT', 'BIRD']"
      ]
     },
     "execution_count": 89,
     "metadata": {},
     "output_type": "execute_result"
    }
   ],
   "source": [
    "animals = ['cat','dog','goat','bird']\n",
    "[s.upper() for s in animals]"
   ]
  },
  {
   "cell_type": "code",
   "execution_count": 90,
   "id": "civil-affair",
   "metadata": {},
   "outputs": [
    {
     "data": {
      "text/plain": [
       "[1, 3, 5, 7, 9]"
      ]
     },
     "execution_count": 90,
     "metadata": {},
     "output_type": "execute_result"
    }
   ],
   "source": [
    "#filter, \n",
    "def remove_even(t):\n",
    "    res = []\n",
    "    for elmt in t:\n",
    "        if elmt%2 ==0:\n",
    "            continue\n",
    "        else:\n",
    "            res.append(elmt)\n",
    "    return res\n",
    "\n",
    "remove_even(range(10))"
   ]
  },
  {
   "cell_type": "code",
   "execution_count": 91,
   "id": "vulnerable-consortium",
   "metadata": {},
   "outputs": [
    {
     "data": {
      "text/plain": [
       "[1, 1, 3, 5, 13, 21]"
      ]
     },
     "execution_count": 91,
     "metadata": {},
     "output_type": "execute_result"
    }
   ],
   "source": [
    "remove_even(fibonacci)"
   ]
  },
  {
   "cell_type": "code",
   "execution_count": 92,
   "id": "controversial-batch",
   "metadata": {},
   "outputs": [
    {
     "data": {
      "text/plain": [
       "[0, 1, 1, 2, 3, 5, 8, 13, 21]"
      ]
     },
     "execution_count": 92,
     "metadata": {},
     "output_type": "execute_result"
    }
   ],
   "source": [
    "fibonacci"
   ]
  },
  {
   "cell_type": "code",
   "execution_count": 93,
   "id": "solar-exploration",
   "metadata": {},
   "outputs": [
    {
     "data": {
      "text/plain": [
       "[1, 1, 3, 5, 13, 21]"
      ]
     },
     "execution_count": 93,
     "metadata": {},
     "output_type": "execute_result"
    }
   ],
   "source": [
    "#filter, takes a list return subset of the original list\n",
    "fibonacci = [0,1,1,2,3,5,8,13,21]\n",
    "[x for x in fibonacci if x % 2 ==1]\n",
    "# create a new list containing x if x%2 ==1"
   ]
  },
  {
   "cell_type": "code",
   "execution_count": 94,
   "id": "smoking-profile",
   "metadata": {},
   "outputs": [
    {
     "data": {
      "text/plain": [
       "['DOG', 'GOAT']"
      ]
     },
     "execution_count": 94,
     "metadata": {},
     "output_type": "execute_result"
    }
   ],
   "source": [
    "animals = ['cat', 'dog', 'goat','bird']\n",
    "[x.upper() for x in animals if 'o' in x[1]]\n",
    "# create a new list containg x if x contains 'o' in the first position, then upper case x"
   ]
  },
  {
   "cell_type": "code",
   "execution_count": 95,
   "id": "blessed-essex",
   "metadata": {},
   "outputs": [
    {
     "data": {
      "text/plain": [
       "[]"
      ]
     },
     "execution_count": 95,
     "metadata": {},
     "output_type": "execute_result"
    }
   ],
   "source": [
    "[x for s in animals if len(x) == 5]"
   ]
  },
  {
   "cell_type": "code",
   "execution_count": 96,
   "id": "friendly-approach",
   "metadata": {},
   "outputs": [
    {
     "data": {
      "text/plain": [
       "['g', 'o', 'a', 't']"
      ]
     },
     "execution_count": 96,
     "metadata": {},
     "output_type": "execute_result"
    }
   ],
   "source": [
    "#list and strings\n",
    "goatstr = 'goat'\n",
    "goatlist = list(goatstr)\n",
    "goatlist"
   ]
  },
  {
   "cell_type": "code",
   "execution_count": 97,
   "id": "ranking-implement",
   "metadata": {},
   "outputs": [
    {
     "data": {
      "text/plain": [
       "'goat'"
      ]
     },
     "execution_count": 97,
     "metadata": {},
     "output_type": "execute_result"
    }
   ],
   "source": [
    "goatstr"
   ]
  },
  {
   "cell_type": "code",
   "execution_count": 98,
   "id": "extraordinary-display",
   "metadata": {},
   "outputs": [
    {
     "data": {
      "text/plain": [
       "['Die', 'Welt', 'ist', 'alles', 'was', 'der', 'Fall', 'ist.']"
      ]
     },
     "execution_count": 98,
     "metadata": {},
     "output_type": "execute_result"
    }
   ],
   "source": [
    "#split, return a new list of string where you split the ori everytime the specify character occur\n",
    "wittgenstein = 'Die Welt ist alles was der Fall ist.'\n",
    "t = wittgenstein.split(' ')\n",
    "t"
   ]
  },
  {
   "cell_type": "code",
   "execution_count": 103,
   "id": "choice-offering",
   "metadata": {},
   "outputs": [
    {
     "data": {
      "text/plain": [
       "'Welt'"
      ]
     },
     "execution_count": 103,
     "metadata": {},
     "output_type": "execute_result"
    }
   ],
   "source": [
    "t[1]"
   ]
  },
  {
   "cell_type": "code",
   "execution_count": 104,
   "id": "commercial-vision",
   "metadata": {},
   "outputs": [
    {
     "data": {
      "text/plain": [
       "'Die Welt ist alles was der Fall ist.'"
      ]
     },
     "execution_count": 104,
     "metadata": {},
     "output_type": "execute_result"
    }
   ],
   "source": [
    "delim = ' '\n",
    "delim.join(t)"
   ]
  },
  {
   "cell_type": "code",
   "execution_count": 105,
   "id": "becoming-submission",
   "metadata": {},
   "outputs": [],
   "source": [
    "a = 'unicorn'\n",
    "b = 'unicorn'"
   ]
  },
  {
   "cell_type": "code",
   "execution_count": 106,
   "id": "helpful-upgrade",
   "metadata": {},
   "outputs": [
    {
     "data": {
      "text/plain": [
       "True"
      ]
     },
     "execution_count": 106,
     "metadata": {},
     "output_type": "execute_result"
    }
   ],
   "source": [
    "a == b #whether equivalent, pointing to diff things that have the same content"
   ]
  },
  {
   "cell_type": "code",
   "execution_count": 107,
   "id": "respective-electron",
   "metadata": {},
   "outputs": [
    {
     "data": {
      "text/plain": [
       "True"
      ]
     },
     "execution_count": 107,
     "metadata": {},
     "output_type": "execute_result"
    }
   ],
   "source": [
    "a is b #whether identical, pointing to same thing"
   ]
  },
  {
   "cell_type": "code",
   "execution_count": 108,
   "id": "received-mambo",
   "metadata": {},
   "outputs": [
    {
     "data": {
      "text/plain": [
       "True"
      ]
     },
     "execution_count": 108,
     "metadata": {},
     "output_type": "execute_result"
    }
   ],
   "source": [
    "a = [1,2,3]\n",
    "b = [1,2,3]\n",
    "a == b"
   ]
  },
  {
   "cell_type": "code",
   "execution_count": 109,
   "id": "composite-productivity",
   "metadata": {},
   "outputs": [
    {
     "data": {
      "text/plain": [
       "False"
      ]
     },
     "execution_count": 109,
     "metadata": {},
     "output_type": "execute_result"
    }
   ],
   "source": [
    "a is b\n",
    "#string is immuatble, but not list"
   ]
  },
  {
   "cell_type": "code",
   "execution_count": 112,
   "id": "acceptable-depression",
   "metadata": {},
   "outputs": [
    {
     "data": {
      "text/plain": [
       "True"
      ]
     },
     "execution_count": 112,
     "metadata": {},
     "output_type": "execute_result"
    }
   ],
   "source": [
    "a = [1,2,3]\n",
    "b = a\n",
    "a is b"
   ]
  },
  {
   "cell_type": "code",
   "execution_count": 114,
   "id": "valued-discussion",
   "metadata": {},
   "outputs": [
    {
     "data": {
      "text/plain": [
       "[1, 2, 42]"
      ]
     },
     "execution_count": 114,
     "metadata": {},
     "output_type": "execute_result"
    }
   ],
   "source": [
    "a = [1,2,3]\n",
    "b = a\n",
    "a[-1] = 42\n",
    "b"
   ]
  },
  {
   "cell_type": "code",
   "execution_count": 115,
   "id": "surrounded-airport",
   "metadata": {},
   "outputs": [
    {
     "data": {
      "text/plain": [
       "42"
      ]
     },
     "execution_count": 115,
     "metadata": {},
     "output_type": "execute_result"
    }
   ],
   "source": [
    "a[-1]"
   ]
  },
  {
   "cell_type": "code",
   "execution_count": 116,
   "id": "empty-novel",
   "metadata": {},
   "outputs": [
    {
     "data": {
      "text/plain": [
       "[1, 2, 42]"
      ]
     },
     "execution_count": 116,
     "metadata": {},
     "output_type": "execute_result"
    }
   ],
   "source": [
    "#pass by reference vs pass by value\n",
    "\n",
    "#pass by reference\n",
    "def make_end_42(t):\n",
    "    #change the last element of list t to 42\n",
    "    t[-1] = 42\n",
    "\n",
    "a = [1,2,3]\n",
    "make_end_42(a)\n",
    "a"
   ]
  },
  {
   "cell_type": "code",
   "execution_count": 117,
   "id": "typical-citizen",
   "metadata": {},
   "outputs": [
    {
     "data": {
      "text/plain": [
       "[1, 2, 3]"
      ]
     },
     "execution_count": 117,
     "metadata": {},
     "output_type": "execute_result"
    }
   ],
   "source": [
    "def wrong_make_end_42(t):\n",
    "    #change the last element of list t to 42 incorrectly\n",
    "    t = t[:-1] #create a ref to new list, t now points to new list, but has no effect for what a points to\n",
    "    t.append(42)\n",
    "\n",
    "a = [1,2,3]\n",
    "wrong_make_end_42(a)\n",
    "a"
   ]
  },
  {
   "cell_type": "code",
   "execution_count": 119,
   "id": "copyrighted-growth",
   "metadata": {},
   "outputs": [],
   "source": [
    "#dictionaries (and tuples)\n",
    "umid2name = dict()\n",
    "umid2name['aeinstein'] = 'Albert Einstein'\n",
    "umid2name['kyfan'] = 'Ky Fan'\n",
    "umid2name['enoether'] = 'Emily Noether'\n",
    "umid2name['cshannon'] = \"Claude Shannon\""
   ]
  },
  {
   "cell_type": "code",
   "execution_count": 120,
   "id": "becoming-nancy",
   "metadata": {},
   "outputs": [
    {
     "data": {
      "text/plain": [
       "'Claude Shannon'"
      ]
     },
     "execution_count": 120,
     "metadata": {},
     "output_type": "execute_result"
    }
   ],
   "source": [
    "umid2name['cshannon']"
   ]
  },
  {
   "cell_type": "code",
   "execution_count": 121,
   "id": "exact-bookmark",
   "metadata": {},
   "outputs": [],
   "source": [
    "umid2name['enoether'] = 'Amalie Enny Noether'"
   ]
  },
  {
   "cell_type": "code",
   "execution_count": 122,
   "id": "after-airline",
   "metadata": {},
   "outputs": [
    {
     "data": {
      "text/plain": [
       "'Amalie Enny Noether'"
      ]
     },
     "execution_count": 122,
     "metadata": {},
     "output_type": "execute_result"
    }
   ],
   "source": [
    "umid2name['enoether']"
   ]
  },
  {
   "cell_type": "code",
   "execution_count": 123,
   "id": "selective-journal",
   "metadata": {},
   "outputs": [
    {
     "data": {
      "text/plain": [
       "{'aeinstein': 'Albert Einstein',\n",
       " 'kyfan': 'Ky Fan',\n",
       " 'enoether': 'Amalie Enny Noether',\n",
       " 'cshannon': 'Claude Shannon'}"
      ]
     },
     "execution_count": 123,
     "metadata": {},
     "output_type": "execute_result"
    }
   ],
   "source": [
    "umid2name"
   ]
  },
  {
   "cell_type": "code",
   "execution_count": 124,
   "id": "supreme-circuit",
   "metadata": {},
   "outputs": [],
   "source": [
    "#dictionary no orders\n",
    "umid2name = {\n",
    "    'aeinstein' : 'Albert Einstein',\n",
    "    'kyfan' : 'Ky Fan',\n",
    "    'enoether' : 'Emily Noether',\n",
    "    'cshannon' : \"Claude Shannon\"\n",
    "}"
   ]
  },
  {
   "cell_type": "code",
   "execution_count": 125,
   "id": "cleared-sculpture",
   "metadata": {},
   "outputs": [
    {
     "data": {
      "text/plain": [
       "'Ky Fan'"
      ]
     },
     "execution_count": 125,
     "metadata": {},
     "output_type": "execute_result"
    }
   ],
   "source": [
    "umid2name['kyfan']"
   ]
  },
  {
   "cell_type": "code",
   "execution_count": 126,
   "id": "virtual-borough",
   "metadata": {},
   "outputs": [
    {
     "data": {
      "text/plain": [
       "4"
      ]
     },
     "execution_count": 126,
     "metadata": {},
     "output_type": "execute_result"
    }
   ],
   "source": [
    "len(umid2name)"
   ]
  },
  {
   "cell_type": "code",
   "execution_count": 128,
   "id": "threatened-cleaning",
   "metadata": {},
   "outputs": [
    {
     "data": {
      "text/plain": [
       "{'aeinstein': 'Albert Einstein',\n",
       " 'kyfan': 'Ky Fan',\n",
       " 'enoether': 'Emily Noether',\n",
       " 'cshannon': 'Claude Shannon'}"
      ]
     },
     "execution_count": 128,
     "metadata": {},
     "output_type": "execute_result"
    }
   ],
   "source": [
    "umid2name"
   ]
  },
  {
   "cell_type": "code",
   "execution_count": 129,
   "id": "aware-tuesday",
   "metadata": {},
   "outputs": [
    {
     "data": {
      "text/plain": [
       "False"
      ]
     },
     "execution_count": 129,
     "metadata": {},
     "output_type": "execute_result"
    }
   ],
   "source": [
    "#check if the key in the dict\n",
    "'akolmogorov' in umid2name"
   ]
  },
  {
   "cell_type": "code",
   "execution_count": 130,
   "id": "necessary-affair",
   "metadata": {},
   "outputs": [
    {
     "data": {
      "text/plain": [
       "True"
      ]
     },
     "execution_count": 130,
     "metadata": {},
     "output_type": "execute_result"
    }
   ],
   "source": [
    "'enoether' in umid2name"
   ]
  },
  {
   "cell_type": "code",
   "execution_count": 132,
   "id": "moderate-rogers",
   "metadata": {},
   "outputs": [],
   "source": [
    "#dict make look up fast\n",
    "from random import randint\n",
    "listlen = 1000000\n",
    "list_of_numbers = listlen*[0]\n",
    "dict_of_numbers = dict()\n",
    "for i in range(listlen):\n",
    "    n = randint(1000000,9999999)\n",
    "    list_of_numbers[i] = n\n",
    "    dict_of_numbers[n] = 1"
   ]
  },
  {
   "cell_type": "code",
   "execution_count": null,
   "id": "changed-gentleman",
   "metadata": {},
   "outputs": [],
   "source": []
  }
 ],
 "metadata": {
  "kernelspec": {
   "display_name": "Python 3",
   "language": "python",
   "name": "python3"
  },
  "language_info": {
   "codemirror_mode": {
    "name": "ipython",
    "version": 3
   },
   "file_extension": ".py",
   "mimetype": "text/x-python",
   "name": "python",
   "nbconvert_exporter": "python",
   "pygments_lexer": "ipython3",
   "version": "3.9.1"
  }
 },
 "nbformat": 4,
 "nbformat_minor": 5
}
