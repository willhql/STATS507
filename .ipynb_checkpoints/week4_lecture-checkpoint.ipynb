{
 "cells": [
  {
   "cell_type": "code",
   "execution_count": 5,
   "id": "referenced-panel",
   "metadata": {},
   "outputs": [],
   "source": [
    "#class: define your own data type\n",
    "class Point:\n",
    "    '''Represents a 2-d point'''\n",
    "\n",
    "class Rectangle:\n",
    "    '''Represents a rectangle whose \n",
    "    sides are parallel to the x and y axes.\n",
    "    Specified by its upper-laft corner,\n",
    "    height, and width'''"
   ]
  },
  {
   "cell_type": "code",
   "execution_count": 6,
   "id": "powered-summer",
   "metadata": {},
   "outputs": [],
   "source": [
    "p = Point(); p.x = 3.0; p.y = 4.0\n",
    "r = Rectangle()\n",
    "r.corner = p\n",
    "r.height = 5.0\n",
    "r.width = 12.0"
   ]
  },
  {
   "cell_type": "markdown",
   "id": "wrong-economics",
   "metadata": {},
   "source": [
    "<img src= \"pg13.png\" style=\"width:300px\"/>"
   ]
  },
  {
   "cell_type": "code",
   "execution_count": 10,
   "id": "rural-glucose",
   "metadata": {},
   "outputs": [],
   "source": [
    "#another way to do it\n",
    "r2 = Rectangle()\n",
    "r2.corner = Point()\n",
    "r2.corner.x = 3.0\n",
    "r2.corner.y = 4.0\n",
    "r2.height = 5.0\n",
    "r2.width = 12.0"
   ]
  },
  {
   "cell_type": "code",
   "execution_count": 14,
   "id": "regulation-discount",
   "metadata": {},
   "outputs": [
    {
     "data": {
      "text/plain": [
       "(5.0, 7.0)"
      ]
     },
     "execution_count": 14,
     "metadata": {},
     "output_type": "execute_result"
    }
   ],
   "source": [
    "#Objects are mutable\n",
    "p1 = Point(); p1.x = 3.0; p1.y = 4.0\n",
    "r1 = Rectangle()\n",
    "r1.corner = p1\n",
    "r1.height = 5.0;r1.width = 12.0\n",
    "r1.height = 2*r1.height\n",
    "\n",
    "def shift_rectangle(rec, dx, dy):\n",
    "    rec.corner.x = rec.corner.x + dx\n",
    "    rec.corner.y += dy\n",
    "\n",
    "shift_rectangle(r1, 2, 3)\n",
    "(r1.corner.x, r1.corner.y)"
   ]
  },
  {
   "cell_type": "code",
   "execution_count": 19,
   "id": "medium-vietnam",
   "metadata": {},
   "outputs": [
    {
     "data": {
      "text/plain": [
       "(20.0, 24.0)"
      ]
     },
     "execution_count": 19,
     "metadata": {},
     "output_type": "execute_result"
    }
   ],
   "source": [
    "def double_sides(r):\n",
    "    rdouble = Rectangle()\n",
    "    rdouble.corner = r.corner\n",
    "    rdouble.height = 2*r.height\n",
    "    rdouble.width = 2*r.width\n",
    "    return(rdouble)\n",
    "\n",
    "rd = double_sides(r1)\n",
    "rd.height, rd.width"
   ]
  },
  {
   "cell_type": "code",
   "execution_count": 20,
   "id": "tracked-reasoning",
   "metadata": {},
   "outputs": [
    {
     "data": {
      "text/plain": [
       "False"
      ]
     },
     "execution_count": 20,
     "metadata": {},
     "output_type": "execute_result"
    }
   ],
   "source": [
    "#copying and aliasing\n",
    "p1 = Point(); p1.x = 3.0; p1.y = 4.0\n",
    "import copy\n",
    "p2 = copy.copy(p1)\n",
    "p1 is p2"
   ]
  },
  {
   "cell_type": "code",
   "execution_count": 21,
   "id": "supported-business",
   "metadata": {},
   "outputs": [
    {
     "data": {
      "text/plain": [
       "False"
      ]
     },
     "execution_count": 21,
     "metadata": {},
     "output_type": "execute_result"
    }
   ],
   "source": [
    "p1 == p2#by default, we did not tell how to compare equvilent"
   ]
  },
  {
   "cell_type": "code",
   "execution_count": 22,
   "id": "rational-spice",
   "metadata": {},
   "outputs": [
    {
     "data": {
      "text/plain": [
       "True"
      ]
     },
     "execution_count": 22,
     "metadata": {},
     "output_type": "execute_result"
    }
   ],
   "source": [
    "r1 = Rectangle()\n",
    "r1.corner = p1\n",
    "r1.height = 5.0;r1.width = 12.0\n",
    "r2 = copy.copy(r1)\n",
    "\n",
    "r1.corner is r2.corner"
   ]
  },
  {
   "cell_type": "code",
   "execution_count": 23,
   "id": "unexpected-strike",
   "metadata": {},
   "outputs": [
    {
     "data": {
      "text/plain": [
       "False"
      ]
     },
     "execution_count": 23,
     "metadata": {},
     "output_type": "execute_result"
    }
   ],
   "source": [
    "#deepcopy\n",
    "r1 = Rectangle()\n",
    "r1.corner = p1\n",
    "r1.height = 5.0;r1.width = 12.0\n",
    "r2 = copy.deepcopy(r1)\n",
    "\n",
    "r1.corner is r2.corner"
   ]
  },
  {
   "cell_type": "code",
   "execution_count": 26,
   "id": "alpha-modern",
   "metadata": {},
   "outputs": [
    {
     "name": "stdout",
     "output_type": "stream",
     "text": [
      "02:34:56\n"
     ]
    }
   ],
   "source": [
    "#method:shows up inside of a class, very much like a function \n",
    "class Time:\n",
    "    '''Represents time on a 24 hour clock.\n",
    "    Attributes: int hours, int mins, int secs'''\n",
    "    def print_time(self):\n",
    "        print(\"%.2d:%.2d:%.2d\" % (self.hours, self.mins, self.secs))\n",
    "\n",
    "t = Time()\n",
    "t.hours=2; t.mins=34; t.secs=56\n",
    "t.print_time()"
   ]
  },
  {
   "cell_type": "code",
   "execution_count": 27,
   "id": "professional-persian",
   "metadata": {},
   "outputs": [
    {
     "data": {
      "text/plain": [
       "1337"
      ]
     },
     "execution_count": 27,
     "metadata": {},
     "output_type": "execute_result"
    }
   ],
   "source": [
    "#method:shows up inside of a class, very much like a function \n",
    "class Time:\n",
    "    '''Represents time on a 24 hour clock.\n",
    "    Attributes: int hours, int mins, int secs'''\n",
    "    def print_time(self):\n",
    "        print(\"%.2d:%.2d:%.2d\" % (self.hours, self.mins, self.secs))\n",
    "    \n",
    "    def time_to_int(self):\n",
    "        return(self.secs + 60*self.mins + 3600*self.hours)\n",
    "    \n",
    "def int_to_time(seconds):\n",
    "    '''convert a number of seconds to a Time object.'''\n",
    "    t = Time()\n",
    "    (minutes, t.secs) = divmod(seconds,60)\n",
    "    (hrs, t.mins) = divmod(minutes,60)\n",
    "    t.hours = hrs % 24 #military time\n",
    "    return t\n",
    "\n",
    "t = int_to_time(1337) #function\n",
    "t.time_to_int() #method"
   ]
  },
  {
   "cell_type": "code",
   "execution_count": 28,
   "id": "armed-brooklyn",
   "metadata": {},
   "outputs": [
    {
     "data": {
      "text/plain": [
       "2345"
      ]
     },
     "execution_count": 28,
     "metadata": {},
     "output_type": "execute_result"
    }
   ],
   "source": [
    "#method:shows up inside of a class, very much like a function \n",
    "class Time:\n",
    "    '''Represents time on a 24 hour clock.\n",
    "    Attributes: int hours, int mins, int secs'''\n",
    "    def print_time(self):\n",
    "        print(\"%.2d:%.2d:%.2d\" % (self.hours, self.mins, self.secs))\n",
    "    \n",
    "    def time_to_int(self):\n",
    "        return(self.secs + 60*self.mins + 3600*self.hours)\n",
    "    \n",
    "    def increment_pure(self, seconds):\n",
    "        '''Return new Time object representing this time\n",
    "        incremented by the given number of seconds.'''\n",
    "        t = Time()\n",
    "        t = int_to_time(self.time_to_int() + seconds)\n",
    "        return t\n",
    "    \n",
    "    def increment_modifier(self, seconds):\n",
    "        '''Increment this time by the given\n",
    "        number of seconds.'''\n",
    "        (mins, self.secs) = divmod(self.secs+seconds, 60)\n",
    "        (hours, self.mins) = divmod(self.mins+mins, 60)\n",
    "        self.hours = (self.hours + hours)%24\n",
    "def int_to_time(seconds):\n",
    "    '''convert a number of seconds to a Time object.'''\n",
    "    t = Time()\n",
    "    (minutes, t.secs) = divmod(seconds,60)\n",
    "    (hrs, t.mins) = divmod(minutes,60)\n",
    "    t.hours = hrs % 24 #military time\n",
    "    return t\n",
    "\n",
    "t1 = int_to_time(1234)\n",
    "t1.increment_modifier(1111)\n",
    "t1.time_to_int()"
   ]
  },
  {
   "cell_type": "code",
   "execution_count": 36,
   "id": "likely-albania",
   "metadata": {},
   "outputs": [
    {
     "name": "stdout",
     "output_type": "stream",
     "text": [
      "00:00:00\n"
     ]
    }
   ],
   "source": [
    "#create attribute at the same time you create a class object\n",
    "class Time:\n",
    "    '''Represents time on a 24 hour clock.\n",
    "    Attributes: int hours, int mins, int secs'''\n",
    "    \n",
    "    def __init__(self, hours = 0, mins=0, secs=0):\n",
    "        self.hours = hours\n",
    "        self.mins = mins\n",
    "        self.secs = secs\n",
    "        #print(\"%.2d:%.2d:%.2d\" % (self.hours, self.mins, self.secs))\n",
    "        \n",
    "    def print_time(self):\n",
    "        print(\"%.2d:%.2d:%.2d\" % (self.hours, self.mins, self.secs))\n",
    "\n",
    "t = Time();t.print_time()"
   ]
  },
  {
   "cell_type": "code",
   "execution_count": 31,
   "id": "least-chance",
   "metadata": {},
   "outputs": [
    {
     "name": "stdout",
     "output_type": "stream",
     "text": [
      "10:00:00\n"
     ]
    }
   ],
   "source": [
    "t = Time(10); t.print_time()"
   ]
  },
  {
   "cell_type": "code",
   "execution_count": 32,
   "id": "natural-strength",
   "metadata": {},
   "outputs": [
    {
     "name": "stdout",
     "output_type": "stream",
     "text": [
      "10:20:00\n"
     ]
    }
   ],
   "source": [
    "t = Time(10,20); t.print_time()"
   ]
  },
  {
   "cell_type": "code",
   "execution_count": 33,
   "id": "motivated-negative",
   "metadata": {},
   "outputs": [
    {
     "name": "stdout",
     "output_type": "stream",
     "text": [
      "10:20:30\n"
     ]
    }
   ],
   "source": [
    "t = Time(10,20,30); t.print_time()"
   ]
  },
  {
   "cell_type": "code",
   "execution_count": 39,
   "id": "involved-korean",
   "metadata": {},
   "outputs": [],
   "source": [
    "t = Time(10,35,40)"
   ]
  },
  {
   "cell_type": "code",
   "execution_count": 40,
   "id": "sunrise-tract",
   "metadata": {},
   "outputs": [
    {
     "name": "stdout",
     "output_type": "stream",
     "text": [
      "hours 10\n",
      "mins 35\n",
      "secs 40\n"
     ]
    }
   ],
   "source": [
    "for attr in vars(t):\n",
    "    print(attr, getattr(t,attr))"
   ]
  },
  {
   "cell_type": "code",
   "execution_count": 42,
   "id": "limited-camera",
   "metadata": {},
   "outputs": [
    {
     "name": "stdout",
     "output_type": "stream",
     "text": [
      "10:20:30\n"
     ]
    }
   ],
   "source": [
    "#__str__ method\n",
    "# return a string represent an object\n",
    "class Time:\n",
    "    '''Represents time on a 24 hour clock.\n",
    "    Attributes: int hours, int mins, int secs'''\n",
    "    \n",
    "    def __init__(self, hours = 0, mins=0, secs=0):\n",
    "        self.hours = hours\n",
    "        self.mins = mins\n",
    "        self.secs = secs\n",
    "        #print(\"%.2d:%.2d:%.2d\" % (self.hours, self.mins, self.secs))\n",
    "    def time_to_int(self):\n",
    "        return(self.secs + 60*self.mins + 3600*self.hours)\n",
    "    \n",
    "    def __str__(self):\n",
    "        return(\"%.2d:%.2d:%.2d\" % (self.hours, self.mins, self.secs))\n",
    "\n",
    "    def __add__(self,other):\n",
    "        '''Add other to this time, return result'''\n",
    "        s = self.time_to_int() + other.time_to_int()\n",
    "        return(int_to_time(s))\n",
    "def int_to_time(seconds):\n",
    "    '''convert a number of seconds to a Time object.'''\n",
    "    t = Time()\n",
    "    (minutes, t.secs) = divmod(seconds,60)\n",
    "    (hrs, t.mins) = divmod(minutes,60)\n",
    "    t.hours = hrs % 24 #military time\n",
    "    return t\n",
    "\n",
    "\n",
    "t = Time(10,20,30)\n",
    "print(t)"
   ]
  },
  {
   "cell_type": "code",
   "execution_count": 43,
   "id": "uniform-bottom",
   "metadata": {},
   "outputs": [
    {
     "name": "stdout",
     "output_type": "stream",
     "text": [
      "12:20:11\n"
     ]
    }
   ],
   "source": [
    "t1 = Time(11,15,10); t2 = Time(1,5,1)\n",
    "print(t1+t2)"
   ]
  },
  {
   "cell_type": "code",
   "execution_count": 45,
   "id": "outstanding-mumbai",
   "metadata": {},
   "outputs": [
    {
     "name": "stdout",
     "output_type": "stream",
     "text": [
      "11:15:10\n"
     ]
    }
   ],
   "source": [
    "print(t1)"
   ]
  },
  {
   "cell_type": "code",
   "execution_count": 46,
   "id": "loving-wealth",
   "metadata": {},
   "outputs": [
    {
     "name": "stdout",
     "output_type": "stream",
     "text": [
      "01:05:01\n"
     ]
    }
   ],
   "source": [
    "print(t2)"
   ]
  },
  {
   "cell_type": "code",
   "execution_count": 47,
   "id": "earlier-roulette",
   "metadata": {},
   "outputs": [
    {
     "ename": "AttributeError",
     "evalue": "'int' object has no attribute 'time_to_int'",
     "output_type": "error",
     "traceback": [
      "\u001b[0;31m---------------------------------------------------------------------------\u001b[0m",
      "\u001b[0;31mAttributeError\u001b[0m                            Traceback (most recent call last)",
      "\u001b[0;32m<ipython-input-47-382bcc62bbb9>\u001b[0m in \u001b[0;36m<module>\u001b[0;34m\u001b[0m\n\u001b[0;32m----> 1\u001b[0;31m \u001b[0mprint\u001b[0m\u001b[0;34m(\u001b[0m\u001b[0mt1\u001b[0m \u001b[0;34m+\u001b[0m \u001b[0;36m60\u001b[0m\u001b[0;34m)\u001b[0m\u001b[0;34m\u001b[0m\u001b[0;34m\u001b[0m\u001b[0m\n\u001b[0m",
      "\u001b[0;32m<ipython-input-42-e87cf90052a0>\u001b[0m in \u001b[0;36m__add__\u001b[0;34m(self, other)\u001b[0m\n\u001b[1;32m     18\u001b[0m     \u001b[0;32mdef\u001b[0m \u001b[0m__add__\u001b[0m\u001b[0;34m(\u001b[0m\u001b[0mself\u001b[0m\u001b[0;34m,\u001b[0m\u001b[0mother\u001b[0m\u001b[0;34m)\u001b[0m\u001b[0;34m:\u001b[0m\u001b[0;34m\u001b[0m\u001b[0;34m\u001b[0m\u001b[0m\n\u001b[1;32m     19\u001b[0m         \u001b[0;34m'''Add other to this time, return result'''\u001b[0m\u001b[0;34m\u001b[0m\u001b[0;34m\u001b[0m\u001b[0m\n\u001b[0;32m---> 20\u001b[0;31m         \u001b[0ms\u001b[0m \u001b[0;34m=\u001b[0m \u001b[0mself\u001b[0m\u001b[0;34m.\u001b[0m\u001b[0mtime_to_int\u001b[0m\u001b[0;34m(\u001b[0m\u001b[0;34m)\u001b[0m \u001b[0;34m+\u001b[0m \u001b[0mother\u001b[0m\u001b[0;34m.\u001b[0m\u001b[0mtime_to_int\u001b[0m\u001b[0;34m(\u001b[0m\u001b[0;34m)\u001b[0m\u001b[0;34m\u001b[0m\u001b[0;34m\u001b[0m\u001b[0m\n\u001b[0m\u001b[1;32m     21\u001b[0m         \u001b[0;32mreturn\u001b[0m\u001b[0;34m(\u001b[0m\u001b[0mint_to_time\u001b[0m\u001b[0;34m(\u001b[0m\u001b[0ms\u001b[0m\u001b[0;34m)\u001b[0m\u001b[0;34m)\u001b[0m\u001b[0;34m\u001b[0m\u001b[0;34m\u001b[0m\u001b[0m\n\u001b[1;32m     22\u001b[0m \u001b[0;32mdef\u001b[0m \u001b[0mint_to_time\u001b[0m\u001b[0;34m(\u001b[0m\u001b[0mseconds\u001b[0m\u001b[0;34m)\u001b[0m\u001b[0;34m:\u001b[0m\u001b[0;34m\u001b[0m\u001b[0;34m\u001b[0m\u001b[0m\n",
      "\u001b[0;31mAttributeError\u001b[0m: 'int' object has no attribute 'time_to_int'"
     ]
    }
   ],
   "source": [
    "print(t1 + 60)"
   ]
  },
  {
   "cell_type": "code",
   "execution_count": 48,
   "id": "quiet-diabetes",
   "metadata": {},
   "outputs": [],
   "source": [
    "#__str__ method\n",
    "# return a string represent an object\n",
    "class Time:\n",
    "    '''Represents time on a 24 hour clock.\n",
    "    Attributes: int hours, int mins, int secs'''\n",
    "    \n",
    "    def __init__(self, hours = 0, mins=0, secs=0):\n",
    "        self.hours = hours\n",
    "        self.mins = mins\n",
    "        self.secs = secs\n",
    "        #print(\"%.2d:%.2d:%.2d\" % (self.hours, self.mins, self.secs))\n",
    "    def time_to_int(self):\n",
    "        return(self.secs + 60*self.mins + 3600*self.hours)\n",
    "    \n",
    "    def __str__(self):\n",
    "        return(\"%.2d:%.2d:%.2d\" % (self.hours, self.mins, self.secs))\n",
    "\n",
    "    def __add__(self,other):\n",
    "        '''Add other to this time, return result'''\n",
    "        if isinstance(other,Time):\n",
    "            s = self.time_to_int() + other.time_to_int()\n",
    "            return(int_to_time(s))\n",
    "        elif isinstance(other,int):\n",
    "            s = self.time_to_int() + other\n",
    "            return(int_to_time(s))\n",
    "        else:\n",
    "            raise TypeError('Invalid type.')\n",
    "def int_to_time(seconds):\n",
    "    '''convert a number of seconds to a Time object.'''\n",
    "    t = Time()\n",
    "    (minutes, t.secs) = divmod(seconds,60)\n",
    "    (hrs, t.mins) = divmod(minutes,60)\n",
    "    t.hours = hrs % 24 #military time\n",
    "    return t\n"
   ]
  },
  {
   "cell_type": "code",
   "execution_count": 50,
   "id": "whole-gross",
   "metadata": {},
   "outputs": [
    {
     "name": "stdout",
     "output_type": "stream",
     "text": [
      "11:16:10\n"
     ]
    }
   ],
   "source": [
    "t1 = Time(11,15,10)\n",
    "print(t1 + 60)"
   ]
  },
  {
   "cell_type": "code",
   "execution_count": 51,
   "id": "looking-ministry",
   "metadata": {},
   "outputs": [
    {
     "ename": "TypeError",
     "evalue": "unsupported operand type(s) for +: 'int' and 'Time'",
     "output_type": "error",
     "traceback": [
      "\u001b[0;31m---------------------------------------------------------------------------\u001b[0m",
      "\u001b[0;31mTypeError\u001b[0m                                 Traceback (most recent call last)",
      "\u001b[0;32m<ipython-input-51-e928552deff4>\u001b[0m in \u001b[0;36m<module>\u001b[0;34m\u001b[0m\n\u001b[0;32m----> 1\u001b[0;31m \u001b[0mprint\u001b[0m\u001b[0;34m(\u001b[0m\u001b[0;36m60\u001b[0m \u001b[0;34m+\u001b[0m \u001b[0mt1\u001b[0m\u001b[0;34m)\u001b[0m\u001b[0;34m\u001b[0m\u001b[0;34m\u001b[0m\u001b[0m\n\u001b[0m",
      "\u001b[0;31mTypeError\u001b[0m: unsupported operand type(s) for +: 'int' and 'Time'"
     ]
    }
   ],
   "source": [
    "print(60 + t1)"
   ]
  },
  {
   "cell_type": "code",
   "execution_count": 53,
   "id": "relevant-terrorist",
   "metadata": {},
   "outputs": [],
   "source": [
    "#solution: radd\n",
    "#__str__ method\n",
    "# return a string represent an object\n",
    "class Time:\n",
    "    '''Represents time on a 24 hour clock.\n",
    "    Attributes: int hours, int mins, int secs'''\n",
    "    \n",
    "    def __init__(self, hours = 0, mins=0, secs=0):\n",
    "        self.hours = hours\n",
    "        self.mins = mins\n",
    "        self.secs = secs\n",
    "        #print(\"%.2d:%.2d:%.2d\" % (self.hours, self.mins, self.secs))\n",
    "    def time_to_int(self):\n",
    "        return(self.secs + 60*self.mins + 3600*self.hours)\n",
    "    \n",
    "    def __str__(self):\n",
    "        return(\"%.2d:%.2d:%.2d\" % (self.hours, self.mins, self.secs))\n",
    "    \n",
    "    def __radd__(self, other):\n",
    "        return self.__add__(other)\n",
    "    \n",
    "    def __add__(self,other):\n",
    "        '''Add other to this time, return result'''\n",
    "        if isinstance(other,Time):\n",
    "            s = self.time_to_int() + other.time_to_int()\n",
    "            return(int_to_time(s))\n",
    "        elif isinstance(other,int):\n",
    "            s = self.time_to_int() + other\n",
    "            return(int_to_time(s))\n",
    "        else:\n",
    "            raise TypeError('Invalid type.')\n",
    "def int_to_time(seconds):\n",
    "    '''convert a number of seconds to a Time object.'''\n",
    "    t = Time()\n",
    "    (minutes, t.secs) = divmod(seconds,60)\n",
    "    (hrs, t.mins) = divmod(minutes,60)\n",
    "    t.hours = hrs % 24 #military time\n",
    "    return t\n",
    "\n"
   ]
  },
  {
   "cell_type": "code",
   "execution_count": 54,
   "id": "tested-brooks",
   "metadata": {},
   "outputs": [
    {
     "name": "stdout",
     "output_type": "stream",
     "text": [
      "11:16:10\n"
     ]
    }
   ],
   "source": [
    "t1 = Time(11,15,10)\n",
    "print(60 + t1)\n"
   ]
  },
  {
   "cell_type": "code",
   "execution_count": 55,
   "id": "supported-sequence",
   "metadata": {},
   "outputs": [
    {
     "name": "stdout",
     "output_type": "stream",
     "text": [
      "11:16:10\n"
     ]
    }
   ],
   "source": [
    "print(t1 +60)"
   ]
  },
  {
   "cell_type": "code",
   "execution_count": 59,
   "id": "nuclear-america",
   "metadata": {},
   "outputs": [
    {
     "data": {
      "text/plain": [
       "{'a': 1, 'p': 2, 'l': 1, 'e': 1}"
      ]
     },
     "execution_count": 59,
     "metadata": {},
     "output_type": "execute_result"
    }
   ],
   "source": [
    "#polymorphism\n",
    "def hist(s):\n",
    "    h = dict()\n",
    "    for x in s:\n",
    "        h[x] = h.get(x,0)+1 #dictionary.get(keyname, value)\n",
    "                            #value: Optional. A value to return if the specified key does not exist.\n",
    "    return h\n",
    "\n",
    "hist('apple')"
   ]
  },
  {
   "cell_type": "code",
   "execution_count": 57,
   "id": "facial-denmark",
   "metadata": {},
   "outputs": [
    {
     "data": {
      "text/plain": [
       "{'g': 1, 'a': 3, 't': 2, 'c': 1}"
      ]
     },
     "execution_count": 57,
     "metadata": {},
     "output_type": "execute_result"
    }
   ],
   "source": [
    "hist(list('gattaca'))"
   ]
  },
  {
   "cell_type": "code",
   "execution_count": 58,
   "id": "clean-settle",
   "metadata": {},
   "outputs": [
    {
     "data": {
      "text/plain": [
       "{1: 2, 2: 1, 3: 1, 5: 1, 8: 1}"
      ]
     },
     "execution_count": 58,
     "metadata": {},
     "output_type": "execute_result"
    }
   ],
   "source": [
    "hist((1,1,2,3,5,8))"
   ]
  },
  {
   "cell_type": "code",
   "execution_count": 63,
   "id": "alpha-digest",
   "metadata": {},
   "outputs": [],
   "source": [
    "#inheritance\n",
    "class Card:\n",
    "    '''Represents a playing car'''\n",
    "    def __init__(self,suit=0,rank=2):\n",
    "        self.suit = suit\n",
    "        self.rank = rank"
   ]
  },
  {
   "cell_type": "markdown",
   "id": "rough-sigma",
   "metadata": {},
   "source": [
    "<img src= \"poker.png\" style=\"height:200px\"/>"
   ]
  },
  {
   "cell_type": "code",
   "execution_count": 65,
   "id": "divided-clerk",
   "metadata": {},
   "outputs": [
    {
     "name": "stdout",
     "output_type": "stream",
     "text": [
      "Ace of Spades\n"
     ]
    }
   ],
   "source": [
    "#inheritance\n",
    "class Card:\n",
    "    '''Represents a playing car'''\n",
    "    \n",
    "    suit_names = ['Spades', 'Hearts', 'Clubs', 'Diamonds']\n",
    "    rank_names = [None, 'Ace','2','3','4','5','6','7','8','9','10',\n",
    "                 'Jack','Queen','King']\n",
    "    \n",
    "    def __init__(self,suit=0,rank=2):\n",
    "        self.suit = suit\n",
    "        self.rank = rank\n",
    "    \n",
    "    def __str__(self):\n",
    "        rankstr = self.rank_names[self.rank]\n",
    "        suitstr = self.suit_names[self.suit]\n",
    "        return(\"%s of %s\" % (rankstr, suitstr))\n",
    "\n",
    "print(Card(0,1))"
   ]
  },
  {
   "cell_type": "code",
   "execution_count": 69,
   "id": "linear-comment",
   "metadata": {},
   "outputs": [
    {
     "data": {
      "text/plain": [
       "True"
      ]
     },
     "execution_count": 69,
     "metadata": {},
     "output_type": "execute_result"
    }
   ],
   "source": [
    "#inheritance\n",
    "class Card:\n",
    "    '''Represents a playing car'''\n",
    "    \n",
    "    suit_names = ['Spades', 'Hearts', 'Clubs', 'Diamonds']\n",
    "    rank_names = [None, 'Ace','2','3','4','5','6','7','8','9','10',\n",
    "                 'Jack','Queen','King']\n",
    "    \n",
    "    def __init__(self,suit=0,rank=2):\n",
    "        self.suit = suit\n",
    "        self.rank = rank\n",
    "    \n",
    "    def __str__(self):\n",
    "        rankstr = self.rank_names[self.rank]\n",
    "        suitstr = self.suit_names[self.suit]\n",
    "        return(\"%s of %s\" % (rankstr, suitstr))\n",
    "\n",
    "    def __lt__(self, other):\n",
    "        t1 = (self.rank, self.suit)\n",
    "        t2 = (other.rank, other.suit)\n",
    "        return t1 < t2\n",
    "    \n",
    "    def __gt__(self, other):\n",
    "        return other < self\n",
    "    \n",
    "    def __eq__(self, other):\n",
    "        return(self.rank == other.rank and self.suit == other.suit)\n",
    "c1 = Card(2,1); c2 = Card(2,12)\n",
    "c1<c2"
   ]
  },
  {
   "cell_type": "code",
   "execution_count": 67,
   "id": "conservative-party",
   "metadata": {},
   "outputs": [
    {
     "data": {
      "text/plain": [
       "False"
      ]
     },
     "execution_count": 67,
     "metadata": {},
     "output_type": "execute_result"
    }
   ],
   "source": [
    "c3 = Card(1,11)\n",
    "c1 < c3"
   ]
  },
  {
   "cell_type": "code",
   "execution_count": 68,
   "id": "humanitarian-lightning",
   "metadata": {},
   "outputs": [
    {
     "data": {
      "text/plain": [
       "True"
      ]
     },
     "execution_count": 68,
     "metadata": {},
     "output_type": "execute_result"
    }
   ],
   "source": [
    "c1 == Card(2,11)"
   ]
  },
  {
   "cell_type": "code",
   "execution_count": 76,
   "id": "academic-newark",
   "metadata": {},
   "outputs": [],
   "source": [
    "import random\n",
    "class Deck:\n",
    "    '''Represents a deck of cards'''\n",
    "    def __init__(self):\n",
    "        self.cards = list()\n",
    "        for suit in range(4):\n",
    "            for rank in range(1,14):\n",
    "                card = Card(suit, rank)\n",
    "                self.cards.append(card)\n",
    "    def __str__(self):\n",
    "        res = list()\n",
    "        for c in self.cards:\n",
    "            res.append(str(c))\n",
    "        return('\\n'.join(res))\n",
    "    \n",
    "    def pop_card(self):\n",
    "        return(self.cards.pop())\n",
    "    def add_card(self,c):\n",
    "        self.cards.append(c)\n",
    "    def shuffle(self):\n",
    "        random.shuffle(self.cards)\n",
    "        \n",
    "    def move_cards(self, hand, ncards):\n",
    "        for i in range(ncards):\n",
    "            hand.add_card(self.pop_card())"
   ]
  },
  {
   "cell_type": "code",
   "execution_count": 73,
   "id": "intended-filling",
   "metadata": {},
   "outputs": [
    {
     "name": "stdout",
     "output_type": "stream",
     "text": [
      "6 of Clubs\n",
      "9 of Clubs\n",
      "7 of Spades\n",
      "Ace of Clubs\n",
      "Ace of Hearts\n",
      "3 of Spades\n",
      "2 of Diamonds\n",
      "10 of Hearts\n",
      "2 of Spades\n",
      "9 of Diamonds\n",
      "8 of Diamonds\n",
      "5 of Diamonds\n",
      "3 of Hearts\n",
      "Jack of Diamonds\n",
      "King of Clubs\n",
      "Queen of Clubs\n",
      "6 of Diamonds\n",
      "5 of Spades\n",
      "9 of Spades\n",
      "King of Diamonds\n",
      "4 of Clubs\n",
      "2 of Hearts\n",
      "5 of Hearts\n",
      "Jack of Spades\n",
      "10 of Clubs\n",
      "2 of Clubs\n",
      "10 of Diamonds\n",
      "7 of Clubs\n",
      "8 of Spades\n",
      "9 of Hearts\n",
      "8 of Hearts\n",
      "Jack of Hearts\n",
      "4 of Diamonds\n",
      "Jack of Clubs\n",
      "3 of Clubs\n",
      "4 of Hearts\n",
      "6 of Hearts\n",
      "5 of Clubs\n",
      "4 of Spades\n",
      "10 of Spades\n",
      "King of Hearts\n",
      "7 of Diamonds\n",
      "3 of Diamonds\n",
      "Ace of Diamonds\n",
      "6 of Spades\n",
      "7 of Hearts\n",
      "8 of Clubs\n",
      "Ace of Spades\n",
      "Queen of Spades\n",
      "Queen of Diamonds\n",
      "King of Spades\n",
      "Queen of Hearts\n"
     ]
    }
   ],
   "source": [
    "d = Deck()\n",
    "d.shuffle()\n",
    "print(d)"
   ]
  },
  {
   "cell_type": "code",
   "execution_count": 75,
   "id": "surprising-resource",
   "metadata": {},
   "outputs": [
    {
     "name": "stdout",
     "output_type": "stream",
     "text": [
      "Queen of Hearts\n"
     ]
    }
   ],
   "source": [
    "# use inheritance to get a hand of cards\n",
    "class Hand(Deck):\n",
    "    '''Represents a hand of cards'''\n",
    "    def __init__(self, label=''):\n",
    "        self.cards = list()\n",
    "        self.label= label\n",
    "        \n",
    "h = Hand('new hand')\n",
    "#h.shuffle()#Hand can use methods in Deck\n",
    "d = Deck()\n",
    "d.shuffle()\n",
    "h.add_card(d.pop_card())\n",
    "print(h)"
   ]
  },
  {
   "cell_type": "code",
   "execution_count": 77,
   "id": "painful-eagle",
   "metadata": {},
   "outputs": [
    {
     "name": "stdout",
     "output_type": "stream",
     "text": [
      "Ace of Spades\n",
      "Ace of Diamonds\n",
      "King of Spades\n",
      "3 of Diamonds\n",
      "Ace of Clubs\n"
     ]
    }
   ],
   "source": [
    "d = Deck(); d.shuffle()\n",
    "h = Hand()\n",
    "d.move_cards(h,5)\n",
    "print(h)"
   ]
  },
  {
   "cell_type": "code",
   "execution_count": null,
   "id": "collaborative-retrieval",
   "metadata": {},
   "outputs": [],
   "source": []
  },
  {
   "cell_type": "code",
   "execution_count": null,
   "id": "random-patent",
   "metadata": {},
   "outputs": [],
   "source": []
  }
 ],
 "metadata": {
  "kernelspec": {
   "display_name": "Python 3",
   "language": "python",
   "name": "python3"
  },
  "language_info": {
   "codemirror_mode": {
    "name": "ipython",
    "version": 3
   },
   "file_extension": ".py",
   "mimetype": "text/x-python",
   "name": "python",
   "nbconvert_exporter": "python",
   "pygments_lexer": "ipython3",
   "version": "3.9.1"
  }
 },
 "nbformat": 4,
 "nbformat_minor": 5
}
